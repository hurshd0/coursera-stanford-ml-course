{
 "cells": [
  {
   "cell_type": "code",
   "execution_count": 1,
   "metadata": {
    "ExecuteTime": {
     "end_time": "2019-03-17T22:07:06.550693Z",
     "start_time": "2019-03-17T22:07:05.163224Z"
    }
   },
   "outputs": [],
   "source": [
    "%matplotlib inline\n",
    "import numpy as np\n",
    "import pandas as pd\n",
    "import matplotlib.pyplot as plt\n",
    "import seaborn as sns\n",
    "sns.set()\n",
    "from ipywidgets import interact"
   ]
  },
  {
   "cell_type": "markdown",
   "metadata": {},
   "source": [
    "# Week 1"
   ]
  },
  {
   "cell_type": "markdown",
   "metadata": {},
   "source": [
    "## Contents"
   ]
  },
  {
   "cell_type": "markdown",
   "metadata": {},
   "source": [
    "## What is Machine Learning(ML)?\n",
    "\n",
    "There are two definitions of ML, \n",
    "\n",
    "1. Offered by Arthur Samuel as,\n",
    "> \"The field of study that gives computers the ability to learn without being explicitly programmed.\"\n",
    "\n",
    "This is an older version of the definition and quite informal one at that.\n",
    "\n",
    "2. Offered by Tom Mitchell, a more concise and formal,\n",
    "> \"A computer program is said to learn from experience E with respect to some class of tasks T and performance measure P, if its performance at tasks in T, as measured by P, improves with experience E.\"\n",
    "\n",
    "\n",
    "**For example:** playing chess/checkers or take any board games,\n",
    "\n",
    "E = the experience of the playing many games of chess\n",
    "\n",
    "T = task of playing chess\n",
    "\n",
    "P = the probability that the program will win the next game of chess against new opponents.\n",
    "\n",
    "**Another example:** Predicing Housing Prices\n",
    "\n",
    "E (Input Data): Housing Prices\n",
    "\n",
    "T (Task): Predict prices\n",
    "\n",
    "P (Performance): Accurate prices\n",
    "\n",
    "$$E \\cdot T = P$$"
   ]
  },
  {
   "cell_type": "markdown",
   "metadata": {},
   "source": [
    "**In Short:** We can say the process of learning begins with experience **E** i.e. observations or data collected, and task **T** looks for patterns in that data, and applies performance measure **P** to make better decisions in the future based on the examples of experience we provide."
   ]
  },
  {
   "cell_type": "markdown",
   "metadata": {},
   "source": [
    "## Supervised Learning\n",
    "\n",
    "In supervised learning, we are given a data set and already know what our correct output should look like, having the idea that there is a relationship between the input and the output.\n",
    "\n",
    "Supervised learning problems are categorized into *regression* and *classification* problems. In a regression problem, we are trying to predict results within a continuous output, meaning that we are trying to map input variables to some continuous function. In a classification problem, we are instead trying to predict results in a discrete output. In other words, we are trying to map input variables into discrete categories.\n",
    "\n",
    "\n",
    "\n",
    "Example 1:\n",
    "\n",
    "Given data about the size of houses on the real estate market, try to predict their price. Price as a function of size is a continuous output, so this is a regression problem.\n",
    "\n",
    "We could turn this example into a classification problem by instead making our output about whether the house \"sells for more or less than the asking price.\" Here we are classifying the houses based on price into two discrete categories.\n",
    "\n",
    "Example 2:\n",
    "\n",
    "(a) Regression - Given a picture of a person, we have to predict their age on the basis of the given picture\n",
    "\n",
    "(b) Classification - Given a patient with a tumor, we have to predict whether the tumor is malignant or benign."
   ]
  },
  {
   "cell_type": "markdown",
   "metadata": {},
   "source": [
    "## Unsupervised Learning\n",
    "\n",
    "Unsupervised learning allows us to approach problems with little or no idea what our results should look like. We can derive structure from data where we don't necessarily know the effect of the variables.\n",
    "\n",
    "We can derive this structure by clustering the data based on relationships among the variables in the data.\n",
    "\n",
    "With unsupervised learning there is no feedback based on the prediction results.\n",
    "\n",
    "Example:\n",
    "\n",
    "Clustering: Take a collection of 1,000,000 different genes, and find a way to automatically group these genes into groups that are somehow similar or related by different variables, such as lifespan, location, roles, and so on.\n",
    "\n",
    "Non-clustering: The \"Cocktail Party Algorithm\", allows you to find structure in a chaotic environment. (i.e. identifying individual voices and music from a mesh of sounds at a [cocktail party](https://en.wikipedia.org/wiki/Cocktail_party_effect))."
   ]
  },
  {
   "cell_type": "markdown",
   "metadata": {},
   "source": [
    "## Model and Cost Function"
   ]
  },
  {
   "cell_type": "markdown",
   "metadata": {},
   "source": [
    "### Model Reprensentation\n",
    "\n",
    "To establish notation for future use, we'll use $x^{(i)}x(i)$ to denote the \"input\" variables (living area in this example), also called input features, and $y^{(i)}y(i)$ to denote the \"output\" or target variable that we are trying to predict (price). A pair $(x^{(i)} , y^{(i)} )$ is called a training example, and the dataset that we'll be using to learn $-$ a list of $m$ training examples $(x^{(i)}x(i));i=1,...,m$ \\- is called a training set. Note that the superscript \"(i)\" in the notation is simply an index into the training set, and has nothing to do with exponentiation. We will also use X to denote the space of input values, and Y to denote the space of output values. In this example, $X = Y = \\Re$.\n",
    "\n",
    "To describe the supervised learning problem slightly more formally, our goal is, given a training set, to learn a function $h : X → Y$ so that $h(x)$ is a \"good\" predictor for the corresponding value of y. For historical reasons, this function h is called a hypothesis. Seen pictorially, the process is therefore like this:\n",
    "\n",
    "![](https://d3c33hcgiwev3.cloudfront.net/imageAssetProxy.v1/H6qTdZmYEeaagxL7xdFKxA_2f0f671110e8f7446bb2b5b2f75a8874_Screenshot-2016-10-23-20.14.58.png?expiry=1552953600000&hmac=6YTb81R0Zjib1PpzRqixlSW0UI7SD8Jcb_eDx0j5uPg)\n",
    "\n",
    "When the target variable that we're trying to predict is continuous, such as in our housing example, we call the learning problem a regression problem. When y can take on only a small number of discrete values (such as if, given the living area, we wanted to predict if a dwelling is a house or an apartment, say), we call it a classification problem.\n"
   ]
  },
  {
   "cell_type": "markdown",
   "metadata": {
    "ExecuteTime": {
     "end_time": "2019-03-17T19:20:48.650819Z",
     "start_time": "2019-03-17T19:20:48.504892Z"
    }
   },
   "source": [
    "### Cost Function\n",
    "\n",
    "We can measure the accuracy of our hypothesis function by using a cost function. This takes an average difference (actually a fancier version of an average) of all the results of the hypothesis with inputs from x's and the actual output y's.\n",
    "\n",
    "$$J(\\theta_0, \\theta_1) = \\dfrac {1}{2m} \\displaystyle \\sum_{i=1}^m \\left ( \\hat{y}_{i}- y_{i} \\right)^2 = \\dfrac {1}{2m} \\displaystyle \\sum_{i=1}^m \\left (h_\\theta (x_{i}) - y_{i} \\right)^2$$\n",
    "\n",
    "To break it apart, it is $\\frac{1}{2}\\bar{x}$ where $\\bar{x}$ is the mean of the squares of $h_\\theta(x_{i}) - y_{i}$, or the difference between the predicted value and the actual value.\n",
    "\n",
    "This function is otherwise called the \"Squared error function\", or \"Mean squared error\". The mean is halved $\\left(\\frac{1}{2}\\right)$ as a convenience for the computation of the gradient descent, as the derivative term of the square function will cancel out the $\\frac{1}{2}$ term. The following image summarizes what the cost function does:\n",
    "\n",
    "![](https://d3c33hcgiwev3.cloudfront.net/imageAssetProxy.v1/R2YF5Lj3EeajLxLfjQiSjg_110c901f58043f995a35b31431935290_Screen-Shot-2016-12-02-at-5.23.31-PM.png?expiry=1552953600000&hmac=6nCfKeFJPgK_LMVIgmsNd0VmDVxJGTCKHQlreQNPEMo)"
   ]
  },
  {
   "cell_type": "code",
   "execution_count": 66,
   "metadata": {
    "ExecuteTime": {
     "end_time": "2019-03-17T23:47:11.184886Z",
     "start_time": "2019-03-17T23:47:10.542836Z"
    }
   },
   "outputs": [
    {
     "data": {
      "application/vnd.jupyter.widget-view+json": {
       "model_id": "2c40bd67ae9147d0a11c60a8d3afe44a",
       "version_major": 2,
       "version_minor": 0
      },
      "text/plain": [
       "interactive(children=(FloatSlider(value=1.0, description='theta0', max=3.0, step=0.5), FloatSlider(value=1.0, …"
      ]
     },
     "metadata": {},
     "output_type": "display_data"
    }
   ],
   "source": [
    "# Generate synthetic data to try to fit the best line with theta_0 and theta_1\n",
    "size = 50 # sample size\n",
    "beta_0 = 2.5 # actual y-intercept\n",
    "beta_1 = 0.5 # actual slope\n",
    "data = {}\n",
    "data[\"x\"] = np.random.normal(loc=3, scale=15, size=size) # spread of data\n",
    "data[\"e\"] = np.random.normal(loc=0, scale=4.5, size=size) # noise in data\n",
    "data[\"y\"] = beta_0 + data[\"x\"] * beta_1 + data[\"e\"] # actual values\n",
    "data = pd.DataFrame(data)\n",
    "\n",
    "@interact(theta0=(0, 3, 0.5), theta1=(0, 3, 0.5))\n",
    "def lineplt(theta0, theta1):\n",
    "    x = np.arange(-20, 20, 0.1)\n",
    "    plt.scatter(data.x, data.y)\n",
    "    plt.plot(x, theta1*x + theta0)\n",
    "    plt.xlabel('x')\n",
    "    plt.ylabel('y')\n",
    "    plt.title(r'$h(x)=\\theta_{0} + \\theta_{1}*x$')\n",
    "    plt.ylim([-20, 20])\n",
    "    plt.xlim([-20, 20])\n",
    "    plt.show()"
   ]
  },
  {
   "cell_type": "code",
   "execution_count": 56,
   "metadata": {
    "ExecuteTime": {
     "end_time": "2019-03-17T23:43:15.614946Z",
     "start_time": "2019-03-17T23:43:15.602278Z"
    }
   },
   "outputs": [
    {
     "data": {
      "text/plain": [
       "4"
      ]
     },
     "execution_count": 56,
     "metadata": {},
     "output_type": "execute_result"
    }
   ],
   "source": [
    "2**2"
   ]
  },
  {
   "cell_type": "code",
   "execution_count": 64,
   "metadata": {
    "ExecuteTime": {
     "end_time": "2019-03-17T23:46:53.753502Z",
     "start_time": "2019-03-17T23:46:53.348078Z"
    }
   },
   "outputs": [
    {
     "data": {
      "image/png": "[encoded data removed]",
      "text/plain": [
       "<Figure size 432x288 with 1 Axes>"
      ]
     },
     "metadata": {
      "needs_background": "light"
     },
     "output_type": "display_data"
    }
   ],
   "source": [
    "def cost_function(data, theta0, theta1):\n",
    "    return (1/(2*len(data.x)))*np.sum(((theta0 + theta1*data.x)-data.y)**2)\n",
    "\n",
    "theta1= np.arange(-3, 4, 0.5)\n",
    "costs = []\n",
    "for i in theta1:\n",
    "    costs.append(cost_function(data, 0, i))\n",
    "costs = np.array(costs)\n",
    "plt.plot(theta1, costs)\n",
    "plt.title('Simplified Cost function')\n",
    "plt.ylabel(r'$J(\\theta_1)$')\n",
    "plt.xlabel(r'$\\theta_1$')\n",
    "plt.axvline(0.5);"
   ]
  },
  {
   "cell_type": "markdown",
   "metadata": {},
   "source": [
    "So, from above cost function plot we can verify the best $\\theta_1$ value is 0.5, compare that to actual $\\beta_0$ is really 0.5, so the cost function does it jobs in minimizing the error. "
   ]
  },
  {
   "cell_type": "code",
   "execution_count": 80,
   "metadata": {
    "ExecuteTime": {
     "end_time": "2019-03-18T00:00:30.107933Z",
     "start_time": "2019-03-18T00:00:23.393690Z"
    }
   },
   "outputs": [
    {
     "data": {
      "image/png": "[encoded data removed]",
      "text/plain": [
       "<Figure size 864x864 with 1 Axes>"
      ]
     },
     "metadata": {
      "needs_background": "light"
     },
     "output_type": "display_data"
    }
   ],
   "source": [
    "#Import necessary matplotlib tools for 3d plots\n",
    "from mpl_toolkits.mplot3d import axes3d, Axes3D\n",
    "from matplotlib import cm\n",
    "import itertools\n",
    "\n",
    "fig = plt.figure(figsize=(12,12))\n",
    "ax = fig.gca(projection='3d')\n",
    "\n",
    "theta0s = np.arange(-3,3, 0.1)\n",
    "theta1s= np.arange(-3, 3, 0.1)\n",
    "costs = []\n",
    "for t0 in theta0s:\n",
    "    for t1 in theta1s:\n",
    "        costs.append(cost_function(data, t0, t1))\n",
    "costs = np.array(costs)\n",
    "\n",
    "ax.plot_trisurf(myxs,myys,myzs, cmap='viridis', edgecolor='none')\n",
    "\n",
    "plt.xlabel(r'$\\theta_0$',fontsize=30)\n",
    "plt.ylabel(r'$\\theta_1$',fontsize=30)\n",
    "plt.title(r'Cost function $J(\\theta_0, \\theta_1)$', fontsize=20)\n",
    "plt.show()"
   ]
  },
  {
   "cell_type": "code",
   "execution_count": null,
   "metadata": {},
   "outputs": [],
   "source": []
  }
 ],
 "metadata": {
  "kernelspec": {
   "display_name": "Python 3",
   "language": "python",
   "name": "python3"
  },
  "language_info": {
   "codemirror_mode": {
    "name": "ipython",
    "version": 3
   },
   "file_extension": ".py",
   "mimetype": "text/x-python",
   "name": "python",
   "nbconvert_exporter": "python",
   "pygments_lexer": "ipython3",
   "version": "3.6.7"
  },
  "widgets": {
   "application/vnd.jupyter.widget-state+json": {
    "state": {
     "00c0eea950c94598b7b32260ebf53f96": {
      "model_module": "@jupyter-widgets/base",
      "model_module_version": "1.1.0",
      "model_name": "LayoutModel",
      "state": {}
     },
     "017f7c210f444d3ea1c344eb3353aae9": {
      "model_module": "@jupyter-widgets/controls",
      "model_module_version": "1.4.0",
      "model_name": "FloatSliderModel",
      "state": {
       "description": "theta1",
       "layout": "IPY_MODEL_a08c62712b4440e2bc5235694f07eb94",
       "max": 2,
       "step": 0.5,
       "style": "IPY_MODEL_f7253e58988f462a9712cfc9d3b5c58c",
       "value": 2
      }
     },
     "01b9229ef8ef4479872c84a104c05a9d": {
      "model_module": "@jupyter-widgets/controls",
      "model_module_version": "1.4.0",
      "model_name": "SliderStyleModel",
      "state": {
       "description_width": ""
      }
     },
     "0511cef01fc546bea0644519ab052181": {
      "model_module": "@jupyter-widgets/controls",
      "model_module_version": "1.4.0",
      "model_name": "FloatSliderModel",
      "state": {
       "description": "theta1",
       "layout": "IPY_MODEL_0cf7b60a42f7448aaa739b32281245fe",
       "max": 2,
       "step": 0.5,
       "style": "IPY_MODEL_c9752da6eaee4cbc9fd772306783ad5c",
       "value": 1.5
      }
     },
     "06fe21c59ac2499388db365cd23df6b7": {
      "model_module": "@jupyter-widgets/controls",
      "model_module_version": "1.4.0",
      "model_name": "SliderStyleModel",
      "state": {
       "description_width": ""
      }
     },
     "070f3d88c36e4603b15caf05b0d95410": {
      "model_module": "@jupyter-widgets/controls",
      "model_module_version": "1.4.0",
      "model_name": "FloatSliderModel",
      "state": {
       "description": "theta0",
       "layout": "IPY_MODEL_f0fc5ca75d674b098964a4fe67504f85",
       "max": 2,
       "step": 0.5,
       "style": "IPY_MODEL_3c417904fcb94320b4e0af1be43325d8",
       "value": 1
      }
     },
     "0ac7222f99704bdcbe106627fb4d1f7f": {
      "model_module": "@jupyter-widgets/controls",
      "model_module_version": "1.4.0",
      "model_name": "FloatSliderModel",
      "state": {
       "description": "theta0",
       "layout": "IPY_MODEL_30eabb20e61b4e3294003ed23524a20e",
       "max": 2,
       "step": 0.5,
       "style": "IPY_MODEL_3f83b61bf8bb4d03ad2ed46cba530485",
       "value": 1
      }
     },
     "0b17bdfa8f1d47798ddb2bcb782428f6": {
      "model_module": "@jupyter-widgets/base",
      "model_module_version": "1.1.0",
      "model_name": "LayoutModel",
      "state": {}
     },
     "0b45f4b9d51a4fc1abe692b4030558ba": {
      "model_module": "@jupyter-widgets/controls",
      "model_module_version": "1.4.0",
      "model_name": "FloatSliderModel",
      "state": {
       "description": "theta1",
       "layout": "IPY_MODEL_70f8ebcdf82c4ec285293b748c426715",
       "max": 2,
       "step": 0.5,
       "style": "IPY_MODEL_989417b8f7984f609fb3fbf5343ffc7a",
       "value": 1
      }
     },
     "0b66960cab0842d5859e35d2f870e289": {
      "model_module": "@jupyter-widgets/controls",
      "model_module_version": "1.4.0",
      "model_name": "SliderStyleModel",
      "state": {
       "description_width": ""
      }
     },
     "0c00cedad8ff4624b3f851e0f4b185b7": {
      "model_module": "@jupyter-widgets/controls",
      "model_module_version": "1.4.0",
      "model_name": "SliderStyleModel",
      "state": {
       "description_width": ""
      }
     },
     "0c1959e12ab0478f9d870315a5dcaf2a": {
      "model_module": "@jupyter-widgets/controls",
      "model_module_version": "1.4.0",
      "model_name": "SliderStyleModel",
      "state": {
       "description_width": ""
      }
     },
     "0c2c6d4d128448999c6245d37ec9f6a9": {
      "model_module": "@jupyter-widgets/base",
      "model_module_version": "1.1.0",
      "model_name": "LayoutModel",
      "state": {}
     },
     "0c503351cb0345b683952d9d62537de7": {
      "model_module": "@jupyter-widgets/controls",
      "model_module_version": "1.4.0",
      "model_name": "FloatSliderModel",
      "state": {
       "description": "theta0",
       "layout": "IPY_MODEL_aa87cc60849c43f1bb77f8e8013a8bcf",
       "max": 2,
       "step": 0.5,
       "style": "IPY_MODEL_162c43cd0ad648cd835acfe4f133c52a",
       "value": 1
      }
     },
     "0cf7b60a42f7448aaa739b32281245fe": {
      "model_module": "@jupyter-widgets/base",
      "model_module_version": "1.1.0",
      "model_name": "LayoutModel",
      "state": {}
     },
     "0d4fe10ad1a8479fa24aec675b4928f9": {
      "model_module": "@jupyter-widgets/base",
      "model_module_version": "1.1.0",
      "model_name": "LayoutModel",
      "state": {}
     },
     "0f07bae6afe745a6af6a0d35a3acfdc6": {
      "model_module": "@jupyter-widgets/base",
      "model_module_version": "1.1.0",
      "model_name": "LayoutModel",
      "state": {}
     },
     "0fccc1cb5637472a8bad334f91df81a0": {
      "model_module": "@jupyter-widgets/controls",
      "model_module_version": "1.4.0",
      "model_name": "IntSliderModel",
      "state": {
       "description": "theta0",
       "layout": "IPY_MODEL_db22095947634224bb6c6e14834649a6",
       "max": 10,
       "style": "IPY_MODEL_234c19a355974d2f82b2bc35bca077b7",
       "value": 5
      }
     },
     "102bf004418f4e11a9fecac87486d490": {
      "model_module": "@jupyter-widgets/output",
      "model_module_version": "1.0.0",
      "model_name": "OutputModel",
      "state": {
       "layout": "IPY_MODEL_d4f9851bfb0f4ae1b48bb6c0649a8fbc",
       "outputs": [
        {
         "data": {
          "image/png": "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\n",
          "text/plain": "<Figure size 432x288 with 1 Axes>"
         },
         "metadata": {
          "needs_background": "light"
         },
         "output_type": "display_data"
        }
       ]
      }
     },
     "1087e506d5804c52b19e0a1a1e417aaf": {
      "model_module": "@jupyter-widgets/controls",
      "model_module_version": "1.4.0",
      "model_name": "VBoxModel",
      "state": {
       "_dom_classes": [
        "widget-interact"
       ],
       "children": [
        "IPY_MODEL_aec041e0b7a24e7a8e3f60c2998c03a9",
        "IPY_MODEL_154422e1d3ad40ad8fb1ac322e7b1222",
        "IPY_MODEL_90adbee290f444859c46a865546d9836"
       ],
       "layout": "IPY_MODEL_a515c3add54a42e3b6d75eb807720346"
      }
     },
     "10fa76bdf53b4a7a8397af9f14c0f7c3": {
      "model_module": "@jupyter-widgets/output",
      "model_module_version": "1.0.0",
      "model_name": "OutputModel",
      "state": {
       "layout": "IPY_MODEL_37cb8c57b0cd4d8ca0fe73f84f35188e",
       "outputs": [
        {
         "data": {
          "image/png": "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\n",
          "text/plain": "<Figure size 432x288 with 1 Axes>"
         },
         "metadata": {
          "needs_background": "light"
         },
         "output_type": "display_data"
        }
       ]
      }
     },
     "1189846032264d6aa730b82d21b69eb4": {
      "model_module": "@jupyter-widgets/controls",
      "model_module_version": "1.4.0",
      "model_name": "FloatSliderModel",
      "state": {
       "description": "theta0",
       "layout": "IPY_MODEL_7713467197654e84afbd62ec5108f7a9",
       "max": 2,
       "step": 0.5,
       "style": "IPY_MODEL_abee84f2f8604624bca5132c274e468a",
       "value": 1
      }
     },
     "128bedd279ea45c0b43a6ab351b4bebb": {
      "model_module": "@jupyter-widgets/base",
      "model_module_version": "1.1.0",
      "model_name": "LayoutModel",
      "state": {}
     },
     "12cc7133619b4e9fad02e9c760b474f2": {
      "model_module": "@jupyter-widgets/controls",
      "model_module_version": "1.4.0",
      "model_name": "VBoxModel",
      "state": {
       "_dom_classes": [
        "widget-interact"
       ],
       "children": [
        "IPY_MODEL_0c503351cb0345b683952d9d62537de7",
        "IPY_MODEL_a886ca39d09249e890b588d27a02204e",
        "IPY_MODEL_29d3df0bec3c44149da294eeee9db1db"
       ],
       "layout": "IPY_MODEL_4989bebb6f604857a28683afcf794f03"
      }
     },
     "12d4d7be6a0f49e4b9b45a340c598c1e": {
      "model_module": "@jupyter-widgets/base",
      "model_module_version": "1.1.0",
      "model_name": "LayoutModel",
      "state": {}
     },
     "12fd132fdf6347388d9286edfdcc60cb": {
      "model_module": "@jupyter-widgets/controls",
      "model_module_version": "1.4.0",
      "model_name": "VBoxModel",
      "state": {
       "_dom_classes": [
        "widget-interact"
       ],
       "children": [
        "IPY_MODEL_d30ec66e96f0487690e5db2ef87b94af",
        "IPY_MODEL_0b45f4b9d51a4fc1abe692b4030558ba",
        "IPY_MODEL_c7f588222eec4895893a57fe4448df64"
       ],
       "layout": "IPY_MODEL_75cd4497c94845559389939884aee247"
      }
     },
     "13a85e7b69c84b78a952ab1bc5792b7f": {
      "model_module": "@jupyter-widgets/controls",
      "model_module_version": "1.4.0",
      "model_name": "VBoxModel",
      "state": {
       "_dom_classes": [
        "widget-interact"
       ],
       "children": [
        "IPY_MODEL_1b519be4af4f49f081c240d67feda5e8",
        "IPY_MODEL_31d1bb375dfe400c84f820f6bf97547f",
        "IPY_MODEL_76a39902dba64e77a7b52baaecc42eba"
       ],
       "layout": "IPY_MODEL_dbe04589540948678e92cc28fca45b25"
      }
     },
     "13fc9590146a41e7bad0a8e6dc0477bc": {
      "model_module": "@jupyter-widgets/base",
      "model_module_version": "1.1.0",
      "model_name": "LayoutModel",
      "state": {}
     },
     "148c989a4a81401b9ac7355c8b63ca54": {
      "model_module": "@jupyter-widgets/controls",
      "model_module_version": "1.4.0",
      "model_name": "FloatSliderModel",
      "state": {
       "description": "theta1",
       "layout": "IPY_MODEL_7526c8828ac54164872c3fdf8055ae41",
       "max": 2,
       "step": 0.5,
       "style": "IPY_MODEL_96bce70420ec4431b316bdda1c5acc41",
       "value": 1.5
      }
     },
     "14e149564f614781a31197171dbef243": {
      "model_module": "@jupyter-widgets/base",
      "model_module_version": "1.1.0",
      "model_name": "LayoutModel",
      "state": {}
     },
     "154422e1d3ad40ad8fb1ac322e7b1222": {
      "model_module": "@jupyter-widgets/controls",
      "model_module_version": "1.4.0",
      "model_name": "FloatSliderModel",
      "state": {
       "description": "theta1",
       "layout": "IPY_MODEL_52e1d394af8e4828b96936af93e943e1",
       "max": 2,
       "step": 0.5,
       "style": "IPY_MODEL_47cc76ccc1df4923825c10fef10f2a0e",
       "value": 1
      }
     },
     "157e51aeb3be4ea9a3a50a8b29077ecb": {
      "model_module": "@jupyter-widgets/controls",
      "model_module_version": "1.4.0",
      "model_name": "VBoxModel",
      "state": {
       "_dom_classes": [
        "widget-interact"
       ],
       "children": [
        "IPY_MODEL_7ebd47d87d8f4e629b94ffc3cdc13fc4",
        "IPY_MODEL_cddca04d6a7d4974bee15126c580c1e0",
        "IPY_MODEL_f46cf2ebc8ee4af1b2a51a7a232076bd"
       ],
       "layout": "IPY_MODEL_5372d0ad2c674b9d9a65d327a96f6cf3"
      }
     },
     "162c43cd0ad648cd835acfe4f133c52a": {
      "model_module": "@jupyter-widgets/controls",
      "model_module_version": "1.4.0",
      "model_name": "SliderStyleModel",
      "state": {
       "description_width": ""
      }
     },
     "16da6ef1e18241b78fa133d66fdb8357": {
      "model_module": "@jupyter-widgets/controls",
      "model_module_version": "1.4.0",
      "model_name": "SliderStyleModel",
      "state": {
       "description_width": ""
      }
     },
     "1704db66ad714b0596927ead76b5f231": {
      "model_module": "@jupyter-widgets/base",
      "model_module_version": "1.1.0",
      "model_name": "LayoutModel",
      "state": {}
     },
     "17576e13d1994f6da52c6f6caab993a9": {
      "model_module": "@jupyter-widgets/base",
      "model_module_version": "1.1.0",
      "model_name": "LayoutModel",
      "state": {}
     },
     "18b2d15e9b8f44e99b306ab65e70f1bd": {
      "model_module": "@jupyter-widgets/controls",
      "model_module_version": "1.4.0",
      "model_name": "VBoxModel",
      "state": {
       "_dom_classes": [
        "widget-interact"
       ],
       "children": [
        "IPY_MODEL_cb11069d224b42069b81823a1ff4cd27",
        "IPY_MODEL_7f02b165395044a793551e350da46615",
        "IPY_MODEL_20927153626545869287ae4040bbec79"
       ],
       "layout": "IPY_MODEL_3730dc1a00bf42fc99f1b16e92c382ff"
      }
     },
     "1b519be4af4f49f081c240d67feda5e8": {
      "model_module": "@jupyter-widgets/controls",
      "model_module_version": "1.4.0",
      "model_name": "FloatSliderModel",
      "state": {
       "description": "theta0",
       "layout": "IPY_MODEL_996723d4bb904bee9bde8e97dea1e900",
       "max": 2,
       "step": 0.5,
       "style": "IPY_MODEL_c889130abc2d485eadc705ecb8cfa12d",
       "value": 1
      }
     },
     "1b636914136e4c23907deded3b935988": {
      "model_module": "@jupyter-widgets/controls",
      "model_module_version": "1.4.0",
      "model_name": "VBoxModel",
      "state": {
       "_dom_classes": [
        "widget-interact"
       ],
       "children": [
        "IPY_MODEL_709178786e2e43999767de17bf91d670",
        "IPY_MODEL_baf51c866ec24ca4a1a690c10a0e8a22",
        "IPY_MODEL_10fa76bdf53b4a7a8397af9f14c0f7c3"
       ],
       "layout": "IPY_MODEL_4345b2a366e74b27be8f8fbaeb729b79"
      }
     },
     "1bcca6447a8c4e1bb1f3074355c5fba9": {
      "model_module": "@jupyter-widgets/controls",
      "model_module_version": "1.4.0",
      "model_name": "SliderStyleModel",
      "state": {
       "description_width": ""
      }
     },
     "1c9d5ad7496644d09f113b1cceaf27cf": {
      "model_module": "@jupyter-widgets/base",
      "model_module_version": "1.1.0",
      "model_name": "LayoutModel",
      "state": {}
     },
     "1cef8fb1c77e436a9953f1ddb728147b": {
      "model_module": "@jupyter-widgets/base",
      "model_module_version": "1.1.0",
      "model_name": "LayoutModel",
      "state": {}
     },
     "1dbb56a2460743a5935bbe5cd2ba474b": {
      "model_module": "@jupyter-widgets/base",
      "model_module_version": "1.1.0",
      "model_name": "LayoutModel",
      "state": {}
     },
     "1dde3b510f324f3bbbe1b24cde21cb21": {
      "model_module": "@jupyter-widgets/output",
      "model_module_version": "1.0.0",
      "model_name": "OutputModel",
      "state": {
       "layout": "IPY_MODEL_43be77408ef9473f961fbd2d327159f1",
       "outputs": [
        {
         "data": {
          "image/png": "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\n",
          "text/plain": "<Figure size 432x288 with 1 Axes>"
         },
         "metadata": {
          "needs_background": "light"
         },
         "output_type": "display_data"
        }
       ]
      }
     },
     "1df3f39bc493421c999d7564a4c8a1c4": {
      "model_module": "@jupyter-widgets/output",
      "model_module_version": "1.0.0",
      "model_name": "OutputModel",
      "state": {
       "layout": "IPY_MODEL_cc6f7823aa8f48ccb76a6fceeb9ec89a",
       "outputs": [
        {
         "data": {
          "image/png": "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\n",
          "text/plain": "<Figure size 432x288 with 1 Axes>"
         },
         "metadata": {
          "needs_background": "light"
         },
         "output_type": "display_data"
        }
       ]
      }
     },
     "1e1120be2019483d9c5bab727cec69e2": {
      "model_module": "@jupyter-widgets/controls",
      "model_module_version": "1.4.0",
      "model_name": "VBoxModel",
      "state": {
       "_dom_classes": [
        "widget-interact"
       ],
       "children": [
        "IPY_MODEL_73eede76572a4fea83a75ce158fa69f0",
        "IPY_MODEL_9e673ae163884bcc9abede76fe840763",
        "IPY_MODEL_1df3f39bc493421c999d7564a4c8a1c4"
       ],
       "layout": "IPY_MODEL_f3ed4aa1272c404fa62e6827911f77e0"
      }
     },
     "1f361e29d758496f96902524cd79dc78": {
      "model_module": "@jupyter-widgets/controls",
      "model_module_version": "1.4.0",
      "model_name": "SliderStyleModel",
      "state": {
       "description_width": ""
      }
     },
     "204b120656e647449e24409d87cbe584": {
      "model_module": "@jupyter-widgets/controls",
      "model_module_version": "1.4.0",
      "model_name": "SliderStyleModel",
      "state": {
       "description_width": ""
      }
     },
     "204f5648d8c544d8baf8d8854373429b": {
      "model_module": "@jupyter-widgets/output",
      "model_module_version": "1.0.0",
      "model_name": "OutputModel",
      "state": {
       "layout": "IPY_MODEL_757e4995940c44ca95f3e01994981c0d",
       "outputs": [
        {
         "data": {
          "image/png": "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\n",
          "text/plain": "<Figure size 432x288 with 1 Axes>"
         },
         "metadata": {
          "needs_background": "light"
         },
         "output_type": "display_data"
        }
       ]
      }
     },
     "207a4dfdf2bd4306a221a2db80bab5ab": {
      "model_module": "@jupyter-widgets/controls",
      "model_module_version": "1.4.0",
      "model_name": "FloatSliderModel",
      "state": {
       "description": "theta1",
       "layout": "IPY_MODEL_47718e4d1b7e48d6b7889278db984eb7",
       "max": 10,
       "step": 0.5,
       "style": "IPY_MODEL_49179b6782e24165824d33449ff74683",
       "value": 2
      }
     },
     "20927153626545869287ae4040bbec79": {
      "model_module": "@jupyter-widgets/output",
      "model_module_version": "1.0.0",
      "model_name": "OutputModel",
      "state": {
       "layout": "IPY_MODEL_62721de4f4e74ac2bca1a2d4c2356aa3",
       "outputs": [
        {
         "data": {
          "image/png": "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\n",
          "text/plain": "<Figure size 432x288 with 1 Axes>"
         },
         "metadata": {
          "needs_background": "light"
         },
         "output_type": "display_data"
        }
       ]
      }
     },
     "20cf3f8372484f02886667eb9262f314": {
      "model_module": "@jupyter-widgets/output",
      "model_module_version": "1.0.0",
      "model_name": "OutputModel",
      "state": {
       "layout": "IPY_MODEL_91d4a01dac554ad7b737d7f6a919d659",
       "outputs": [
        {
         "data": {
          "image/png": "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\n",
          "text/plain": "<Figure size 432x288 with 1 Axes>"
         },
         "metadata": {
          "needs_background": "light"
         },
         "output_type": "display_data"
        }
       ]
      }
     },
     "2140b5fe1610407eb9dd9ca618572422": {
      "model_module": "@jupyter-widgets/controls",
      "model_module_version": "1.4.0",
      "model_name": "FloatSliderModel",
      "state": {
       "description": "theta0",
       "layout": "IPY_MODEL_9bc1008e82f244989817255f6e38751c",
       "max": 2,
       "step": 0.5,
       "style": "IPY_MODEL_8f4a1fffa61f496ca7b016327b9a95ff",
       "value": 1
      }
     },
     "22649ecfb0fd4ff0a9cfcbaf7e691553": {
      "model_module": "@jupyter-widgets/base",
      "model_module_version": "1.1.0",
      "model_name": "LayoutModel",
      "state": {}
     },
     "22bcda713fe64b969b60f3168ca77067": {
      "model_module": "@jupyter-widgets/base",
      "model_module_version": "1.1.0",
      "model_name": "LayoutModel",
      "state": {}
     },
     "22cbc66a2a594718bae662c6cb795fc5": {
      "model_module": "@jupyter-widgets/controls",
      "model_module_version": "1.4.0",
      "model_name": "VBoxModel",
      "state": {
       "_dom_classes": [
        "widget-interact"
       ],
       "children": [
        "IPY_MODEL_459c0388605140b59d0109448ec384b8",
        "IPY_MODEL_cb3eff788ff04b6081b2535316004d99",
        "IPY_MODEL_1dde3b510f324f3bbbe1b24cde21cb21"
       ],
       "layout": "IPY_MODEL_7358879cc0304bdda9819edb4fee3012"
      }
     },
     "234c19a355974d2f82b2bc35bca077b7": {
      "model_module": "@jupyter-widgets/controls",
      "model_module_version": "1.4.0",
      "model_name": "SliderStyleModel",
      "state": {
       "description_width": ""
      }
     },
     "235cbb3d60ff4c68b9e86cd75e5179df": {
      "model_module": "@jupyter-widgets/base",
      "model_module_version": "1.1.0",
      "model_name": "LayoutModel",
      "state": {}
     },
     "23aedb0ac84a4db780237a3e4fcbb95f": {
      "model_module": "@jupyter-widgets/output",
      "model_module_version": "1.0.0",
      "model_name": "OutputModel",
      "state": {
       "layout": "IPY_MODEL_14e149564f614781a31197171dbef243",
       "outputs": [
        {
         "data": {
          "image/png": "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\n",
          "text/plain": "<Figure size 432x288 with 1 Axes>"
         },
         "metadata": {
          "needs_background": "light"
         },
         "output_type": "display_data"
        }
       ]
      }
     },
     "23e87c0cdfe8434e9088da0fdea02f95": {
      "model_module": "@jupyter-widgets/controls",
      "model_module_version": "1.4.0",
      "model_name": "VBoxModel",
      "state": {
       "_dom_classes": [
        "widget-interact"
       ],
       "children": [
        "IPY_MODEL_52f006511b8d4705b23a79365c91022e",
        "IPY_MODEL_2f5cdc22dcbc483f988d8614a92becc9",
        "IPY_MODEL_99184a30cef6439fba9ff55571bc9949"
       ],
       "layout": "IPY_MODEL_9ce25f672d5a4bf08ca6b16e0d71527e"
      }
     },
     "244c0bebdc11499e8de221cf77b38331": {
      "model_module": "@jupyter-widgets/base",
      "model_module_version": "1.1.0",
      "model_name": "LayoutModel",
      "state": {}
     },
     "2526069e52334468a94e114421acfc8c": {
      "model_module": "@jupyter-widgets/base",
      "model_module_version": "1.1.0",
      "model_name": "LayoutModel",
      "state": {}
     },
     "257c3650ae2d4cff9e1a9a340c01d622": {
      "model_module": "@jupyter-widgets/controls",
      "model_module_version": "1.4.0",
      "model_name": "FloatSliderModel",
      "state": {
       "description": "theta0",
       "layout": "IPY_MODEL_5b3c3b63baef4560b51c1d346d116991",
       "max": 2,
       "step": 0.5,
       "style": "IPY_MODEL_9d9fe0df419b4af7ad4249d5e974ab25",
       "value": 0.5
      }
     },
     "26a1ef53c9454e63ac8f1fe8ffc226ab": {
      "model_module": "@jupyter-widgets/controls",
      "model_module_version": "1.4.0",
      "model_name": "VBoxModel",
      "state": {
       "_dom_classes": [
        "widget-interact"
       ],
       "children": [
        "IPY_MODEL_b7a4423742de459cb9e5f6108b7fb9c3",
        "IPY_MODEL_97c997c6b46041ea949c286d6ad3542c",
        "IPY_MODEL_d315973c45764fd492c93c6ee2fc26e7"
       ],
       "layout": "IPY_MODEL_22649ecfb0fd4ff0a9cfcbaf7e691553"
      }
     },
     "26ee6425a23c42ce837147fe0ab301f8": {
      "model_module": "@jupyter-widgets/base",
      "model_module_version": "1.1.0",
      "model_name": "LayoutModel",
      "state": {}
     },
     "27548eea84f645aca8b46b5249aaccfd": {
      "model_module": "@jupyter-widgets/base",
      "model_module_version": "1.1.0",
      "model_name": "LayoutModel",
      "state": {}
     },
     "288e0e64aa62460b96f99fef138ad9cf": {
      "model_module": "@jupyter-widgets/base",
      "model_module_version": "1.1.0",
      "model_name": "LayoutModel",
      "state": {}
     },
     "29d3df0bec3c44149da294eeee9db1db": {
      "model_module": "@jupyter-widgets/output",
      "model_module_version": "1.0.0",
      "model_name": "OutputModel",
      "state": {
       "layout": "IPY_MODEL_8952c0b42be04a9387e23c3071c678a8",
       "outputs": [
        {
         "data": {
          "image/png": "iVBORw0KGgoAAAANSUhEUgAAAY0AAAEcCAYAAAA7neg3AAAABHNCSVQICAgIfAhkiAAAAAlwSFlzAAALEgAACxIB0t1+/AAAADl0RVh0U29mdHdhcmUAbWF0cGxvdGxpYiB2ZXJzaW9uIDMuMC4yLCBodHRwOi8vbWF0cGxvdGxpYi5vcmcvOIA7rQAAIABJREFUeJzt3Xd4VOeZ9/GvJEQXTYje2w2iGXDBBcfdgMFxt3GNC05zHCdxyjr7vvGb3WS9u86+STbeTQAXXGLHJXYQ1cY2trFDXLENEje9NyEESBQhaWb/OINXwZRRPTOj3+e6uC505pT7GWnmd57nPHMmLRqNIiIiEo/0sAsQEZHkodAQEZG4KTRERCRuCg0REYmbQkNEROKm0BARkbgpNEREJG4KjUbAzB40sz5HLTvPzDafZLtLzOyVOI/xvpkNrUWZx9tv1MwG1PV+a8LMupjZYjPbY2bXx7lNNzMrMTM3swvqu8bj1LDIzO4K49hHM7M0M5tpZrvN7HfV2C7PzArN7N/rsz45uSZhFyAJ7ZfAPXGu+zDwc+Dq6hzAzP4AHCtsvuPun1RnX8fYdxQY6O6ra7OfKq4FMoFO7n64ynH6AI8DZwAbgXvcfSGAu28FsszsYeBe4I06quULZvYN4OZjPPSYuz9Wy30vAp529xm12U8Vw4Drgd7uvqPKca4D7gNOAd539/OqbuTuk81sGPC5mf3C3fcco9Yn3P1rdVSnHIdCI4WZ2VjgtwQv1HvNLB8Y7+6lcWx7GtDW3ZfEebhZwO/NrKu7b6tGmdnufs5Rx74HaFuNfTSUDsCqqoER8yzwV2Bi7N+LZjbQ3QurrLOMIFTiZmYPArj7gydZtQ/wtarhGHuDvaY6x2sgHYBdVQMjZjfwa2AwcMwembsvMzOAbGAPgJm1BP4/8EDs597APwDfdHfd7qIeKDRS20xgOjAfeAboCVRWXcHMfgD8OLb8AXd/PPbQBOCtKuudRRAMo9x9k5mNjD0+1t1XuPshM/sIuCR23Lp0kZnNAzoCfyQ4k4/G6roD+CHQBXgfuNvdN5jZ27FtP431OO4EXgWeInjzbgK8C3zD3U84TFdFEyBSdYGZDQJGA5e4+0HgJTO7j6DH9fsqq0YI9/XW28zeBUYQBNyN7r4Lvji5+A8gF9gAfNfdF5nZL4BxwFgz+zXwhLvfY2a/Aa4iCPZVwH3u/k6cdXzpOQQ40jOLYxgtSpXn0d0PxIa5/gs4laC3+6C7R81sLlDg7j+I7ftPwH53vyPOWuUYdE0jtXUmeIOIAGXuvjD2xnZEF4IXfneCN9VHzKx97LHhgB9Z0d3fA/4AzDSzFgRvvv/o7iuq7K8AGAlgZr1iY//H+3djNdoxCTgttu/rgEtjx7iC4AzzKiAHeIfgrB93Pze27Uh3b+3ufyL4e38c6A30Ag4CcY2rx85ozyYYfqpqKLDW3UuqLPuULw+5bQIGm1mveI5XD24Ebgc6AU2B+wHMrDswB/hngl7A/QTBl+PuPyV4Tu+JPYdHhio/IBhG6kAQ4i+YWfOTFWBm6cCFfPk5rI5NBCcRaVWWHelRpBH8rR85MboDuMXMLjCzmwj+hr5bi2ML6mmkun8DXgEKgf1m9uRRwwLlwM/dvQKYa2algAFLgHZAyVH7ezD22PvAFuCRox4vAboCuPvG2D7qwkOxMew9ZvYmwRvWfODrwL+4ewGAmf0SeMDMerv7hqN34u5FwEtHfo6dSb95soOb2eXAy8A6vnzNpjWw96hlewmCuOqx3zSzhcAGM/uNu993suPWscfdfSWAmT0PXB5bfjMw193nxn5+zcw+JBhmO2aP0d2frvLjr8zsHwn+bj493sHNrAOwDThM0ButqfuAPwG/ANrFwvxe4FvArwj+Rh8ws2+6+/bY9Z6ZQAvgiqPCXWpAoZHC3P2XZvYC8BDB2flPzexid/8gtkpRLDCOOEDwJghQDGQdtb9yM3uC4DrJ948xZpxFbKy5jm0/To29gd+Y2a+qPJ5G8Ib9pdCoMv49HjjSo8oyswx3rzx6/SPcfVbsTe9Vgh7Zw1UeLgXaHLVJG44KXDMbTfBGPNjdneMws9nAkWs8zWPLjgTMYnefdLxtT+JEz+G1Zja5yuOZnCBMY0OadwHdCM7y2xAMHR6Xu+82s1YE1y1+StB7rIn/RxAMD8X2ewC4O1YXsZOFb1RZfzZBb9LdfXENjylVKDRSnLuvMrPPgScILhDeRjC8cDKfAYOqLogNZfyMYIjnV2Z2mruXVVllCPB0bN1eQP4J9v91d38m3nYcxybgF9XYzw8IzojPiJ2FngJ8QhA0J+Tue83sDYJx/6qWA/3MLKvKWexIgmGbqoYA+ScKjNhxvngzrcaF8NrYBDzl7lOP8/jfnRiY2TiCa2AXAsvdPWJmxcT3HFaYWR7w37WodwjwF3c/1nWRrx1j/V8QDJv2NbMp7v5sLY4tKDRSmplNBZ6M/dgcGAAsinPzucBzVfaVRhA8jwI/IRge+ifgR7HHmwFjCELpyPBUa+rX74F/MrOl7r7czNoSXJB+Ifb4DqAfcGRWURbBdYw9sZ7Dz6p5vDKC6wFfcPeVZrYU+FlsmGYCwcXmo4exMmPbJ5qngQ/M7FJgIUGdY4HVsQkCR57DI7KACoIhzyZm9hO+3NM6kS89hwBmlhE7dhMgPXaNpNLdy49atQlxPo9mdi7BdZyRQF/gFTN72923VKNeOYouhKe2swguZn+X4IJmMcHwwEm5+8fAXjM7Mk30XoIL6/8nNix1O3B77MwTgjHyRbHPJTQId38Z+FfgOTPbRzCtdUKVVR4kuHC/J/Y5gF8TjG3vIrg2M7+ah4xw7NfMDQQzd4oJhk2uOWq6LUAGx5g1FDZ33wR8lWBCQSFBz+OH/G87fwNcY2bFZvZbYAEwD1hJMAR4KLZNvI73HN5CEOj/TTBj6yDBzL8vxC6kH9nHCZlZG4ITpnvcfUtsaOpR4PGjLqJLNaXpm/tSX2yY4wl3X1/N7S4BvuXuV8Sx7t+AO919WTWP8aK7X3PUsnuAZe6+qDr7qm9mdjfwbeAsd99fje3SCa4DdXL36+qhroeAGcf6nEY9D21VW2yK8nJgkLuvq+a2pxPMBmynC9rhSajhKTNbT3Dmcii26MfuviC0gho5d3+V4OJvPOtW64NrVeRY8KnjqroDxxtjD9OLBD2qdWZ2j7s/f7INzKwb8DnBzKtv12Ntz5hZ1enUrQim0iaU2HDeI8A7ZvZnd783nu0suJ3NaIKergIjRAnV04iFxqTqnq2K1FZsuvGxTKjGB9catdgHMMcd46FfuvsvG7oeqR8J1dMQCYu71/dF+5Tn7hNOvpYku0TsaewlmL63mOC2FvHM+29G8GnPbRx1mwwRETmuDIIP5H5AnLPSEq2nMS52X6NmBDNdfsex7955tNMIZgeJiEj1jSM4UT+phOppVGVmw4FZ7t43jtX7A6uLi/cTiVS/PdnZrSkqOumNX5NGKrUnldoCak+iqIxEWPD+Jt76ZAsd2jZnyoUDGZXbNSnbcjzx/G7S09No374VBJ/hWhPPfhOmpxG7xUCT2Cdv0wjmvi+Nc/NKgEgkWqPQOLJtKkml9qRSW0DtCdvWXfuZlrecjTtKOXdkN264cADNmwZvhcnWlpOpRnviHtZPmNAg+ODYS7FPhmYQ3ILiW+GWJCKpIhqN8sbHW3j+zdU0y8zgO1cNZ9SgnLDLSjoJExruvhYYFXYdIpJ69pSW8djcApat3c3wftncMXEwbVs3C7uspJQwoSEiUh8+8kJmzl9BWXklN18yiPNHdSctTXcSqSmFhoikpEOHK3h24Sre+WwbvTtnMXVyLt06tgq7rKSn0BCRlLN6y15m5OVTuOcgE8f25opxfWmSofuz1gWFhoikjIrKCLPfW0/ee+vpkNWcH980mkE96+oLJAUUGiKSIrbvPsD0vOWs21bCWcO6cONFg2jZXG9xdU3PqIgktWg0ylufbuW511eRmZHON68YxmmDO4VdVspSaIhI0tq3/zBPzFvB0tW7yO3Tnjsvy6V9lqbS1ieFhogkpU9X7+LxuQUcKKvkhgsHctGpPUjXVNp6p9AQkaRSVl7J82+s5s1PttAjpzX3T8mlR47ubN9QFBoikjTWbdvH9Lx8tu8+wPjTe3Hluf3IbKKptA1JoSEiCS8SiTJnyQZmLV5Hm1ZN+eENpzCkT4ewy2qUFBoiktAK9xxk+ux8Vm/ey+lDOnHLpUar5plhl9VoKTREJCFFo1HeW7adZ15bSVoaTJ2cy9jczrpvVMgUGiKScEoPlvPk/BV86IUM6tmOuyYNoWPbFmGXJSg0RCTBLF+3m0fn5FNyoJxrzuvP+NN7kZ6u3kWiUGiISEIor6jkxUVree3DTXTNbsl3rxlJ7y5ZYZclR1FoiEjoNu4oYXpePlt27efCMT249rz+NM3MCLssOQaFhoiEJhKN8ur7m/jz22to1TyT7103kuH9ssMuS05AoSEiodi97xAzZuezYuMeRg/K4bbxRlbLpmGXJSeh0BCRBve3/B08ucCJRKPcPnEw5wzvqqm0SUKhISIN5sChcp5+dSVL8nfQv3sbpk7KpVP7lmGXJdWg0BCRBrFiQzEz5uSzp+QwV47ry8Qze5ORrvtGJRuFhojUq/KKCK+8s5b5f9tIp/YteOCWMfTr1ibssqSGFBoiUm+2FJYyPS+fjTtLOe+Ublx/wUCaNdVU2mSm0BCROheJRnn9o8288OYaWjTL4N6rR3DKwI5hlyV1QKEhInWquKSMx+cWsGzdbkb0z+b2iUNo20pTaVOFQkNE6sxHvpMn5q2gvCLCLZcM4rxR3TWVNsUkZGiY2c+AB4Hh7r4s5HJE5CQOllXw7MJVLP58G727ZHH35Fy6ZrcKuyypBwkXGmY2GhgLbAy7FhE5udWb9zJ99nJ27T3EpLN6c/nZfWmSoam0qSqhQsPMmgGPADcCb4ZcjoicQEVlhKfnFfD86yvJbtOcn9w0moE92oVdltSzhAoN4OfA0+6+zszCrkVEjmP77gNMm7Wc9dtLOHt4F268aBAtmiXa24nUh4T5LZvZmcBpwE9quo/s7NY1Pn5OTmrdtz+V2pNKbYHkbk80GmX+X9fzaN5yMjPS+cmtp3H2yG5hl1Vnkvl3cyz10Z6ECQ3gK8Bg4EgvowewwMxud/dX49lBUVEpkUi02gfOycmisLCk2tslqlRqTyq1BZK7PXv3H+bxuQV8tqaIoX3ac8dluQzq1zFp23O0ZP7dHEs87UlPT6v2yXbChIa7PwQ8dORnM1sPTNLsKZHwLV21i8fnFXCwrJIpFw7kwlN7kK6ptI1SwoSGiCSessOV/OmNVSxaupWenVrzoym5dM+p+TCwJL+EDQ137xN2DSKN2bpt+5g2azk7iw8y/oxeXDmuH5lNNJW2sUvY0BCRcFRGIsz96wb+sng97bKa8sMpoxjcu33YZUmCUGiIyBd27jnIjLx8Vm/Zy9jcztx8ySBaNs8MuyxJIAoNESEajbL48238ceEq0tPSuHtyLmOHdgm7LElACg2RRq70YDkz563go5WFDO7VjjsvyyW7bfOwy5IEpdAQacSWrS3i0bkFlB4o57rzB3DJ6T01lVZOSKEh0ggdLq/kxUVrWPjRZrp1bMX3rh1Jr86p9WloqR8KDZFGZsP2EqbPzmfrrv1cNKYH15zXn6aZ+gpWiY9CQ6SRiESizH9/Iy+/vZbWLTP5/vUjGdY3O+yyJMkoNEQagV17DzJjdgErN+1hzKAcbpswmNYtNJVWqk+hIZLCotEoS/J38PSrTiQKd0wcwtnDu+grWKXGFBoiKWr/oXKeWuC8X7CTAd3bctfkXDq1axF2WZLkFBoiKahgQzEzZuezb/9hrjy3HxPH9iIjXfeNktpTaIikkPKKCC+/vZYF72+kU4eWPHDLGPp2bRN2WZJCFBoiKWJzYSnTZuWzubCU80Z15/rzB9CsqabSSt1SaIgkuUg0ysIPN/PiojW0bJbBd68ZwcgBHcMuS1KUQkMkiRWXlPHonHzy1xdzyoCOfG3CYNq0ahp2WZLCFBoiSerDFTuZOX8F5ZURbh1vfGVkN02llXqn0BBJMgfLKvjjayt5d9l2+nbNYurkoXTp0DLssqSRUGiIJJGVm/YwY3Y+RfsOcfnZfZh0Vh+aZGgqrTQchYZIEqiojPCXxeuYu2QDHds25x9uHsOA7m3DLksaIYWGSILbVrSfaXn5bNhewjkjujLlwoG0aKaXroRDf3kiCSoajbLoky386Y3VNM3M4NtXDmOMdQq7LGnkFBoiCWhvaRmPz1vBZ2uKGNa3A3dcNoR2rZuFXZaIQkMk0XyyqpDH566grLySGy8ayIVjemgqrSQMhYZIgjh0uILnXl/N259upWen1tw9OZfuOa3DLkvk7yg0RBLAmq17mZ6XT2HxQSaM7cUV5/Qjs4mm0kriUWiIhKgyEmHOexuY9e562mc15Uc3jsJ6tQ+7LJHjUmiIhGRH8QFm5OWzZus+zhzamZsuNlo210tSEltC/YWa2StAXyAClALfcfel4VYlUrei0SjvfLaNZxeuIiM9ja9fPpQzcjuHXZZIXBIqNIDb3H0vgJl9FXgMGB1uSSJ1Z29pGb/78+d8smoXQ3q3587LhtChTfOwyxKJW0KFxpHAiGlL0OMQSQmfry3iiXkrKDlwmOsvGMDFp/UkXVNpJcmkRaPRsGv4O2Y2A7gESAPGu/vyODbrA6yrz7pEaurQ4Qpmzs5n9rvr6N0lix/cNIa+3XTfKEkofYH18ayYcKFxhJndAkxx94lxrN4HWFdUVEokUv325ORkUVhYUu3tElUqtSfZ27JhewnT8pazregAl5zWk69fPZK9ew6EXVadSfbfT1Wp1BaIrz3p6WlkZ7eGaoRGwk4Ed/engPPNLDvsWkSqKxKJMnfJBv75yQ85WFbBD244hRsuHEjTTH1ntyS3hLmmYWatgfbuvin282Rgd+yfSNLYtecgM+YUsHLTHk61HG4dP5jWLTLDLkukTiRMaACtgBfMrBVQSRAWk909McfPRI4SjUb56/LtPPPaSqJRuPOyIZw1rIvuGyUpJWFCw913AGPDrkOkJkoPlvPUAueDFTsZ0KMtUyflktOuRdhlidS5hAkNkWSVv343j84pYN/+w1z9lX5MOKM36enqXUhqUmiI1FB5RSUvvbWWVz/YRJcOLfnprWPo06VN2GWJ1CuFhkgNbNpZyrS85Wwp3M/5o7tz3fkDaKaZUdIIKDREqiESjfLaB5t46a01tGyeyX3XjmBE/45hlyXSYBQaInHave8Qj84poGBDMaMGduS2CYNp07Jp2GWJNCiFhkgc3i/YwZPzncpIlK9NGMy4EV01lVYaJYWGyAkcOFTBM6+t5K/Lt9OvWxumTs6lc/uWYZclEhqFhshxrNy0h+l5+RSXlPHVc/oy6azeZKQn7J13RBqEQkPkKBWVEV55Zx3zlmwgp10L/uHm0fTvrrvSioBCQ+TvbN21n2l5y9m4o5RxI7oy5aKBNG+ql4nIEXo1iBDcN+qNj7fw/JuraZaZwT1XDWf0oJywyxJJOAoNafT2lpbx6NwClq3dzfB+2dwxcTBtWzcLuyyRhKTQkEbtIy9k5vwVlJVXcvMlgzh/VHdNpRU5AYWGNEqHDlfw7MJVvPPZNnp3zmLq5Fy6dWwVdlkiCU+hIY3O6i17mZGXT+Geg1x2Zm++ek5fmmRoKq1IPBQa0mhUVEaY/d56Zr+3gfZZzfjxTaMZ1LNd2GWJJBWFhjQKO3YfYFpePuu27ePMoZ256WKjZXP9+YtUl141ktKi0Shvf7qVZ19fRZP0dL7x1aGcPqRz2GWJJC2FhqSsfQcO88TcFSxdvYshvdtz52VD6NCmedhliSQ1hYakpM/W7OKxuSs4cKiCGy4YwEWn9SRdU2lFak2hISmlrLyS599czZsfb6FHTivuv/4UenRqHXZZIilDoSEpY/32fUyblc/23Qe49PSeXHVuPzKb6CtYReqSQkOSXiQSZd7fNvDKO+to06opP7zhFIb06RB2WSIpSaEhSW3XnoNMn53Pqs17OW1wJ24db7Rqnhl2WSIpS6EhSSkajfLesu0889pK0tJg6qRcxg7trPtGidQzhYYkndKD5Ty5wPlwxU4G9WzHXZOG0LFti7DLEmkUFBqSVJav381jcwrYt/8w15zXn/Gn9yI9Xb0LkYaSMKFhZtnAU0B/oAxYDXzd3QtDLUwSQnlFJS8uWstrH26ia3ZL7r36VHp3yQq7LJFGJ+7QMLP/AJ5096X1VEsU+Dd3XxQ73r8DDwF31tPxJEls3FHC9Lx8tuzaz4Wje3DN+f1plqmptCJhqE5PIxNYYGaFBD2CZ9x9c10V4u67gUVVFi0BvllX+5fkE4lG+fObq3lqXj6tmmdy37UjGdE/O+yyRBq1uEPD3b9jZvcBE4CbgH80s78BTwJ/dvfSuirKzNIJAmNWXe1TksvufYeYMTufFRv3MGpgR26bMJg2LZuGXZZIo5cWjUZrtKGZDQX+CAwHDgDPAT9z9y21LcrMHgG6A1e5eySOTfoA62p7XEkMb3+ymf966TMqKyNMvWI4F5/eS1NpRepXX2B9PCtW60K4mbUBrgVuBkYALwHfAjYCPwDmxZbXmJk9DAwEJscZGF8oKiolEql+CObkZFFYWFLt7RJVsrbnwKFynn5tJUuW76B/tzZMnZzL0EGdk7Itx5Osv5vjSaX2pFJbIL72pKenkZ1dvXuzVedC+IvApcDbwO+BV9y9rMrj3wf2VuvoXz7GL4AxwGVV9y2pzzcWM2N2PsUlh7liXF8uO7M3Gen6ClaRRFOdnsYS4B53336sB909YmY1/nab2HDXA8BK4D0zA1jn7lfWdJ+S+CoqI7z8zlrmL9lITvsWPHDLGPp1axN2WSJyHNW5EP5wHOscqGkh7r4c0MB1I7Jl136mz1rOxp2lfOWUblx/wQCaN02Yjw6JyDHoFSoNLhqN8vpHm3lh0RqaN83gO1cPZ9TAnLDLEpE4KDSkQRWXlPH43AKWrdvNiP7Z3D5xCG1baSqtSLJQaEiD+ch3MnO+c7i8klsuGcR5o7prKq1IklFoSL07WFbBs6+vYvFn2+jdJYu7J+fSNbtV2GWJSA0oNKRerd6yl+l5y9m19xCTzurN5Wf3pUmGptKKJCuFhtSLisoIee+uZ/Zf15Pdpjk/vnE0g3q2C7ssEaklhYbUue27DzA9bznrtpVw9rAu3HjxIFo005+aSCrQK1nqTDQa5a1Pt/Lc66vIzEjnW1cM49TBncIuS0TqkEJD6sS+/Yd5Yt4Klq7exdA+7bnjslzaZzULuywRqWMKDam1pat38cTcAg6UVXLDhQO56NQepGsqrUhKUmhIjZUdruRPb6xi0dKt9OzUmvun5NIjp3p3zBSR5KLQkBpZt20f02YtZ2fxQcaf0Ysrx/Ujs4mm0oqkOoWGVEtlJMLcv25g1rvradu6KfdPGcWQ3u3DLktEGohCQ+K2c89BZuTls3rLXk4f0olbLjVaNc8MuywRaUAKDTmpaDTKu59v55mFK0lPS+PuybmMHdol7LJEJAQKDTmh0oPlzJy/go+8EOvZjrsm5ZLdtnnYZYlISBQaclzL1hXx6JwCSg+Uc+35/bn0tF6kp2sqrUhjptCQLzlcXsmLi9aw8KPNdOvYiu9dO5JenbPCLktEEoBCQ/7Oxh0lTMvLZ+uu/Vw0pgfXnNefppkZYZclIglCoSEARCJRFnywkT+/tZbWLTP5/vUjGdY3O+yyRCTBKDSEor2HmDE7H9+0h9GDcrhtvJHVUl/BKiJfptBo5JYs385Tr64kEo1y+8TBnDO8q76CVUSOS6HRSB04VM5Tr67kb/k7GNC9LXdNzqVTuxZhlyUiCU6h0QgVbCjm0Tn57Ck5zJXj+jLxzN5kpOu+USJycgqNRqS8IsLL76xlwd820ql9Cx64ZQz9urUJuywRSSIKjUZic2Ep0/Py2bSzlPNGdef68wfQrKmm0opI9Sg0UlwkGuX1DzfzwqI1tGyWwb3XjOCUAR3DLktEklRChYaZPQxcDfQBhrv7snArSm7FJWU8Nief5euLGdk/m9snDqFNK02lFZGaS6jQAF4BfgO8E3Yhye7DFTuZOX8F5ZURbh1vfGVkN02lFZFaS6jQcPfFAGYWdilJ62BZBb9+7mNe/2ATfbtmMXXyULp0aBl2WSKSIhIqNKR2Vm3ew/S8fHbvO8Tks/ow+ew+NMnQVFoRqTspFRrZ2a1rvG1OTvLexbWiMsKzrzovvr6SnPYteejb4xjSt0PYZdWZZP7dHIvak7hSqS1QP+1JqdAoKiolEolWe7ucnCwKC0vqoaL6t61oP9Pz8lm/vYRzhndlykUD6dWjfdK252jJ/Ls5FrUncaVSWyC+9qSnp1X7ZDulQqMxiUajLFq6lT+9vorMJul8+8phjLFOYZclIikuoULDzH4LXAV0ARaaWZG7Dw25rISzd/9hHp9bwGdrihjatwN3TBxC+6xmYZclIo1AQoWGu98L3Bt2HYnsk1WFPDFvBYcOV3LjRQO5YEwP0jWVVkQaSEKFhhxf2eFKnntjFW8t3UqvTq2ZOjmX7jk1v/AvIlITCo0ksHbrPqbnLWdn8UEmnNGLK8b1I7OJptKKSMNTaCSwykiEOe9tYNa762mX1ZQfThnF4N7twy5LRBoxhUaC2ll8gOl5+azZuo+xQztz88WDaNk8M+yyRKSRU2gkmGg0yuLPtvHHhatIT0/j7stzGZvbJeyyREQAhUZCKTlwmJnznY9XFjK4VzvumpRLhzbNwy5LROQLCo0E8fnaIh6bU8D+Q+Vcd/4ALjm9p6bSikjCUWiE7HB5JS+8uYbXP95M946t+N51I+nVObXufyMiqUOhEaIN20uYlrecbUUHuPjUnlxzXj8ym+grWEUkcSk0QhCJRJn//kZefnstWS0z+cH1pzA0he5KKyKpS6HRwHbtPciM2QWs3LSHUy2HW8cPpnULTaUVkeSg0Ggg0WiUJfk7ePpVJxqFOy8bwlnDuugrWEUkqSg0GsD+Q+U8tcB5v2AnA3q0ZeqkXHLatQi7LBGRalO8AZQqAAAIQElEQVRo1LOC9buZMaeAffsPc+W5/bhsbG/S09W7EJHkpNCoJ+UVEf789hoWvL+JLh1a8sAtY+jbtU3YZYmI1IpCox5s3lnKtLzlbC7cz/mju3Pd+QNolqmptCKS/BQadSgSjbLwg028+NYaWjZrwn3XjmBE/45hlyUiUmcUGnVk975DPDqngIINxZwyoCNfmzCYNq2ahl2WiEidUmjUgQ9W7OTJ+Ssor4zwtQmDGTeiq6bSikhKUmjUwoFDFfxx4UreW7adft3aMHVSLp07tAy7LBGReqPQqKGVm/YwPS+f4pIyLj+7D5PO6kOTDH0Fq4ikNoVGNVVURvjL4nXMXbKBnLYt+MnNoxnQvW3YZYmINAiFRjVsK9rPtFn5bNhRwrgRXbnhwoG0aKanUEQaD73jxSEajfLmJ1t4/o3VNM3M4NtXDmeM5YRdlohIg1NonMTe0jIem7uCz9cWMaxvB+64bAjtWjcLuywRkVAoNE7gk5WFPD5vBWXlldx08SAuGN1dU2lFpFFTaBzDocMVPPf6Kt7+dBu9Orfm7slD6daxVdhliYiELqFCw8wGATOBbKAIuNXdVzVkDWu27GV6Xj6Few4ycWxvrhjXV1NpRURiEu3d8PfAI+4+CHgE+ENDHbgyEuGVd9byL09/TGUkyo9uHMU15/VXYIiIVJEwPQ0z6wSMBi6OLXoW+J2Z5bh7YX0ee+uuUv716Y9Zu3UfZw7twk0XD6Jl84R5akREEkYivTP2BLa4eyWAu1ea2dbY8noLDd9YzG9e/IyM9DS+8dWhnD6kc30dSkQk6SVSaNRadnbram+zvnA/Zw7vyq0Tc+mYQl/BmpOTFXYJdSaV2gJqTyJLpbZA/bQnkUJjE9DdzDJivYwMoFtseVyKikqJRKLVOmifnFacduMYCgtLKCwsqV7FCSonJ0ttSVBqT+JKpbZAfO1JT0+r9sl2wlzldfedwFJgSmzRFOCT+r6eISIi8UukngbAN4CZZvZ/gWLg1pDrERGRKhIqNNx9BXBG2HWIiMixJczwlIiIJD6FhoiIxE2hISIicVNoiIhI3BQaIiISN4WGiIjETaEhIiJxU2iIiEjcFBoiIhI3hYaIiMRNoSEiInFTaIiISNwUGiIiEjeFhoiIxE2hISIicVNoiIhI3BQaIiISN4WGiIjETaEhIiJxU2iIiEjcFBoiIhI3hYaIiMRNoSEiInFTaIiISNwUGiIiEjeFhoiIxE2hISIicVNoiIhI3JqEXQCAmd0M/AjIBe5z99+FXJKIiBxDovQ0lgI3AH8MuxARETm+hOhpuPsyADOL1HAXGQDp6Wk1rqE22yaiVGpPKrUF1J5ElkptgZO3p8rjGfHuMyFCow50BWjfvlWNd5Cd3brOikkEqdSeVGoLqD2JLJXaAtVqT1dgTTwrNkhomNnHQK/jPNzZ3StreYgPgHHANqC2+xIRaSwyCALjg3g3aJDQcPfR9XyIMmBxPR9DRCQVxdXDOCJRLoSLiEgSSItGo2HXgJlNAf4daA8cBvYDl7h7fqiFiYjI30mI0BARkeSg4SkREYmbQkNEROKm0BARkbgpNEREJG6p8onwWkuFmyaa2SBgJpANFAG3uvuqcKuqGTN7GLga6AMMP3KrmWRkZtnAU0B/gs8UrQa+7u6FoRZWC2b2CtAXiAClwHfcfWm4VdWOmf0MeJDk/3tbDxyK/QP4sbsvqKv9q6fxv1Lhpom/Bx5x90HAI8AfQq6nNl4BzgU2hF1IHYgC/+bu5u4jCD5M9VDINdXWbe4+0t1HAQ8Dj4VdUG2Y2WhgLLAx7FrqyDXufkrsX50FBig0vuDuy2KfC6npTRNDZWadgNHAs7FFzwKjzSwnvKpqzt0Xu/umsOuoC+6+290XVVm0BOgdUjl1wt33VvmxLUn6ugEws2YEJ1nfIgh4OQENT6WOnsCWI/fxcvdKM9saW560wyCpxszSgW8Cs8KupbbMbAZwCZAGjA+5nNr4OfC0u68zs7BrqSvPmFkawe2VHnD3PXW140YTGg1w00SRePwnwTWApLtmdjR3vwvAzG4huKPDxHArqj4zOxM4DfhJ2LXUoXHuvinWg/o1wd/azXW180YTGg1w08SwbQK6m1lGrJeRAXSLLZcEELu4PxCY7O5JO5xzNHd/ysymmVm2uxeFXU81fQUYDBzpZfQAFpjZ7e7+aqiV1dCRYV13LzOz/6KOe7W6ppEi3H0nwcX8KbFFU4BPknmGTioxs18AY4Ar3L0s7Hpqw8xam1nPKj9PBnbH/iUVd3/I3bu5ex937wNsBi5N1sAws1Zm1jb2/zSCyT11OqtN956KSYWbJprZYIIpt+2BYoIptx5uVTVjZr8FrgK6ALuAIncfGm5VNWNmQ4FlwErgYGzxOne/Mryqas7MOgN/AVoRfH/NbuB+d/841MLqQGy66qRknXJrZv2Alwi+JyMDyAfudfdtdXUMhYaIiMRNw1MiIhI3hYaIiMRNoSEiInFTaIiISNwUGiIiEjeFhoiIxE2hISIicVNoiIhI3BrNvadEGpKZ9Qc+AC5y94/NrBvwGcH3HCwKtTiRWtAnwkXqiZlNBb5PcM+pl4HP3f3+cKsSqR2Fhkg9MrNZBF+LGgVOS/abFYromoZI/ZoODAP+U4EhqUA9DZF6YmatgU+BN4EJwHB3T7rbh4tUpZ6GSP35DfBR7Bvu5gC/D7kekVpTaIjUAzP7KsH3Zn8jtuj7wGgzuym8qkRqT8NTIiISN/U0REQkbgoNERGJm0JDRETiptAQEZG4KTRERCRuCg0REYmbQkNEROKm0BARkbgpNEREJG7/A/ypNR26wbswAAAAAElFTkSuQmCC\n",
          "text/plain": "<Figure size 432x288 with 1 Axes>"
         },
         "metadata": {
          "needs_background": "light"
         },
         "output_type": "display_data"
        }
       ]
      }
     },
     "2a1fe5387c3e498bad2dcda1b65a8804": {
      "model_module": "@jupyter-widgets/base",
      "model_module_version": "1.1.0",
      "model_name": "LayoutModel",
      "state": {}
     },
     "2aacb64a24e048b1bdb5f5264884be4b": {
      "model_module": "@jupyter-widgets/base",
      "model_module_version": "1.1.0",
      "model_name": "LayoutModel",
      "state": {}
     },
     "2b920b152c974403a4333d559dd62dd6": {
      "model_module": "@jupyter-widgets/base",
      "model_module_version": "1.1.0",
      "model_name": "LayoutModel",
      "state": {}
     },
     "2ba281c29e91419794a39be29e47d871": {
      "model_module": "@jupyter-widgets/base",
      "model_module_version": "1.1.0",
      "model_name": "LayoutModel",
      "state": {}
     },
     "2bfd2467dbf24de599b0ec16e38c77a8": {
      "model_module": "@jupyter-widgets/base",
      "model_module_version": "1.1.0",
      "model_name": "LayoutModel",
      "state": {}
     },
     "2cdf0a136ee448538a52b3be156b9a6c": {
      "model_module": "@jupyter-widgets/controls",
      "model_module_version": "1.4.0",
      "model_name": "FloatSliderModel",
      "state": {
       "description": "theta0",
       "layout": "IPY_MODEL_c251a81e62c04bb1a6a219f1a21882c7",
       "max": 2,
       "step": 0.5,
       "style": "IPY_MODEL_e145e771fc7040ee87f274973c27c164",
       "value": 1
      }
     },
     "2d06e9145462480bbae04acf66cb0cd4": {
      "model_module": "@jupyter-widgets/controls",
      "model_module_version": "1.4.0",
      "model_name": "FloatSliderModel",
      "state": {
       "description": "theta1",
       "layout": "IPY_MODEL_ae5e2e399b154cc28a618cdbee5eb547",
       "max": 2,
       "step": 0.5,
       "style": "IPY_MODEL_6c6b7f4b2393460baa066f4cc96f936d",
       "value": 1
      }
     },
     "2ddc522c411c4aa48541553258d4cec4": {
      "model_module": "@jupyter-widgets/base",
      "model_module_version": "1.1.0",
      "model_name": "LayoutModel",
      "state": {}
     },
     "2f5cdc22dcbc483f988d8614a92becc9": {
      "model_module": "@jupyter-widgets/controls",
      "model_module_version": "1.4.0",
      "model_name": "FloatSliderModel",
      "state": {
       "description": "theta1",
       "layout": "IPY_MODEL_985eee19c0204b01a571b34893de9655",
       "max": 2,
       "step": 0.5,
       "style": "IPY_MODEL_746f4edf067b4026a35a4529aba79a99",
       "value": 1
      }
     },
     "2f7316fc92104d479c5b11b75baebaa4": {
      "model_module": "@jupyter-widgets/controls",
      "model_module_version": "1.4.0",
      "model_name": "SliderStyleModel",
      "state": {
       "description_width": ""
      }
     },
     "30eabb20e61b4e3294003ed23524a20e": {
      "model_module": "@jupyter-widgets/base",
      "model_module_version": "1.1.0",
      "model_name": "LayoutModel",
      "state": {}
     },
     "30ef3fb5bf7e4806a2fa25c9cd8d3ac4": {
      "model_module": "@jupyter-widgets/base",
      "model_module_version": "1.1.0",
      "model_name": "LayoutModel",
      "state": {}
     },
     "30f599ce4c7341afa6281778d71069ac": {
      "model_module": "@jupyter-widgets/controls",
      "model_module_version": "1.4.0",
      "model_name": "VBoxModel",
      "state": {
       "_dom_classes": [
        "widget-interact"
       ],
       "children": [
        "IPY_MODEL_257c3650ae2d4cff9e1a9a340c01d622",
        "IPY_MODEL_148c989a4a81401b9ac7355c8b63ca54",
        "IPY_MODEL_65f9d5ce98f14340bbedcb8bad847365"
       ],
       "layout": "IPY_MODEL_73725a1f40c84838b5c65818681c8039"
      }
     },
     "310a29ea0219450dbc4373574cd0ba0a": {
      "model_module": "@jupyter-widgets/base",
      "model_module_version": "1.1.0",
      "model_name": "LayoutModel",
      "state": {}
     },
     "3194f72544b6418dba9e339872a65c1d": {
      "model_module": "@jupyter-widgets/controls",
      "model_module_version": "1.4.0",
      "model_name": "SliderStyleModel",
      "state": {
       "description_width": ""
      }
     },
     "31a10877084049a2aa3321208de1ab95": {
      "model_module": "@jupyter-widgets/controls",
      "model_module_version": "1.4.0",
      "model_name": "SliderStyleModel",
      "state": {
       "description_width": ""
      }
     },
     "31bbab7b6a734e0b94ceb4ade2a28a4c": {
      "model_module": "@jupyter-widgets/controls",
      "model_module_version": "1.4.0",
      "model_name": "FloatSliderModel",
      "state": {
       "description": "theta0",
       "layout": "IPY_MODEL_838d6be8a0e141bcbb655a89c911c2c8",
       "max": 2,
       "step": 0.5,
       "style": "IPY_MODEL_79a68f3a2b414d529f205be6bec6cbe3",
       "value": 1
      }
     },
     "31d1bb375dfe400c84f820f6bf97547f": {
      "model_module": "@jupyter-widgets/controls",
      "model_module_version": "1.4.0",
      "model_name": "FloatSliderModel",
      "state": {
       "description": "theta1",
       "layout": "IPY_MODEL_0d4fe10ad1a8479fa24aec675b4928f9",
       "max": 2,
       "step": 0.5,
       "style": "IPY_MODEL_aa1aefd1e8df462296cbee94f6894815",
       "value": 1
      }
     },
     "35dcbb468731419e8cc31a5a0935b412": {
      "model_module": "@jupyter-widgets/base",
      "model_module_version": "1.1.0",
      "model_name": "LayoutModel",
      "state": {}
     },
     "3730dc1a00bf42fc99f1b16e92c382ff": {
      "model_module": "@jupyter-widgets/base",
      "model_module_version": "1.1.0",
      "model_name": "LayoutModel",
      "state": {}
     },
     "37cb8c57b0cd4d8ca0fe73f84f35188e": {
      "model_module": "@jupyter-widgets/base",
      "model_module_version": "1.1.0",
      "model_name": "LayoutModel",
      "state": {}
     },
     "39bcf1d670d347ffa8e2b11a28108348": {
      "model_module": "@jupyter-widgets/controls",
      "model_module_version": "1.4.0",
      "model_name": "FloatSliderModel",
      "state": {
       "description": "theta0",
       "layout": "IPY_MODEL_b409bfa673ce4857815554c8e4f1fd68",
       "max": 2,
       "step": 0.5,
       "style": "IPY_MODEL_1f361e29d758496f96902524cd79dc78",
       "value": 1
      }
     },
     "3ab56135ea584fe6bb926fdfea984909": {
      "model_module": "@jupyter-widgets/controls",
      "model_module_version": "1.4.0",
      "model_name": "SliderStyleModel",
      "state": {
       "description_width": ""
      }
     },
     "3ab7a232209744dc985a95c5ea4e4f85": {
      "model_module": "@jupyter-widgets/base",
      "model_module_version": "1.1.0",
      "model_name": "LayoutModel",
      "state": {}
     },
     "3ad80d90a197451e976356f067507bc6": {
      "model_module": "@jupyter-widgets/base",
      "model_module_version": "1.1.0",
      "model_name": "LayoutModel",
      "state": {}
     },
     "3b23b6c8f4f842a5a4551000906a13a7": {
      "model_module": "@jupyter-widgets/controls",
      "model_module_version": "1.4.0",
      "model_name": "FloatSliderModel",
      "state": {
       "description": "theta0",
       "layout": "IPY_MODEL_774a88aed9a54075a6579b0c0bc9e511",
       "max": 2,
       "step": 0.5,
       "style": "IPY_MODEL_3194f72544b6418dba9e339872a65c1d",
       "value": 1
      }
     },
     "3c1ce8bb83474eda8a8753498d318872": {
      "model_module": "@jupyter-widgets/output",
      "model_module_version": "1.0.0",
      "model_name": "OutputModel",
      "state": {
       "layout": "IPY_MODEL_e067fc085c36420591db6718a858eca3",
       "outputs": [
        {
         "data": {
          "image/png": "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\n",
          "text/plain": "<Figure size 432x288 with 1 Axes>"
         },
         "metadata": {
          "needs_background": "light"
         },
         "output_type": "display_data"
        }
       ]
      }
     },
     "3c417904fcb94320b4e0af1be43325d8": {
      "model_module": "@jupyter-widgets/controls",
      "model_module_version": "1.4.0",
      "model_name": "SliderStyleModel",
      "state": {
       "description_width": ""
      }
     },
     "3e8ca397dae342318dc8052c558da7f4": {
      "model_module": "@jupyter-widgets/base",
      "model_module_version": "1.1.0",
      "model_name": "LayoutModel",
      "state": {}
     },
     "3ef750bf58664955a9271414822db5d7": {
      "model_module": "@jupyter-widgets/output",
      "model_module_version": "1.0.0",
      "model_name": "OutputModel",
      "state": {
       "layout": "IPY_MODEL_35dcbb468731419e8cc31a5a0935b412",
       "outputs": [
        {
         "data": {
          "image/png": "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\n",
          "text/plain": "<Figure size 432x288 with 1 Axes>"
         },
         "metadata": {
          "needs_background": "light"
         },
         "output_type": "display_data"
        }
       ]
      }
     },
     "3f83b61bf8bb4d03ad2ed46cba530485": {
      "model_module": "@jupyter-widgets/controls",
      "model_module_version": "1.4.0",
      "model_name": "SliderStyleModel",
      "state": {
       "description_width": ""
      }
     },
     "3fb422e2ec044a4e8cdbc437d24faaeb": {
      "model_module": "@jupyter-widgets/base",
      "model_module_version": "1.1.0",
      "model_name": "LayoutModel",
      "state": {}
     },
     "40e9b8befb124860afdc37b745de8020": {
      "model_module": "@jupyter-widgets/base",
      "model_module_version": "1.1.0",
      "model_name": "LayoutModel",
      "state": {}
     },
     "417bd8e7139c414e9d96f1b648a25531": {
      "model_module": "@jupyter-widgets/base",
      "model_module_version": "1.1.0",
      "model_name": "LayoutModel",
      "state": {}
     },
     "42da3b9ddc34479ba0e3bc049b7d1596": {
      "model_module": "@jupyter-widgets/base",
      "model_module_version": "1.1.0",
      "model_name": "LayoutModel",
      "state": {}
     },
     "42deb558afe84181beee4c5454420546": {
      "model_module": "@jupyter-widgets/base",
      "model_module_version": "1.1.0",
      "model_name": "LayoutModel",
      "state": {}
     },
     "4345b2a366e74b27be8f8fbaeb729b79": {
      "model_module": "@jupyter-widgets/base",
      "model_module_version": "1.1.0",
      "model_name": "LayoutModel",
      "state": {}
     },
     "43be77408ef9473f961fbd2d327159f1": {
      "model_module": "@jupyter-widgets/base",
      "model_module_version": "1.1.0",
      "model_name": "LayoutModel",
      "state": {}
     },
     "4422a35dbcfc446d9c07794d4438df58": {
      "model_module": "@jupyter-widgets/output",
      "model_module_version": "1.0.0",
      "model_name": "OutputModel",
      "state": {
       "layout": "IPY_MODEL_687e7f238ac945a78b28a8331dd3697c",
       "outputs": [
        {
         "data": {
          "image/png": "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\n",
          "text/plain": "<Figure size 432x288 with 1 Axes>"
         },
         "metadata": {
          "needs_background": "light"
         },
         "output_type": "display_data"
        }
       ]
      }
     },
     "458fe11277f54b9ab81fdb1fd706b8dc": {
      "model_module": "@jupyter-widgets/controls",
      "model_module_version": "1.4.0",
      "model_name": "SliderStyleModel",
      "state": {
       "description_width": ""
      }
     },
     "459c0388605140b59d0109448ec384b8": {
      "model_module": "@jupyter-widgets/controls",
      "model_module_version": "1.4.0",
      "model_name": "FloatSliderModel",
      "state": {
       "description": "theta0",
       "layout": "IPY_MODEL_17576e13d1994f6da52c6f6caab993a9",
       "max": 2,
       "step": 0.5,
       "style": "IPY_MODEL_5a4d295f8f38486c9d467730dc3baa65"
      }
     },
     "45ae4fd21cb24842981fe506e2c31343": {
      "model_module": "@jupyter-widgets/controls",
      "model_module_version": "1.4.0",
      "model_name": "FloatSliderModel",
      "state": {
       "description": "theta1",
       "layout": "IPY_MODEL_42deb558afe84181beee4c5454420546",
       "max": 2,
       "step": 0.5,
       "style": "IPY_MODEL_a75e0d7e6c1a46c39e303844bad01feb",
       "value": 1
      }
     },
     "47718e4d1b7e48d6b7889278db984eb7": {
      "model_module": "@jupyter-widgets/base",
      "model_module_version": "1.1.0",
      "model_name": "LayoutModel",
      "state": {}
     },
     "47cc76ccc1df4923825c10fef10f2a0e": {
      "model_module": "@jupyter-widgets/controls",
      "model_module_version": "1.4.0",
      "model_name": "SliderStyleModel",
      "state": {
       "description_width": ""
      }
     },
     "48fffa22aff64de28f43509c3f436385": {
      "model_module": "@jupyter-widgets/output",
      "model_module_version": "1.0.0",
      "model_name": "OutputModel",
      "state": {
       "layout": "IPY_MODEL_9f479a37cc30410381a9043f5ee26b24",
       "outputs": [
        {
         "data": {
          "image/png": "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\n",
          "text/plain": "<Figure size 432x288 with 1 Axes>"
         },
         "metadata": {
          "needs_background": "light"
         },
         "output_type": "display_data"
        }
       ]
      }
     },
     "49179b6782e24165824d33449ff74683": {
      "model_module": "@jupyter-widgets/controls",
      "model_module_version": "1.4.0",
      "model_name": "SliderStyleModel",
      "state": {
       "description_width": ""
      }
     },
     "4989bebb6f604857a28683afcf794f03": {
      "model_module": "@jupyter-widgets/base",
      "model_module_version": "1.1.0",
      "model_name": "LayoutModel",
      "state": {}
     },
     "4b6706d4000544dc85fdc3158ccb2521": {
      "model_module": "@jupyter-widgets/base",
      "model_module_version": "1.1.0",
      "model_name": "LayoutModel",
      "state": {}
     },
     "4be878fddb724b8b907b47a576c0bc23": {
      "model_module": "@jupyter-widgets/controls",
      "model_module_version": "1.4.0",
      "model_name": "FloatSliderModel",
      "state": {
       "description": "theta0",
       "layout": "IPY_MODEL_fdc7d9c5aded4f0c9e68efa81375434c",
       "max": 2,
       "step": 0.5,
       "style": "IPY_MODEL_8be4585c583546d68e91ce33cb69c9b7",
       "value": 1
      }
     },
     "4d309f112cf7416cbb3d14d830d3029c": {
      "model_module": "@jupyter-widgets/controls",
      "model_module_version": "1.4.0",
      "model_name": "SliderStyleModel",
      "state": {
       "description_width": ""
      }
     },
     "4d55d24e770f451abb6ca5597a045658": {
      "model_module": "@jupyter-widgets/output",
      "model_module_version": "1.0.0",
      "model_name": "OutputModel",
      "state": {
       "layout": "IPY_MODEL_1c9d5ad7496644d09f113b1cceaf27cf",
       "outputs": [
        {
         "data": {
          "image/png": "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\n",
          "text/plain": "<Figure size 432x288 with 1 Axes>"
         },
         "metadata": {
          "needs_background": "light"
         },
         "output_type": "display_data"
        }
       ]
      }
     },
     "4df67d3e598e4c90a54348f77b5dfdc0": {
      "model_module": "@jupyter-widgets/base",
      "model_module_version": "1.1.0",
      "model_name": "LayoutModel",
      "state": {}
     },
     "4efabe5a8f3e49d097095a73c7d679e1": {
      "model_module": "@jupyter-widgets/base",
      "model_module_version": "1.1.0",
      "model_name": "LayoutModel",
      "state": {}
     },
     "514aace0ca10475a9237186e140eb31a": {
      "model_module": "@jupyter-widgets/base",
      "model_module_version": "1.1.0",
      "model_name": "LayoutModel",
      "state": {}
     },
     "52e1d394af8e4828b96936af93e943e1": {
      "model_module": "@jupyter-widgets/base",
      "model_module_version": "1.1.0",
      "model_name": "LayoutModel",
      "state": {}
     },
     "52f006511b8d4705b23a79365c91022e": {
      "model_module": "@jupyter-widgets/controls",
      "model_module_version": "1.4.0",
      "model_name": "FloatSliderModel",
      "state": {
       "description": "theta0",
       "layout": "IPY_MODEL_0f07bae6afe745a6af6a0d35a3acfdc6",
       "max": 2,
       "step": 0.5,
       "style": "IPY_MODEL_e867e0ddb58a462298223ed3703edcbf",
       "value": 1
      }
     },
     "530120b42e3b4df6a75ae66cd3463c6c": {
      "model_module": "@jupyter-widgets/controls",
      "model_module_version": "1.4.0",
      "model_name": "FloatSliderModel",
      "state": {
       "description": "theta0",
       "layout": "IPY_MODEL_4df67d3e598e4c90a54348f77b5dfdc0",
       "max": 2,
       "step": 0.5,
       "style": "IPY_MODEL_d5728ce552cb428684436c6f0bba0104",
       "value": 1
      }
     },
     "5372d0ad2c674b9d9a65d327a96f6cf3": {
      "model_module": "@jupyter-widgets/base",
      "model_module_version": "1.1.0",
      "model_name": "LayoutModel",
      "state": {}
     },
     "53cc36eb149a4029a676f6a89db6af05": {
      "model_module": "@jupyter-widgets/controls",
      "model_module_version": "1.4.0",
      "model_name": "SliderStyleModel",
      "state": {
       "description_width": ""
      }
     },
     "549a135a271d43b0b5a28517666f9a5e": {
      "model_module": "@jupyter-widgets/controls",
      "model_module_version": "1.4.0",
      "model_name": "FloatSliderModel",
      "state": {
       "description": "theta1",
       "layout": "IPY_MODEL_bc05f0bd98824860b9c97154d2a49f37",
       "max": 2,
       "step": 0.5,
       "style": "IPY_MODEL_946a374033fd4f9ea8915eb7e00ba7b2",
       "value": 1
      }
     },
     "54e047a9d63e4f29b3198f2a799ebfa0": {
      "model_module": "@jupyter-widgets/controls",
      "model_module_version": "1.4.0",
      "model_name": "FloatSliderModel",
      "state": {
       "description": "theta1",
       "layout": "IPY_MODEL_ab49c3d3b1e043dc82096d433582c12a",
       "max": 2,
       "step": 0.5,
       "style": "IPY_MODEL_7c5227369c414b58a0a0c069ff06dbbb",
       "value": 1
      }
     },
     "583cb0faf11d4018a3a776113d553291": {
      "model_module": "@jupyter-widgets/base",
      "model_module_version": "1.1.0",
      "model_name": "LayoutModel",
      "state": {}
     },
     "59ddfc77569b4e9da6af68366c11a155": {
      "model_module": "@jupyter-widgets/controls",
      "model_module_version": "1.4.0",
      "model_name": "FloatSliderModel",
      "state": {
       "description": "theta1",
       "layout": "IPY_MODEL_60488f50dfb1437eb735391296336ae5",
       "max": 2,
       "step": 0.5,
       "style": "IPY_MODEL_c5e5f5635ab04d77aab4887de838a957",
       "value": 1
      }
     },
     "5a4d295f8f38486c9d467730dc3baa65": {
      "model_module": "@jupyter-widgets/controls",
      "model_module_version": "1.4.0",
      "model_name": "SliderStyleModel",
      "state": {
       "description_width": ""
      }
     },
     "5a8af2b95340425d83a5a9b9dd5188e1": {
      "model_module": "@jupyter-widgets/controls",
      "model_module_version": "1.4.0",
      "model_name": "FloatSliderModel",
      "state": {
       "description": "theta0",
       "layout": "IPY_MODEL_583cb0faf11d4018a3a776113d553291",
       "max": 2,
       "step": 0.5,
       "style": "IPY_MODEL_dfaa61e6d47e49e3ada1d139b4388dfc",
       "value": 1.5
      }
     },
     "5b3c3b63baef4560b51c1d346d116991": {
      "model_module": "@jupyter-widgets/base",
      "model_module_version": "1.1.0",
      "model_name": "LayoutModel",
      "state": {}
     },
     "5b3e84819f9d4032aaf14017c92e35e9": {
      "model_module": "@jupyter-widgets/base",
      "model_module_version": "1.1.0",
      "model_name": "LayoutModel",
      "state": {}
     },
     "5cbf0af4c0504105843470b0bae7fbb6": {
      "model_module": "@jupyter-widgets/base",
      "model_module_version": "1.1.0",
      "model_name": "LayoutModel",
      "state": {}
     },
     "5d43bd349bc24d8d9f8d54a361421ec8": {
      "model_module": "@jupyter-widgets/base",
      "model_module_version": "1.1.0",
      "model_name": "LayoutModel",
      "state": {}
     },
     "5d7639a4059d4ec086960373b9c121e2": {
      "model_module": "@jupyter-widgets/controls",
      "model_module_version": "1.4.0",
      "model_name": "FloatSliderModel",
      "state": {
       "description": "theta1",
       "layout": "IPY_MODEL_8d210ddc158140d8910650f6d83b5dcf",
       "max": 2,
       "step": 0.5,
       "style": "IPY_MODEL_7a6fe8e8c89b47019029eae35dee6d26",
       "value": 1
      }
     },
     "5ec0b8e37d4a42bca4b5217ec9204dfe": {
      "model_module": "@jupyter-widgets/base",
      "model_module_version": "1.1.0",
      "model_name": "LayoutModel",
      "state": {}
     },
     "60488f50dfb1437eb735391296336ae5": {
      "model_module": "@jupyter-widgets/base",
      "model_module_version": "1.1.0",
      "model_name": "LayoutModel",
      "state": {}
     },
     "60d1cb90a6ce4a0795ca7ecf815cf0a1": {
      "model_module": "@jupyter-widgets/controls",
      "model_module_version": "1.4.0",
      "model_name": "FloatSliderModel",
      "state": {
       "description": "theta1",
       "layout": "IPY_MODEL_4b6706d4000544dc85fdc3158ccb2521",
       "max": 2,
       "step": 0.5,
       "style": "IPY_MODEL_9b2eeb3d304041998e00ec384b11aa76",
       "value": 1
      }
     },
     "62721de4f4e74ac2bca1a2d4c2356aa3": {
      "model_module": "@jupyter-widgets/base",
      "model_module_version": "1.1.0",
      "model_name": "LayoutModel",
      "state": {}
     },
     "62d15e9122a640ffb3df79bbab1d54ed": {
      "model_module": "@jupyter-widgets/base",
      "model_module_version": "1.1.0",
      "model_name": "LayoutModel",
      "state": {}
     },
     "6336b0950e52417091864b24c878476d": {
      "model_module": "@jupyter-widgets/controls",
      "model_module_version": "1.4.0",
      "model_name": "SliderStyleModel",
      "state": {
       "description_width": ""
      }
     },
     "638e6ab728324b139696ef6b411f7a40": {
      "model_module": "@jupyter-widgets/base",
      "model_module_version": "1.1.0",
      "model_name": "LayoutModel",
      "state": {}
     },
     "64156d9e792643c2b508e02d4b2191b4": {
      "model_module": "@jupyter-widgets/base",
      "model_module_version": "1.1.0",
      "model_name": "LayoutModel",
      "state": {}
     },
     "64449495cf1449ce9216eaedaf3235fe": {
      "model_module": "@jupyter-widgets/controls",
      "model_module_version": "1.4.0",
      "model_name": "SliderStyleModel",
      "state": {
       "description_width": ""
      }
     },
     "64e8fdc48ab34bf1ac30b4930b1d2dc7": {
      "model_module": "@jupyter-widgets/base",
      "model_module_version": "1.1.0",
      "model_name": "LayoutModel",
      "state": {}
     },
     "65078022f39f4c589c73168219a709a3": {
      "model_module": "@jupyter-widgets/controls",
      "model_module_version": "1.4.0",
      "model_name": "VBoxModel",
      "state": {
       "_dom_classes": [
        "widget-interact"
       ],
       "children": [
        "IPY_MODEL_cbb91f78897d4a07bea57c9f8601d459",
        "IPY_MODEL_549a135a271d43b0b5a28517666f9a5e",
        "IPY_MODEL_e3be89f1cf1a4564b4387e3de0c085be"
       ],
       "layout": "IPY_MODEL_f91f0ff8046c41f7af89041a04b847a2"
      }
     },
     "653165a2f7a342858a5a14d94f58a947": {
      "model_module": "@jupyter-widgets/base",
      "model_module_version": "1.1.0",
      "model_name": "LayoutModel",
      "state": {}
     },
     "65f9d5ce98f14340bbedcb8bad847365": {
      "model_module": "@jupyter-widgets/output",
      "model_module_version": "1.0.0",
      "model_name": "OutputModel",
      "state": {
       "layout": "IPY_MODEL_c59ed293a9644284a8585ad9a31d987c",
       "outputs": [
        {
         "data": {
          "image/png": "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\n",
          "text/plain": "<Figure size 432x288 with 1 Axes>"
         },
         "metadata": {
          "needs_background": "light"
         },
         "output_type": "display_data"
        }
       ]
      }
     },
     "662090fcb4b74867800e6e2b03db2aa5": {
      "model_module": "@jupyter-widgets/controls",
      "model_module_version": "1.4.0",
      "model_name": "VBoxModel",
      "state": {
       "_dom_classes": [
        "widget-interact"
       ],
       "children": [
        "IPY_MODEL_5a8af2b95340425d83a5a9b9dd5188e1",
        "IPY_MODEL_d793a2b18e6f4957b38930fdea76b3cf",
        "IPY_MODEL_d2e83e14540f48c3835ec5c3e558bf50"
       ],
       "layout": "IPY_MODEL_e1fca6c391974a0fa8b335d9c806eab1"
      }
     },
     "671ad9fd6b814fecb998704114ea4b7d": {
      "model_module": "@jupyter-widgets/controls",
      "model_module_version": "1.4.0",
      "model_name": "SliderStyleModel",
      "state": {
       "description_width": ""
      }
     },
     "6794c7785ae94a27bf2f310fa3d12003": {
      "model_module": "@jupyter-widgets/controls",
      "model_module_version": "1.4.0",
      "model_name": "SliderStyleModel",
      "state": {
       "description_width": ""
      }
     },
     "6818b9f834e04323bb49f52bcd8b7944": {
      "model_module": "@jupyter-widgets/controls",
      "model_module_version": "1.4.0",
      "model_name": "VBoxModel",
      "state": {
       "_dom_classes": [
        "widget-interact"
       ],
       "children": [
        "IPY_MODEL_39bcf1d670d347ffa8e2b11a28108348",
        "IPY_MODEL_0511cef01fc546bea0644519ab052181",
        "IPY_MODEL_4422a35dbcfc446d9c07794d4438df58"
       ],
       "layout": "IPY_MODEL_8718224abbff46279067c8eae64522b3"
      }
     },
     "687e7f238ac945a78b28a8331dd3697c": {
      "model_module": "@jupyter-widgets/base",
      "model_module_version": "1.1.0",
      "model_name": "LayoutModel",
      "state": {}
     },
     "68cc0113fa7c423eae0d22abec76b411": {
      "model_module": "@jupyter-widgets/base",
      "model_module_version": "1.1.0",
      "model_name": "LayoutModel",
      "state": {}
     },
     "6bd251044eaf4553af4c55d9ba022801": {
      "model_module": "@jupyter-widgets/base",
      "model_module_version": "1.1.0",
      "model_name": "LayoutModel",
      "state": {}
     },
     "6c6b7f4b2393460baa066f4cc96f936d": {
      "model_module": "@jupyter-widgets/controls",
      "model_module_version": "1.4.0",
      "model_name": "SliderStyleModel",
      "state": {
       "description_width": ""
      }
     },
     "6d46b8de4aef4144b64d7289c9bbf53c": {
      "model_module": "@jupyter-widgets/controls",
      "model_module_version": "1.4.0",
      "model_name": "FloatSliderModel",
      "state": {
       "description": "theta1",
       "layout": "IPY_MODEL_c58a2b2bf1654d57a108b98d175de2ec",
       "max": 2,
       "step": 0.5,
       "style": "IPY_MODEL_0c00cedad8ff4624b3f851e0f4b185b7",
       "value": 1
      }
     },
     "6e38166353a8402a971f6fb961aa8b7b": {
      "model_module": "@jupyter-widgets/controls",
      "model_module_version": "1.4.0",
      "model_name": "FloatSliderModel",
      "state": {
       "description": "theta1",
       "layout": "IPY_MODEL_c76d921dc406481bb4a577b4f6c0039e",
       "max": 2,
       "step": 0.5,
       "style": "IPY_MODEL_92f1ca87e70349e781a35a6248b9e379",
       "value": 1
      }
     },
     "6f536b09786f469fb0a48893b21a2dda": {
      "model_module": "@jupyter-widgets/controls",
      "model_module_version": "1.4.0",
      "model_name": "SliderStyleModel",
      "state": {
       "description_width": ""
      }
     },
     "6fba22d6366b408e87b2ec6a766510d2": {
      "model_module": "@jupyter-widgets/controls",
      "model_module_version": "1.4.0",
      "model_name": "VBoxModel",
      "state": {
       "_dom_classes": [
        "widget-interact"
       ],
       "children": [
        "IPY_MODEL_8c5c438270124a73b05da93a7324a466",
        "IPY_MODEL_017f7c210f444d3ea1c344eb3353aae9",
        "IPY_MODEL_7c3c19e7c50d483a8fb4fb2582e30887"
       ],
       "layout": "IPY_MODEL_e6b19e877e97490bacec21d59a7b5199"
      }
     },
     "709178786e2e43999767de17bf91d670": {
      "model_module": "@jupyter-widgets/controls",
      "model_module_version": "1.4.0",
      "model_name": "FloatSliderModel",
      "state": {
       "description": "theta0",
       "layout": "IPY_MODEL_f0af7f42b3a44182af3a92ccf6bc8517",
       "max": 2,
       "step": 0.5,
       "style": "IPY_MODEL_53cc36eb149a4029a676f6a89db6af05",
       "value": 1
      }
     },
     "70f8ebcdf82c4ec285293b748c426715": {
      "model_module": "@jupyter-widgets/base",
      "model_module_version": "1.1.0",
      "model_name": "LayoutModel",
      "state": {}
     },
     "720e189e78c04aa6b619a28c470f7b5d": {
      "model_module": "@jupyter-widgets/controls",
      "model_module_version": "1.4.0",
      "model_name": "VBoxModel",
      "state": {
       "_dom_classes": [
        "widget-interact"
       ],
       "children": [
        "IPY_MODEL_e9a3afe513d14da18fbd0439c834c1f9",
        "IPY_MODEL_54e047a9d63e4f29b3198f2a799ebfa0",
        "IPY_MODEL_df199be116cb4955b32f9b4802a5517c"
       ],
       "layout": "IPY_MODEL_7b22ea3f82014f8296a85d94aae6508e"
      }
     },
     "72c3f0a1544648b9be745facaa9ae293": {
      "model_module": "@jupyter-widgets/controls",
      "model_module_version": "1.4.0",
      "model_name": "VBoxModel",
      "state": {
       "_dom_classes": [
        "widget-interact"
       ],
       "children": [
        "IPY_MODEL_c7f38d4140e64673b5367740104bf672",
        "IPY_MODEL_c41f0d9b4ba344fb886d9e229bb79455",
        "IPY_MODEL_8fa950d39df54e62b339c62e3cf8f22e"
       ],
       "layout": "IPY_MODEL_ffb4cb2db50d42a5b4368d77dcb594ce"
      }
     },
     "7358879cc0304bdda9819edb4fee3012": {
      "model_module": "@jupyter-widgets/base",
      "model_module_version": "1.1.0",
      "model_name": "LayoutModel",
      "state": {}
     },
     "73725a1f40c84838b5c65818681c8039": {
      "model_module": "@jupyter-widgets/base",
      "model_module_version": "1.1.0",
      "model_name": "LayoutModel",
      "state": {}
     },
     "73eede76572a4fea83a75ce158fa69f0": {
      "model_module": "@jupyter-widgets/controls",
      "model_module_version": "1.4.0",
      "model_name": "FloatSliderModel",
      "state": {
       "description": "theta0",
       "layout": "IPY_MODEL_b143fc20fe264e70b27ef3e0cb331d74",
       "max": 2,
       "step": 0.5,
       "style": "IPY_MODEL_7b6832a95018488e94eb0daaeea15e71",
       "value": 1
      }
     },
     "746f4edf067b4026a35a4529aba79a99": {
      "model_module": "@jupyter-widgets/controls",
      "model_module_version": "1.4.0",
      "model_name": "SliderStyleModel",
      "state": {
       "description_width": ""
      }
     },
     "748e41c8b77a4f6eb31312c2f2e10d44": {
      "model_module": "@jupyter-widgets/base",
      "model_module_version": "1.1.0",
      "model_name": "LayoutModel",
      "state": {}
     },
     "7526c8828ac54164872c3fdf8055ae41": {
      "model_module": "@jupyter-widgets/base",
      "model_module_version": "1.1.0",
      "model_name": "LayoutModel",
      "state": {}
     },
     "757e4995940c44ca95f3e01994981c0d": {
      "model_module": "@jupyter-widgets/base",
      "model_module_version": "1.1.0",
      "model_name": "LayoutModel",
      "state": {}
     },
     "75cd4497c94845559389939884aee247": {
      "model_module": "@jupyter-widgets/base",
      "model_module_version": "1.1.0",
      "model_name": "LayoutModel",
      "state": {}
     },
     "768c212a5f614c83b35d1ef49baa4a16": {
      "model_module": "@jupyter-widgets/controls",
      "model_module_version": "1.4.0",
      "model_name": "SliderStyleModel",
      "state": {
       "description_width": ""
      }
     },
     "76a39902dba64e77a7b52baaecc42eba": {
      "model_module": "@jupyter-widgets/output",
      "model_module_version": "1.0.0",
      "model_name": "OutputModel",
      "state": {
       "layout": "IPY_MODEL_891c3b7d7587498faf386ec5c1c5c4af",
       "outputs": [
        {
         "data": {
          "image/png": "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\n",
          "text/plain": "<Figure size 432x288 with 1 Axes>"
         },
         "metadata": {
          "needs_background": "light"
         },
         "output_type": "display_data"
        }
       ]
      }
     },
     "7713467197654e84afbd62ec5108f7a9": {
      "model_module": "@jupyter-widgets/base",
      "model_module_version": "1.1.0",
      "model_name": "LayoutModel",
      "state": {}
     },
     "774a88aed9a54075a6579b0c0bc9e511": {
      "model_module": "@jupyter-widgets/base",
      "model_module_version": "1.1.0",
      "model_name": "LayoutModel",
      "state": {}
     },
     "777dc953c2ac4d3ba755d7ee1879d099": {
      "model_module": "@jupyter-widgets/base",
      "model_module_version": "1.1.0",
      "model_name": "LayoutModel",
      "state": {}
     },
     "7880184dab56416c9e6523568d4a1ae4": {
      "model_module": "@jupyter-widgets/output",
      "model_module_version": "1.0.0",
      "model_name": "OutputModel",
      "state": {
       "layout": "IPY_MODEL_e4a33b6938284cce826a86d80cb07e5d",
       "outputs": [
        {
         "data": {
          "image/png": "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\n",
          "text/plain": "<Figure size 432x288 with 1 Axes>"
         },
         "metadata": {
          "needs_background": "light"
         },
         "output_type": "display_data"
        }
       ]
      }
     },
     "798026cf38af42cf859effd3b2790cb9": {
      "model_module": "@jupyter-widgets/base",
      "model_module_version": "1.1.0",
      "model_name": "LayoutModel",
      "state": {}
     },
     "79a68f3a2b414d529f205be6bec6cbe3": {
      "model_module": "@jupyter-widgets/controls",
      "model_module_version": "1.4.0",
      "model_name": "SliderStyleModel",
      "state": {
       "description_width": ""
      }
     },
     "79d3f354b69248c8974cb451e640b137": {
      "model_module": "@jupyter-widgets/output",
      "model_module_version": "1.0.0",
      "model_name": "OutputModel",
      "state": {
       "layout": "IPY_MODEL_accc4dbe3d4e42f18b003ea293d9d216",
       "outputs": [
        {
         "ename": "NameError",
         "evalue": "name 'x' is not defined",
         "output_type": "error",
         "traceback": [
          "\u001b[0;31m---------------------------------------------------------------------------\u001b[0m",
          "\u001b[0;31mNameError\u001b[0m                                 Traceback (most recent call last)",
          "\u001b[0;32m~/anaconda3/lib/python3.6/site-packages/ipywidgets/widgets/interaction.py\u001b[0m in \u001b[0;36mupdate\u001b[0;34m(self, *args)\u001b[0m\n\u001b[1;32m    249\u001b[0m                     \u001b[0mvalue\u001b[0m \u001b[0;34m=\u001b[0m \u001b[0mwidget\u001b[0m\u001b[0;34m.\u001b[0m\u001b[0mget_interact_value\u001b[0m\u001b[0;34m(\u001b[0m\u001b[0;34m)\u001b[0m\u001b[0;34m\u001b[0m\u001b[0;34m\u001b[0m\u001b[0m\n\u001b[1;32m    250\u001b[0m                     \u001b[0mself\u001b[0m\u001b[0;34m.\u001b[0m\u001b[0mkwargs\u001b[0m\u001b[0;34m[\u001b[0m\u001b[0mwidget\u001b[0m\u001b[0;34m.\u001b[0m\u001b[0m_kwarg\u001b[0m\u001b[0;34m]\u001b[0m \u001b[0;34m=\u001b[0m \u001b[0mvalue\u001b[0m\u001b[0;34m\u001b[0m\u001b[0;34m\u001b[0m\u001b[0m\n\u001b[0;32m--> 251\u001b[0;31m                 \u001b[0mself\u001b[0m\u001b[0;34m.\u001b[0m\u001b[0mresult\u001b[0m \u001b[0;34m=\u001b[0m \u001b[0mself\u001b[0m\u001b[0;34m.\u001b[0m\u001b[0mf\u001b[0m\u001b[0;34m(\u001b[0m\u001b[0;34m**\u001b[0m\u001b[0mself\u001b[0m\u001b[0;34m.\u001b[0m\u001b[0mkwargs\u001b[0m\u001b[0;34m)\u001b[0m\u001b[0;34m\u001b[0m\u001b[0;34m\u001b[0m\u001b[0m\n\u001b[0m\u001b[1;32m    252\u001b[0m                 \u001b[0mshow_inline_matplotlib_plots\u001b[0m\u001b[0;34m(\u001b[0m\u001b[0;34m)\u001b[0m\u001b[0;34m\u001b[0m\u001b[0;34m\u001b[0m\u001b[0m\n\u001b[1;32m    253\u001b[0m                 \u001b[0;32mif\u001b[0m \u001b[0mself\u001b[0m\u001b[0;34m.\u001b[0m\u001b[0mauto_display\u001b[0m \u001b[0;32mand\u001b[0m \u001b[0mself\u001b[0m\u001b[0;34m.\u001b[0m\u001b[0mresult\u001b[0m \u001b[0;32mis\u001b[0m \u001b[0;32mnot\u001b[0m \u001b[0;32mNone\u001b[0m\u001b[0;34m:\u001b[0m\u001b[0;34m\u001b[0m\u001b[0;34m\u001b[0m\u001b[0m\n",
          "\u001b[0;32m<ipython-input-15-fbf426f242b1>\u001b[0m in \u001b[0;36mlineplt\u001b[0;34m(theta0, theta1)\u001b[0m\n\u001b[1;32m      3\u001b[0m \u001b[0;32mdef\u001b[0m \u001b[0mlineplt\u001b[0m\u001b[0;34m(\u001b[0m\u001b[0mtheta0\u001b[0m\u001b[0;34m,\u001b[0m \u001b[0mtheta1\u001b[0m\u001b[0;34m)\u001b[0m\u001b[0;34m:\u001b[0m\u001b[0;34m\u001b[0m\u001b[0;34m\u001b[0m\u001b[0m\n\u001b[1;32m      4\u001b[0m     \u001b[0mplt\u001b[0m\u001b[0;34m.\u001b[0m\u001b[0mplot\u001b[0m\u001b[0;34m(\u001b[0m\u001b[0mdata\u001b[0m\u001b[0;34m[\u001b[0m\u001b[0;34m'wt'\u001b[0m\u001b[0;34m]\u001b[0m\u001b[0;34m,\u001b[0m \u001b[0mdata\u001b[0m\u001b[0;34m[\u001b[0m\u001b[0;34m'ht'\u001b[0m\u001b[0;34m]\u001b[0m\u001b[0;34m)\u001b[0m\u001b[0;34m\u001b[0m\u001b[0;34m\u001b[0m\u001b[0m\n\u001b[0;32m----> 5\u001b[0;31m     \u001b[0mplt\u001b[0m\u001b[0;34m.\u001b[0m\u001b[0mplot\u001b[0m\u001b[0;34m(\u001b[0m\u001b[0mx\u001b[0m\u001b[0;34m,\u001b[0m \u001b[0mtheta1\u001b[0m\u001b[0;34m*\u001b[0m\u001b[0mx\u001b[0m \u001b[0;34m+\u001b[0m \u001b[0mtheta0\u001b[0m\u001b[0;34m)\u001b[0m\u001b[0;34m\u001b[0m\u001b[0;34m\u001b[0m\u001b[0m\n\u001b[0m\u001b[1;32m      6\u001b[0m     \u001b[0mplt\u001b[0m\u001b[0;34m.\u001b[0m\u001b[0mxlabel\u001b[0m\u001b[0;34m(\u001b[0m\u001b[0;34m'x'\u001b[0m\u001b[0;34m)\u001b[0m\u001b[0;34m\u001b[0m\u001b[0;34m\u001b[0m\u001b[0m\n\u001b[1;32m      7\u001b[0m     \u001b[0mplt\u001b[0m\u001b[0;34m.\u001b[0m\u001b[0mylabel\u001b[0m\u001b[0;34m(\u001b[0m\u001b[0;34m'y'\u001b[0m\u001b[0;34m)\u001b[0m\u001b[0;34m\u001b[0m\u001b[0;34m\u001b[0m\u001b[0m\n",
          "\u001b[0;31mNameError\u001b[0m: name 'x' is not defined"
         ]
        }
       ]
      }
     },
     "7a4e748280404012b2038364d663efb5": {
      "model_module": "@jupyter-widgets/controls",
      "model_module_version": "1.4.0",
      "model_name": "FloatSliderModel",
      "state": {
       "description": "theta1",
       "layout": "IPY_MODEL_30ef3fb5bf7e4806a2fa25c9cd8d3ac4",
       "max": 2,
       "step": 0.5,
       "style": "IPY_MODEL_0c1959e12ab0478f9d870315a5dcaf2a",
       "value": 1
      }
     },
     "7a6fe8e8c89b47019029eae35dee6d26": {
      "model_module": "@jupyter-widgets/controls",
      "model_module_version": "1.4.0",
      "model_name": "SliderStyleModel",
      "state": {
       "description_width": ""
      }
     },
     "7abeb5d03aec4b4598cfcc1bc21fff34": {
      "model_module": "@jupyter-widgets/base",
      "model_module_version": "1.1.0",
      "model_name": "LayoutModel",
      "state": {}
     },
     "7b22ea3f82014f8296a85d94aae6508e": {
      "model_module": "@jupyter-widgets/base",
      "model_module_version": "1.1.0",
      "model_name": "LayoutModel",
      "state": {}
     },
     "7b6832a95018488e94eb0daaeea15e71": {
      "model_module": "@jupyter-widgets/controls",
      "model_module_version": "1.4.0",
      "model_name": "SliderStyleModel",
      "state": {
       "description_width": ""
      }
     },
     "7bb4138d04c6475aa095c9c74f2d9662": {
      "model_module": "@jupyter-widgets/output",
      "model_module_version": "1.0.0",
      "model_name": "OutputModel",
      "state": {
       "layout": "IPY_MODEL_5d43bd349bc24d8d9f8d54a361421ec8",
       "outputs": [
        {
         "data": {
          "image/png": "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\n",
          "text/plain": "<Figure size 432x288 with 1 Axes>"
         },
         "metadata": {
          "needs_background": "light"
         },
         "output_type": "display_data"
        }
       ]
      }
     },
     "7bb7a36544a8447da0e44c70d0cb819c": {
      "model_module": "@jupyter-widgets/controls",
      "model_module_version": "1.4.0",
      "model_name": "SliderStyleModel",
      "state": {
       "description_width": ""
      }
     },
     "7c3c19e7c50d483a8fb4fb2582e30887": {
      "model_module": "@jupyter-widgets/output",
      "model_module_version": "1.0.0",
      "model_name": "OutputModel",
      "state": {
       "layout": "IPY_MODEL_ed0cf7942871442a968a791e1ced9b2b",
       "outputs": [
        {
         "data": {
          "image/png": "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\n",
          "text/plain": "<Figure size 432x288 with 1 Axes>"
         },
         "metadata": {
          "needs_background": "light"
         },
         "output_type": "display_data"
        }
       ]
      }
     },
     "7c5227369c414b58a0a0c069ff06dbbb": {
      "model_module": "@jupyter-widgets/controls",
      "model_module_version": "1.4.0",
      "model_name": "SliderStyleModel",
      "state": {
       "description_width": ""
      }
     },
     "7c77198110ca41ed8d1ccd738d60f833": {
      "model_module": "@jupyter-widgets/controls",
      "model_module_version": "1.4.0",
      "model_name": "FloatSliderModel",
      "state": {
       "description": "theta1",
       "layout": "IPY_MODEL_2a1fe5387c3e498bad2dcda1b65a8804",
       "max": 2,
       "step": 0.5,
       "style": "IPY_MODEL_a157e6232409485797762951e2db81cc"
      }
     },
     "7c8e4b5695b04b78bbcaa035c729c80f": {
      "model_module": "@jupyter-widgets/controls",
      "model_module_version": "1.4.0",
      "model_name": "SliderStyleModel",
      "state": {
       "description_width": ""
      }
     },
     "7d95506b8fbe4be094f2784f568973dc": {
      "model_module": "@jupyter-widgets/controls",
      "model_module_version": "1.4.0",
      "model_name": "SliderStyleModel",
      "state": {
       "description_width": ""
      }
     },
     "7ebd47d87d8f4e629b94ffc3cdc13fc4": {
      "model_module": "@jupyter-widgets/controls",
      "model_module_version": "1.4.0",
      "model_name": "FloatSliderModel",
      "state": {
       "description": "theta0",
       "layout": "IPY_MODEL_85605e6fd3934fd2add9a1f079b4c1cd",
       "max": 3,
       "step": 0.5,
       "style": "IPY_MODEL_f23a0d7edd3a4779ada4169c7f7bd5b9",
       "value": 2.5
      }
     },
     "7ef42b6ec73b4c1297234c4bd28031a7": {
      "model_module": "@jupyter-widgets/controls",
      "model_module_version": "1.4.0",
      "model_name": "SliderStyleModel",
      "state": {
       "description_width": ""
      }
     },
     "7f02b165395044a793551e350da46615": {
      "model_module": "@jupyter-widgets/controls",
      "model_module_version": "1.4.0",
      "model_name": "FloatSliderModel",
      "state": {
       "description": "theta1",
       "layout": "IPY_MODEL_5cbf0af4c0504105843470b0bae7fbb6",
       "max": 2,
       "step": 0.5,
       "style": "IPY_MODEL_7bb7a36544a8447da0e44c70d0cb819c",
       "value": 0.5
      }
     },
     "80497bce363b4bc6ba2680bcbe58babc": {
      "model_module": "@jupyter-widgets/output",
      "model_module_version": "1.0.0",
      "model_name": "OutputModel",
      "state": {
       "layout": "IPY_MODEL_e428be42db3540bca69bd043e3b4e8c6",
       "outputs": [
        {
         "data": {
          "image/png": "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\n",
          "text/plain": "<Figure size 432x288 with 1 Axes>"
         },
         "metadata": {
          "needs_background": "light"
         },
         "output_type": "display_data"
        }
       ]
      }
     },
     "810c6def016a47ddaa9b8200cd596f00": {
      "model_module": "@jupyter-widgets/controls",
      "model_module_version": "1.4.0",
      "model_name": "VBoxModel",
      "state": {
       "_dom_classes": [
        "widget-interact"
       ],
       "children": [
        "IPY_MODEL_b46aa6c53f2a40548966b722f59d2560",
        "IPY_MODEL_a58dd8779c194d9a8b002e3f2414e664",
        "IPY_MODEL_48fffa22aff64de28f43509c3f436385"
       ],
       "layout": "IPY_MODEL_9b4af615461245c7a368af1b9e4b4058"
      }
     },
     "810da5fbb65149b7bbec94c9d5bda012": {
      "model_module": "@jupyter-widgets/controls",
      "model_module_version": "1.4.0",
      "model_name": "SliderStyleModel",
      "state": {
       "description_width": ""
      }
     },
     "8158ee73e07848d4a4bddf35698661b2": {
      "model_module": "@jupyter-widgets/base",
      "model_module_version": "1.1.0",
      "model_name": "LayoutModel",
      "state": {}
     },
     "838d6be8a0e141bcbb655a89c911c2c8": {
      "model_module": "@jupyter-widgets/base",
      "model_module_version": "1.1.0",
      "model_name": "LayoutModel",
      "state": {}
     },
     "85605e6fd3934fd2add9a1f079b4c1cd": {
      "model_module": "@jupyter-widgets/base",
      "model_module_version": "1.1.0",
      "model_name": "LayoutModel",
      "state": {}
     },
     "85a13c36c0f34a02b329b20cb30b600d": {
      "model_module": "@jupyter-widgets/controls",
      "model_module_version": "1.4.0",
      "model_name": "FloatSliderModel",
      "state": {
       "description": "b",
       "layout": "IPY_MODEL_d27e799fce5f411482ae37b93c64608a",
       "max": 3,
       "min": -3,
       "step": 0.5,
       "style": "IPY_MODEL_f2349bb351c94a3dad04b3b2c6cc8e41",
       "value": 2
      }
     },
     "85cd3feb8868481f8d799d7ec8a1ff6a": {
      "model_module": "@jupyter-widgets/base",
      "model_module_version": "1.1.0",
      "model_name": "LayoutModel",
      "state": {}
     },
     "8718224abbff46279067c8eae64522b3": {
      "model_module": "@jupyter-widgets/base",
      "model_module_version": "1.1.0",
      "model_name": "LayoutModel",
      "state": {}
     },
     "873e2164a87b4f41af5b84feb3a4295e": {
      "model_module": "@jupyter-widgets/base",
      "model_module_version": "1.1.0",
      "model_name": "LayoutModel",
      "state": {}
     },
     "883ae6a2facf4a00b75a39cbb8b94b8f": {
      "model_module": "@jupyter-widgets/controls",
      "model_module_version": "1.4.0",
      "model_name": "FloatSliderModel",
      "state": {
       "description": "theta0",
       "layout": "IPY_MODEL_653165a2f7a342858a5a14d94f58a947",
       "max": 2,
       "step": 0.5,
       "style": "IPY_MODEL_ff23ecc149ef49b8ac424fa8805d73cf",
       "value": 1
      }
     },
     "891c3b7d7587498faf386ec5c1c5c4af": {
      "model_module": "@jupyter-widgets/base",
      "model_module_version": "1.1.0",
      "model_name": "LayoutModel",
      "state": {}
     },
     "894b26c0ef9b4b00ab2e2152ac96f279": {
      "model_module": "@jupyter-widgets/controls",
      "model_module_version": "1.4.0",
      "model_name": "FloatSliderModel",
      "state": {
       "description": "theta1",
       "layout": "IPY_MODEL_e3b1f052aa97474daa1d5ad3ee941222",
       "max": 2,
       "step": 0.5,
       "style": "IPY_MODEL_922a340e177a41b98fc2550816446ce3",
       "value": 1
      }
     },
     "8952c0b42be04a9387e23c3071c678a8": {
      "model_module": "@jupyter-widgets/base",
      "model_module_version": "1.1.0",
      "model_name": "LayoutModel",
      "state": {}
     },
     "8a20b3e7a578426da61d051dbb8968a1": {
      "model_module": "@jupyter-widgets/controls",
      "model_module_version": "1.4.0",
      "model_name": "SliderStyleModel",
      "state": {
       "description_width": ""
      }
     },
     "8a2bdd1d9b8843dd8ef7af3b0901417a": {
      "model_module": "@jupyter-widgets/base",
      "model_module_version": "1.1.0",
      "model_name": "LayoutModel",
      "state": {}
     },
     "8b145d6de13242508c783ff23d3b1289": {
      "model_module": "@jupyter-widgets/controls",
      "model_module_version": "1.4.0",
      "model_name": "VBoxModel",
      "state": {
       "_dom_classes": [
        "widget-interact"
       ],
       "children": [
        "IPY_MODEL_c22d0a9165ee49e59bc7ec162e6c6793",
        "IPY_MODEL_85a13c36c0f34a02b329b20cb30b600d",
        "IPY_MODEL_dc792da6cc1445c39e5d011dcf507b19"
       ],
       "layout": "IPY_MODEL_0b17bdfa8f1d47798ddb2bcb782428f6"
      }
     },
     "8b43e9bdb1f3467c9ec931c5b49c9e98": {
      "model_module": "@jupyter-widgets/controls",
      "model_module_version": "1.4.0",
      "model_name": "VBoxModel",
      "state": {
       "_dom_classes": [
        "widget-interact"
       ],
       "children": [
        "IPY_MODEL_2140b5fe1610407eb9dd9ca618572422",
        "IPY_MODEL_7a4e748280404012b2038364d663efb5",
        "IPY_MODEL_102bf004418f4e11a9fecac87486d490"
       ],
       "layout": "IPY_MODEL_85cd3feb8868481f8d799d7ec8a1ff6a"
      }
     },
     "8be4585c583546d68e91ce33cb69c9b7": {
      "model_module": "@jupyter-widgets/controls",
      "model_module_version": "1.4.0",
      "model_name": "SliderStyleModel",
      "state": {
       "description_width": ""
      }
     },
     "8c5c438270124a73b05da93a7324a466": {
      "model_module": "@jupyter-widgets/controls",
      "model_module_version": "1.4.0",
      "model_name": "FloatSliderModel",
      "state": {
       "description": "theta0",
       "layout": "IPY_MODEL_ee137716945b49c1ad71df3ce7236368",
       "max": 2,
       "step": 0.5,
       "style": "IPY_MODEL_8cd12186257c4c26a96d53537a5221d6"
      }
     },
     "8ca93dbf71fb4f71a21629cc1986670d": {
      "model_module": "@jupyter-widgets/controls",
      "model_module_version": "1.4.0",
      "model_name": "VBoxModel",
      "state": {
       "_dom_classes": [
        "widget-interact"
       ],
       "children": [
        "IPY_MODEL_96db7f27bc0a41f2b80feac850a83da9",
        "IPY_MODEL_a731c01c7f124633a2e5a5929db8b6af",
        "IPY_MODEL_c9f8a4b578fd4162b08d62bc806d2cb8"
       ],
       "layout": "IPY_MODEL_8158ee73e07848d4a4bddf35698661b2"
      }
     },
     "8cd12186257c4c26a96d53537a5221d6": {
      "model_module": "@jupyter-widgets/controls",
      "model_module_version": "1.4.0",
      "model_name": "SliderStyleModel",
      "state": {
       "description_width": ""
      }
     },
     "8d210ddc158140d8910650f6d83b5dcf": {
      "model_module": "@jupyter-widgets/base",
      "model_module_version": "1.1.0",
      "model_name": "LayoutModel",
      "state": {}
     },
     "8d5a5d0640bd4172a054c52403ed507e": {
      "model_module": "@jupyter-widgets/base",
      "model_module_version": "1.1.0",
      "model_name": "LayoutModel",
      "state": {}
     },
     "8d695e36411046a8bd2501d7ec0f6749": {
      "model_module": "@jupyter-widgets/base",
      "model_module_version": "1.1.0",
      "model_name": "LayoutModel",
      "state": {}
     },
     "8de0ada922604ab7b64f4188ba9f09af": {
      "model_module": "@jupyter-widgets/base",
      "model_module_version": "1.1.0",
      "model_name": "LayoutModel",
      "state": {}
     },
     "8ec7a9a99ef14787a52d73399f4fd44f": {
      "model_module": "@jupyter-widgets/base",
      "model_module_version": "1.1.0",
      "model_name": "LayoutModel",
      "state": {}
     },
     "8f4a1fffa61f496ca7b016327b9a95ff": {
      "model_module": "@jupyter-widgets/controls",
      "model_module_version": "1.4.0",
      "model_name": "SliderStyleModel",
      "state": {
       "description_width": ""
      }
     },
     "8f87f7a8e1ed4002b46f3421bf650547": {
      "model_module": "@jupyter-widgets/controls",
      "model_module_version": "1.4.0",
      "model_name": "FloatSliderModel",
      "state": {
       "description": "theta0",
       "layout": "IPY_MODEL_2ddc522c411c4aa48541553258d4cec4",
       "max": 2,
       "step": 0.5,
       "style": "IPY_MODEL_671ad9fd6b814fecb998704114ea4b7d",
       "value": 1
      }
     },
     "8fa950d39df54e62b339c62e3cf8f22e": {
      "model_module": "@jupyter-widgets/output",
      "model_module_version": "1.0.0",
      "model_name": "OutputModel",
      "state": {
       "layout": "IPY_MODEL_417bd8e7139c414e9d96f1b648a25531",
       "outputs": [
        {
         "data": {
          "image/png": "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\n",
          "text/plain": "<Figure size 432x288 with 1 Axes>"
         },
         "metadata": {
          "needs_background": "light"
         },
         "output_type": "display_data"
        }
       ]
      }
     },
     "8ff00891f9db4cd19525d6ad1689dfe6": {
      "model_module": "@jupyter-widgets/output",
      "model_module_version": "1.0.0",
      "model_name": "OutputModel",
      "state": {
       "layout": "IPY_MODEL_310a29ea0219450dbc4373574cd0ba0a",
       "outputs": [
        {
         "data": {
          "image/png": "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\n",
          "text/plain": "<Figure size 432x288 with 1 Axes>"
         },
         "metadata": {
          "needs_background": "light"
         },
         "output_type": "display_data"
        }
       ]
      }
     },
     "903367aa7c994ac69a7d19110bd30e3d": {
      "model_module": "@jupyter-widgets/base",
      "model_module_version": "1.1.0",
      "model_name": "LayoutModel",
      "state": {}
     },
     "90adbee290f444859c46a865546d9836": {
      "model_module": "@jupyter-widgets/output",
      "model_module_version": "1.0.0",
      "model_name": "OutputModel",
      "state": {
       "layout": "IPY_MODEL_c7c12c92e67a4655bc7fa1e4e4aaf235",
       "outputs": [
        {
         "data": {
          "image/png": "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\n",
          "text/plain": "<Figure size 432x288 with 1 Axes>"
         },
         "metadata": {
          "needs_background": "light"
         },
         "output_type": "display_data"
        }
       ]
      }
     },
     "9121da7df8974122a54a81e1b79f997d": {
      "model_module": "@jupyter-widgets/controls",
      "model_module_version": "1.4.0",
      "model_name": "FloatSliderModel",
      "state": {
       "description": "theta1",
       "layout": "IPY_MODEL_ce92b5164c9344e1aa9f43b896a19573",
       "max": 2,
       "step": 0.5,
       "style": "IPY_MODEL_96d581aa9c254039b274bd6852aa837b",
       "value": 1
      }
     },
     "916282437b1243ebb150aa2e7356df9a": {
      "model_module": "@jupyter-widgets/controls",
      "model_module_version": "1.4.0",
      "model_name": "SliderStyleModel",
      "state": {
       "description_width": ""
      }
     },
     "91d4a01dac554ad7b737d7f6a919d659": {
      "model_module": "@jupyter-widgets/base",
      "model_module_version": "1.1.0",
      "model_name": "LayoutModel",
      "state": {}
     },
     "91fb0cb720cf4ff390021b5d41bb01bf": {
      "model_module": "@jupyter-widgets/controls",
      "model_module_version": "1.4.0",
      "model_name": "VBoxModel",
      "state": {
       "_dom_classes": [
        "widget-interact"
       ],
       "children": [
        "IPY_MODEL_4be878fddb724b8b907b47a576c0bc23",
        "IPY_MODEL_5d7639a4059d4ec086960373b9c121e2",
        "IPY_MODEL_3ef750bf58664955a9271414822db5d7"
       ],
       "layout": "IPY_MODEL_f5683d8e6f684a35bf6ee9bfc954c80c"
      }
     },
     "922a340e177a41b98fc2550816446ce3": {
      "model_module": "@jupyter-widgets/controls",
      "model_module_version": "1.4.0",
      "model_name": "SliderStyleModel",
      "state": {
       "description_width": ""
      }
     },
     "9298c42d2a9043e5ac22b2bd8c3a8d63": {
      "model_module": "@jupyter-widgets/controls",
      "model_module_version": "1.4.0",
      "model_name": "FloatSliderModel",
      "state": {
       "description": "theta0",
       "layout": "IPY_MODEL_7abeb5d03aec4b4598cfcc1bc21fff34",
       "max": 2,
       "step": 0.5,
       "style": "IPY_MODEL_a5d507ea61db45a5aea46c498e4df8b5",
       "value": 1
      }
     },
     "92f1ca87e70349e781a35a6248b9e379": {
      "model_module": "@jupyter-widgets/controls",
      "model_module_version": "1.4.0",
      "model_name": "SliderStyleModel",
      "state": {
       "description_width": ""
      }
     },
     "946a374033fd4f9ea8915eb7e00ba7b2": {
      "model_module": "@jupyter-widgets/controls",
      "model_module_version": "1.4.0",
      "model_name": "SliderStyleModel",
      "state": {
       "description_width": ""
      }
     },
     "94798723e40a418889060af2ba87b6f6": {
      "model_module": "@jupyter-widgets/base",
      "model_module_version": "1.1.0",
      "model_name": "LayoutModel",
      "state": {}
     },
     "949d1bf0e6e948269e1c063c73054ed3": {
      "model_module": "@jupyter-widgets/controls",
      "model_module_version": "1.4.0",
      "model_name": "VBoxModel",
      "state": {
       "_dom_classes": [
        "widget-interact"
       ],
       "children": [
        "IPY_MODEL_e73ed87c981d421d88d939bdcc87a88f",
        "IPY_MODEL_2d06e9145462480bbae04acf66cb0cd4",
        "IPY_MODEL_b22440d5e2ba47b39cc2c8986c9451d4"
       ],
       "layout": "IPY_MODEL_effdc5df5945463ea94f83a5ad3b878a"
      }
     },
     "94fb40539cef4b36afc5f727986bca18": {
      "model_module": "@jupyter-widgets/base",
      "model_module_version": "1.1.0",
      "model_name": "LayoutModel",
      "state": {}
     },
     "960aca03fa264afdac1c9d3b6f7ccd25": {
      "model_module": "@jupyter-widgets/base",
      "model_module_version": "1.1.0",
      "model_name": "LayoutModel",
      "state": {}
     },
     "9694be053ef24cd4af6171a231141ee5": {
      "model_module": "@jupyter-widgets/controls",
      "model_module_version": "1.4.0",
      "model_name": "FloatSliderModel",
      "state": {
       "description": "theta0",
       "layout": "IPY_MODEL_798026cf38af42cf859effd3b2790cb9",
       "max": 2,
       "step": 0.5,
       "style": "IPY_MODEL_ff8bdfa527e8465687ad27020a165975",
       "value": 1
      }
     },
     "96bce70420ec4431b316bdda1c5acc41": {
      "model_module": "@jupyter-widgets/controls",
      "model_module_version": "1.4.0",
      "model_name": "SliderStyleModel",
      "state": {
       "description_width": ""
      }
     },
     "96d581aa9c254039b274bd6852aa837b": {
      "model_module": "@jupyter-widgets/controls",
      "model_module_version": "1.4.0",
      "model_name": "SliderStyleModel",
      "state": {
       "description_width": ""
      }
     },
     "96db7f27bc0a41f2b80feac850a83da9": {
      "model_module": "@jupyter-widgets/controls",
      "model_module_version": "1.4.0",
      "model_name": "FloatSliderModel",
      "state": {
       "description": "theta0",
       "layout": "IPY_MODEL_a3f8d247da484723b5f1bd864a193962",
       "max": 2,
       "step": 0.5,
       "style": "IPY_MODEL_ef8fbe89f5d84186833906a0baf0afa7",
       "value": 1
      }
     },
     "97c997c6b46041ea949c286d6ad3542c": {
      "model_module": "@jupyter-widgets/controls",
      "model_module_version": "1.4.0",
      "model_name": "FloatSliderModel",
      "state": {
       "description": "theta1",
       "layout": "IPY_MODEL_a0b1250127ce4efab073ce0c6c1dff15",
       "max": 2,
       "step": 0.5,
       "style": "IPY_MODEL_4d309f112cf7416cbb3d14d830d3029c",
       "value": 1
      }
     },
     "9807270a1ad34772987437ceef35aa36": {
      "model_module": "@jupyter-widgets/controls",
      "model_module_version": "1.4.0",
      "model_name": "SliderStyleModel",
      "state": {
       "description_width": ""
      }
     },
     "985eee19c0204b01a571b34893de9655": {
      "model_module": "@jupyter-widgets/base",
      "model_module_version": "1.1.0",
      "model_name": "LayoutModel",
      "state": {}
     },
     "985f0c8c225f4e46bc7728f63d30478b": {
      "model_module": "@jupyter-widgets/controls",
      "model_module_version": "1.4.0",
      "model_name": "SliderStyleModel",
      "state": {
       "description_width": ""
      }
     },
     "989417b8f7984f609fb3fbf5343ffc7a": {
      "model_module": "@jupyter-widgets/controls",
      "model_module_version": "1.4.0",
      "model_name": "SliderStyleModel",
      "state": {
       "description_width": ""
      }
     },
     "99184a30cef6439fba9ff55571bc9949": {
      "model_module": "@jupyter-widgets/output",
      "model_module_version": "1.0.0",
      "model_name": "OutputModel",
      "state": {
       "layout": "IPY_MODEL_2aacb64a24e048b1bdb5f5264884be4b",
       "outputs": [
        {
         "data": {
          "image/png": "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\n",
          "text/plain": "<Figure size 432x288 with 1 Axes>"
         },
         "metadata": {
          "needs_background": "light"
         },
         "output_type": "display_data"
        }
       ]
      }
     },
     "992a26636b5f47d7b61c148ba26981b2": {
      "model_module": "@jupyter-widgets/output",
      "model_module_version": "1.0.0",
      "model_name": "OutputModel",
      "state": {
       "layout": "IPY_MODEL_2b920b152c974403a4333d559dd62dd6",
       "outputs": [
        {
         "data": {
          "image/png": "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\n",
          "text/plain": "<Figure size 432x288 with 1 Axes>"
         },
         "metadata": {
          "needs_background": "light"
         },
         "output_type": "display_data"
        }
       ]
      }
     },
     "9949b2cfb14d4f458f9b4713367536ce": {
      "model_module": "@jupyter-widgets/controls",
      "model_module_version": "1.4.0",
      "model_name": "VBoxModel",
      "state": {
       "_dom_classes": [
        "widget-interact"
       ],
       "children": [
        "IPY_MODEL_8f87f7a8e1ed4002b46f3421bf650547",
        "IPY_MODEL_60d1cb90a6ce4a0795ca7ecf815cf0a1",
        "IPY_MODEL_20cf3f8372484f02886667eb9262f314"
       ],
       "layout": "IPY_MODEL_f7e66807fbf64dd39f1e5db6f2844e45"
      }
     },
     "996723d4bb904bee9bde8e97dea1e900": {
      "model_module": "@jupyter-widgets/base",
      "model_module_version": "1.1.0",
      "model_name": "LayoutModel",
      "state": {}
     },
     "9a4b53db63ed4da3bd05dd280168a2f0": {
      "model_module": "@jupyter-widgets/controls",
      "model_module_version": "1.4.0",
      "model_name": "FloatSliderModel",
      "state": {
       "description": "theta0",
       "layout": "IPY_MODEL_f70a862e6b154f10866f44931db114a9",
       "max": 2,
       "step": 0.5,
       "style": "IPY_MODEL_8a20b3e7a578426da61d051dbb8968a1",
       "value": 1.5
      }
     },
     "9a8ea3ad0e304fb0870a50113dd74733": {
      "model_module": "@jupyter-widgets/controls",
      "model_module_version": "1.4.0",
      "model_name": "FloatSliderModel",
      "state": {
       "description": "theta1",
       "layout": "IPY_MODEL_c436e930c83e4da684fd902369b6d59a",
       "max": 2,
       "step": 0.5,
       "style": "IPY_MODEL_a30ab7cd5cda405792e17a6d254b7807",
       "value": 1
      }
     },
     "9aed87554869424a9faac1dfd401a9f9": {
      "model_module": "@jupyter-widgets/controls",
      "model_module_version": "1.4.0",
      "model_name": "VBoxModel",
      "state": {
       "_dom_classes": [
        "widget-interact"
       ],
       "children": [
        "IPY_MODEL_2cdf0a136ee448538a52b3be156b9a6c",
        "IPY_MODEL_e595b13ae2a541f8bfcd894719a20899",
        "IPY_MODEL_7880184dab56416c9e6523568d4a1ae4"
       ],
       "layout": "IPY_MODEL_ebb3e94c47654df8ac36327ea8a7a924"
      }
     },
     "9b2eeb3d304041998e00ec384b11aa76": {
      "model_module": "@jupyter-widgets/controls",
      "model_module_version": "1.4.0",
      "model_name": "SliderStyleModel",
      "state": {
       "description_width": ""
      }
     },
     "9b4af615461245c7a368af1b9e4b4058": {
      "model_module": "@jupyter-widgets/base",
      "model_module_version": "1.1.0",
      "model_name": "LayoutModel",
      "state": {}
     },
     "9bc1008e82f244989817255f6e38751c": {
      "model_module": "@jupyter-widgets/base",
      "model_module_version": "1.1.0",
      "model_name": "LayoutModel",
      "state": {}
     },
     "9ce25f672d5a4bf08ca6b16e0d71527e": {
      "model_module": "@jupyter-widgets/base",
      "model_module_version": "1.1.0",
      "model_name": "LayoutModel",
      "state": {}
     },
     "9d555737ede94f3994ef84e908751ca2": {
      "model_module": "@jupyter-widgets/controls",
      "model_module_version": "1.4.0",
      "model_name": "SliderStyleModel",
      "state": {
       "description_width": ""
      }
     },
     "9d9fe0df419b4af7ad4249d5e974ab25": {
      "model_module": "@jupyter-widgets/controls",
      "model_module_version": "1.4.0",
      "model_name": "SliderStyleModel",
      "state": {
       "description_width": ""
      }
     },
     "9e673ae163884bcc9abede76fe840763": {
      "model_module": "@jupyter-widgets/controls",
      "model_module_version": "1.4.0",
      "model_name": "FloatSliderModel",
      "state": {
       "description": "theta1",
       "layout": "IPY_MODEL_8d695e36411046a8bd2501d7ec0f6749",
       "max": 2,
       "step": 0.5,
       "style": "IPY_MODEL_64449495cf1449ce9216eaedaf3235fe",
       "value": 1
      }
     },
     "9f263b64741749eca8f7b370432dc0cb": {
      "model_module": "@jupyter-widgets/controls",
      "model_module_version": "1.4.0",
      "model_name": "FloatSliderModel",
      "state": {
       "description": "theta1",
       "layout": "IPY_MODEL_00c0eea950c94598b7b32260ebf53f96",
       "max": 2,
       "step": 0.5,
       "style": "IPY_MODEL_fc7ac40a7cee41f6b8e58af5b353de32",
       "value": 1
      }
     },
     "9f276ceb9513412a87bbab0b64d4e15c": {
      "model_module": "@jupyter-widgets/output",
      "model_module_version": "1.0.0",
      "model_name": "OutputModel",
      "state": {
       "layout": "IPY_MODEL_8d5a5d0640bd4172a054c52403ed507e",
       "outputs": [
        {
         "data": {
          "image/png": "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\n",
          "text/plain": "<Figure size 432x288 with 1 Axes>"
         },
         "metadata": {
          "needs_background": "light"
         },
         "output_type": "display_data"
        }
       ]
      }
     },
     "9f479a37cc30410381a9043f5ee26b24": {
      "model_module": "@jupyter-widgets/base",
      "model_module_version": "1.1.0",
      "model_name": "LayoutModel",
      "state": {}
     },
     "a08c62712b4440e2bc5235694f07eb94": {
      "model_module": "@jupyter-widgets/base",
      "model_module_version": "1.1.0",
      "model_name": "LayoutModel",
      "state": {}
     },
     "a0b1250127ce4efab073ce0c6c1dff15": {
      "model_module": "@jupyter-widgets/base",
      "model_module_version": "1.1.0",
      "model_name": "LayoutModel",
      "state": {}
     },
     "a157e6232409485797762951e2db81cc": {
      "model_module": "@jupyter-widgets/controls",
      "model_module_version": "1.4.0",
      "model_name": "SliderStyleModel",
      "state": {
       "description_width": ""
      }
     },
     "a15f5932f8ae4b5399bf86bbe3496842": {
      "model_module": "@jupyter-widgets/base",
      "model_module_version": "1.1.0",
      "model_name": "LayoutModel",
      "state": {}
     },
     "a203dd7c788b47aaa98ab09e82827b17": {
      "model_module": "@jupyter-widgets/output",
      "model_module_version": "1.0.0",
      "model_name": "OutputModel",
      "state": {
       "layout": "IPY_MODEL_cb0f9f6652cd4594b0546dc36024f247",
       "outputs": [
        {
         "data": {
          "image/png": "iVBORw0KGgoAAAANSUhEUgAAAY0AAAEeCAYAAAB2VUk8AAAABHNCSVQICAgIfAhkiAAAAAlwSFlzAAALEgAACxIB0t1+/AAAADl0RVh0U29mdHdhcmUAbWF0cGxvdGxpYiB2ZXJzaW9uIDMuMC4yLCBodHRwOi8vbWF0cGxvdGxpYi5vcmcvOIA7rQAAIABJREFUeJzt3Xd4VOeB7/GvJISECiCE6E0UvSA6GBsXbDC2Q7WNS2xccMVpm6yTOGV997nJ5tnczW5890k25SaAC+5J7NhBVBtsbGMbN4wxjPTSQXQhhFBvc+4fMyQyphxJI50zo9/nefTAlHPm92qk+emc886ZOMdxEBERcSPe6wAiIhI9VBoiIuKaSkNERFxTaYiIiGsqDRERcU2lISIirqk0RETENZWGRIQxptAYM+Ect/2HMeZhl+v50BgzMrLpvvQY58wajWJtPOJvKg1pMWNMBtAHKDjLbVnAAuCPLlf3GPCzCGY7aIwZ1+jyObM2Z31tze/jMcbca4yZGqn1if+oNCQSRgN7rLWVZ7ntXmCltbbK5bqWAdOMMb1bGsoY0x3oAeQ3uvp8WZuzvogwxvzUGPPTZjy+L8ZjjPmaMWZe+GKcMeahRpclhnTwOoDEhDHALmPMr4E7gDrgHmvt68BM4InGdzbG/BcwzFo7L3z5l8AEYIa1ttoY8wlwHbC0uYGMMUOBzwn9YVRsjKkBel4g6+llFwLfBfoC7wH3AJ3Psb5uwBLgEqAT8BZwp7X2VHOzR+l4ngD+GbgLqAIeB/52lnGc77mva+K3RTygLQ2JhDHARcBKQi88fwR+FL5tNGDPuP9/EtqaGGeM+TowA7ip0YtGPjD2zAcxxiw3xpw8x9fyxve11u4EHgFestamWWszrbX1F8iKMeZR4OvA9UAWcBD49/OsrzPwG2AAMAjoDnytSd89F6JkPE6jfxsaXW7sQs+9+Jy2NCQSRgM/t9auATDGBIAp4du6AmWN72ytLTbG/Ap4GugCXGGtLW10lzLgS7unrLVzmphrLLDZbVZjTA/gX4Fx4RdVjDGPA78/1/rC99sZvlhjjHkdyAgv+3PgSuAosKA5u5D8Mh5jTBfgdSAXmGyt3XpGjvuBPcCvgH1ADnAD8OoZ67/Qcy8+p9KQFjHGxAGjCB3sPm0UEAj/vwRIP8uinwI/IbTro/CM29KBkxGIN45GL1ousk4HOgIfGmNO3x4Xzvql9YXXeSvwMDAsvGwK8JAxZhQwxFo7JfwX9f3Ab89YdjlwRfhicvi607PMNpylJD0bD1AJzAZ+yVlYa/8YXv5ewDl9+RzO99yLz6k0pKWyw//ubHTdeP7xYrSF0F+dH52+0RgzGvh/hI5Z3A88f8Y6RwDPnvlAxphV/GML5kzvWGtnNrpvPKEX0MZ/SV8oazfgFWvtrWd57C+tzxhzNaHdLbfxjxfiveH7TAFWha9bFb7fF0qjcSmcPghurf3p2Qbn9XjCu4+KGpXPWVlrnzrf7S6ee/E5lYa01Bjgc2tt4/3X44F/C/9/JXAV8ByAMaYvkEdoP/taYI8xZqq1dn349iRgIqGDtV/QuBRc6BT+anzc7kJZNwH/ZoyZYK3dZIzpDEwjNKPrbOsbCxQSmu6aAfxfQrORAsAs4HD4fqWEXsBbwuvxtNiFnnuJDjoQLi01Gvjs9AVjTCbQCzi9z/tpYJYxplP4RWsl8N/W2mXhffy/BH7eaH3XA+uttYdaEspaWwH8AQgYYw64yWqtfZ/Qe0ReNsaUE3qxnGGtdc6xvueAROAIsBzYAQSstbWEdst1Cd+vC3AiysfTIi6fe4kCcfrkPmltxpj/Axyz1v7KxX0/AB44y4HWqBLeDfMv1to7jDEPAUnW2t94nauljDFPAY9F+/MjzafSEGklxpj/IHSg+xih2VMVHkdqEWPMSkIHz/cBf7zQ8QuJTSoNERFxzVcHwo0xe4Hq8BfAj07PPxcREe/5qjTCbtH+UhERf9LsKRERcc1XxzTCu6dKCb1rdQPwqLXWzTuDk4BJhObFN7RWPhGRGJNA6JQ9HwE1bhbw2+6pKdbawvAbvH5F6B20d7lYbhLwTqsmExGJXVMI/aF+Qb7a0mgsPM99mbU2+4J3hiHAzpKSCoLBpo8nMzON4uLyJi/nV7E0nlgaC2g8ftEQDLLmw0Le+vQg3bokM3/6MMbn9o7KsZyLm+cmPj6OjIxUgKHALjfr9c2WhjEmFehgrS0Nn4jtdr58Rs9zaQAIBp1mlcbpZWNJLI0nlsYCGo/XDh2vYFHeNvYfLefKsX24ffpQkjuGXgqjbSwX0oTxuN6t75vSIPRZAC8bYxII7WcLAN/0NpKIxArHcXhj00H+/OZOkhIT+PZNoxmfk+V1rKjjm9Kw1u4mdLI1EZGIOllewxMr89m6+wSjB2dy/6zhdElL8jpWVPJNaYiItIZPbBFLVxdQU9fAXdflMG18X+Li4ryOFbVUGiISk6pr63lh7Q7e2XKYgT3TWTg3lz7dU72OFfVUGiISc3YeLGVJXoCik1XMmjyQG6dk0yFB72WOBJWGiMSM+oYgy9/bS957e+mWnsyP7pxATv+uXseKKSoNEYkJR05UsjhvG3sOl3HZqF7ccU0OKcl6iYs0fUdFJKo5jsNbnx3ixXU7SEyI5xs3jmLS8B5ex4pZKg0RiVqnKmp5alUBm3ceJ3dQBg/MziUjXVNpW5NKQ0Si0mc7j/Pkynwqaxq4ffowrrmoH/GaStvqVBoiElVq6hr48xs7efPTg/TLSuOR+bn0y0rzOla7odIQkaix5/ApFucFOHKikhkXD2DelYNJ7KCptG1JpSEivhcMOqzYuI9lG/bQObUjP7h9HCMGdfM6Vruk0hARXys6WcXi5QF2Hijl4hE9uPsrhtTkRK9jtVsqDRHxJcdxeG/rEZ57fTtxcbBwbi6Tc3vqvFEeU2mIiO+UV9Xx9OoCPrZF5PTvyoNzRtC9SyevYwkqDRHxmW17TvD4igBllXXcMnUIMy4eQHy8ti78QqUhIr5QV9/AS+t38/rHhfTOTOGfbxnLwF7pXseSM6g0RMRz+4+WsTgvwMHjFUyf2I9bpw6hY2KC17HkLFQaIuKZoOPw2oeF/PXtXaQmJ/Ldr45l9OBMr2PJeag0RMQTJ05Vs2R5gIL9J5mQk8U9MwzpKR29jiUXoNIQkTb3QeAoT6+xBB2H+2YN54rRvTWVNkqoNESkzVRW1/Hsa9vZGDjKkL6dWTgnlx4ZKV7HkiZQaYhImyjYV8KSFQFOltUyb0o2sy4dSEK8zhsVbVQaItKq6uqDvPrOblZ/sJ8eGZ149O6JDO7T2etY0kwqDRFpNQeLylmcF2D/sXKmjuvDbVcPI6mjptJGM5WGiERc0HFY98kB/vLmLjolJfCdm8cwblh3r2NJBKg0RCSiSspqeHJlPlv3nGDMkEzumzWCLqmaShsrVBoiEjGf2GM8taqAuvogd1+Xw9TxfTWVNsb4sjSMMT8BfgqMttZu9TiOiFxAVU09L6zdwYbPDzOwVzoPzc2ld2aq17GkFfiuNIwxE4DJwH6vs4jIhe08UMri5ds4XlrNnMsGcv3l2XRI0FTaWOWr0jDGJAG/A+4A3vQ4joicR31DkGdX5fPnddvJ7JzMj++cwLB+Xb2OJa3MV6UB/Ax41lq7xxjjdRYROYcjJypZtGwbe4+UcfnoXtxxTQ6dkvz2ciKtwTfPsjHmUmAS8OPmriMzM63Zj5+VFVvn7Y+l8cTSWCC6x+M4Dqvf38vjedtITIjnxwsmcfnYPl7Hiphofm7OpjXG45vSAK4ChgOntzL6AWuMMfdZa19zs4Li4nKCQafJD5yVlU5RUVmTl/OrWBpPLI0Fons8pRW1PLkyny27ihk5KIP7Z+eSM7h71I7nTNH83JyNm/HEx8c1+Y9t35SGtfYXwC9OXzbG7AXmaPaUiPc27zjOk6vyqappYP70YUy/qB/xmkrbLvmmNETEf2pqG/jTGztYv/kQ/Xuk8cP5ufTNav5uYIl+vi0Na+0grzOItGd7Dp9i0bJtHCupYsYlA5g3ZTCJHTSVtr3zbWmIiDcagkFWvr+Pv23YS9f0jvxg/niGD8zwOpb4hEpDRP7u2MkqluQF2HmwlMm5PbnruhxSkhO9jiU+otIQERzHYcPnh3l+7Q7i4+J4aG4uk0f28jqW+JBKQ6SdK6+qY+mqAj7ZXsTwAV15YHYumV2SvY4lPqXSEGnHtu4u5vGV+ZRX1vHVaUO57uL+mkor56XSEGmHausaeGn9LtZ+coA+3VP57q1jGdAztt4NLa1DpSHSzuw7Usbi5QEOHa/gmon9uGXqEDom6iNYxR2Vhkg7EQw6rP5wP6+8vZu0lES+d9tYRmVneh1LooxKQ6QdOF5axZLl+WwvPMnEnCzumTmctE6aSitNp9IQiWGO47AxcJRnX7MEHbh/1gguH91LH8EqzabSEIlRFdV1PLPG8mH+MYb27cKDc3Pp0bWT17Ekyqk0RGJQ/r4SliwPcKqilnlXDmbW5AEkxOu8UdJyKg2RGFJXH+SVt3ez5sP99OiWwqN3TyS7d2evY0kMUWmIxIgDReUsWhbgQFE5U8f35bZpQ0nqqKm0ElkqDZEoF3Qc1n58gJfW7yIlKYF/vmUMY4d29zqWxCiVhkgUKymr4fEVAQJ7Sxg3tDv3zhxO59SOXseSGKbSEIlSHxccY+nqAuoagiyYYbhqbB9NpZVWp9IQiTJVNfU8//p23t16hOze6SycO5Je3VK8jiXthEpDJIpsLzzJkuUBik9Vc/3lg5hz2SA6JGgqrbQdlYZIFKhvCPK3DXtYuXEf3bsk8y93TWRo3y5ex5J2SKUh4nOHiytYlBdg35EyrhjTm/nTh9EpSb+64g395In4lOM4rP/0IH96YycdExP41rxRTDQ9vI4l7ZxKQ8SHSstreHJVAVt2FTMquxv3zx5B17Qkr2OJqDRE/ObTHUU8ubKAmroG7rhmGNMn9tNUWvENlYaIT1TX1vPiup28/dkh+vdI46G5ufTNSvM6lsgXqDREfGDXoVIW5wUoKqli5uQB3HjFYBI7aCqt+I9KQ8RDDcEgK97bx7J395KR3pEf3jEeMyDD61gi56TSEPHI0ZJKluQF2HXoFJeO7Mmd1xpSkvUrKf7mq59QY8yrQDYQBMqBb1trN3ubSiSyHMfhnS2HeWHtDhLi4/ja9SO5JLen17FEXPFVaQD3WGtLAYwxNwBPABO8jSQSOaXlNfz2r5/z6Y7jjBiYwQOzR9Ctc7LXsURc81VpnC6MsC6EtjhEYsLnu4t5alUBZZW13Hb1UK6d1J94TaWVKBPnOI7XGb7AGLMEuA6IA2ZYa7e5WGwQsKc1c4k0V3VtPUuXB1j+7h4G9krn+3dOJLuPzhslvpIN7HVzR9+VxmnGmLuB+dbaWS7uPgjYU1xcTjDY9PFkZaVTVFTW5OX8KpbGE+1j2XekjEV52zhcXMl1k/rztZvHUnqy0utYERPtz09jsTQWcDee+Pg4MjPToAml4duJ4NbaZ4BpxphMr7OINFUw6LBy4z7+/emPqaqp5/u3j+P26cPomKjP7Jbo5ptjGsaYNCDDWlsYvjwXOBH+Eokax09WsWRFPtsLT3KRyWLBjOGkdUr0OpZIRPimNIBU4C/GmFSggVBZzLXW+nP/mcgZHMfh/W1HeO717TgOPDB7BJeN6qXzRklM8U1pWGuPApO9ziHSHOVVdTyzxvJRwTGG9uvCwjm5ZHXt5HUskYjzTWmIRKvA3hM8viKfUxW13HzVYGZeMpD4eG1dSGxSaYg0U119Ay+/tZvXPiqkV7cU/teCiQzq1dnrWCKtSqUh0gyFx8pZlLeNg0UVTJvQl69OG0qSZkZJO6DSEGmCoOPw+keFvPzWLlKSE3n41jGMGdLd61gibUalIeLSiVPVPL4in/x9JYwf1p17Zg6nc0pHr2OJtCmVhogLH+Yf5enVloagw70zhzNlTG9NpZV2SaUhch6V1fU89/p23t92hMF9OrNwbi49M1K8jiXiGZWGyDlsLzzJ4rwAJWU13HBFNnMuG0hCvG/PvCPSJlQaImeobwjy6jt7WLVxH1ldO/Evd01gSF+dlVYEVBoiX3DoeAWL8rax/2g5U8b0Zv41w0juqF8TkdP02yBC6LxRb2w6yJ/f3ElSYgL/dNNoJuRkeR1LxHdUGtLulZbX8PjKfLbuPsHowZncP2s4XdKSvI4l4ksqDWnXPrFFLF1dQE1dA3ddl8O08X01lVbkPFQa0i5V19bzwtodvLPlMAN7prNwbi59uqd6HUvE91Qa0u7sPFjKkrwARSermH3pQG64IpsOCZpKK+KGSkPajfqGIMvf28vy9/aRkZ7Ej+6cQE7/rl7HEokqKg1pF46eqGRRXoA9h09x6cie3HmtISVZP/4iTaXfGolpjuPw9meHeGHdDjrEx/P1G0Zy8YieXscSiVoqDYlZpypreWplAZt3HmfEwAwemD2Cbp2TvY4lEtVUGhKTtuw6zhMrC6isruf2q4dyzaT+xGsqrUiLqTQkptTUNfDnN3fy5qaD9MtK5ZHbxtGvR5rXsURihkpDYsbeI6dYtCzAkROVfOXi/tx05WASO+gjWEUiSaUhUS8YdFj1wT5efWcPnVM78oPbxzFiUDevY4nEJJWGRLXjJ6tYvDzAjgOlTBregwUzDKnJiV7HEolZKg2JSo7j8N7WIzz3+nbi4mDhnFwmj+yp80aJtDKVhkSd8qo6nl5j+bjgGDn9u/LgnBF079LJ61gi7YJKQ6LKtr0neGJFPqcqarll6hBmXDyA+HhtXYi0Fd+UhjEmE3gGGALUADuBr1lrizwNJr5QV9/AS+t38/rHhfTOTOE7N1/EwF7pXscSaXdcl4Yx5r+Bp621m1spiwP8l7V2ffjxfgn8AniglR5PosT+o2Uszgtw8HgF0yf045ZpQ0hK1FRaES80ZUsjEVhjjCkitEXwnLX2QKSCWGtPAOsbXbUR+Eak1i/RJ+g4/PXNnTyzKkBqciIP3zqWMUMyvY4l0q65Lg1r7beNMQ8DM4E7gX81xnwAPA381VpbHqlQxph4QoWxLFLrlOhy4lQ1S5YHKNh/kvHDunPPzOF0TunodSyRdi/OcZxmLWiMGQk8D4wGKoEXgZ9Yaw+2NJQx5ndAX+Ama23QxSKDgD0tfVzxh7c/PcDvX95CQ0OQhTeO5tqLB2gqrUjrygb2urljkw6EG2M6A7cCdwFjgJeBbwL7ge8Dq8LXN5sx5jFgGDDXZWH8XXFxOcFg00swKyudoqKyJi/nV9E6nsrqOp59fTsbtx1lSJ/OLJyby8icnlE5lnOJ1ufmXGJpPLE0FnA3nvj4ODIzm3ZutqYcCH8J+ArwNvAH4FVrbU2j278HlDbp0b/8GD8HJgKzG69bYp/dX8KS5QFKymq5cUo2sy8dSEK8PoJVxG+asqWxEfgna+2Rs91orQ0aY5r96Tbh3V2PAtuB94wxAHustfOau07xv/qGIK+8s5vVG/eTldGJR++eyOA+nb2OJSLn0JQD4Y+5uE9lc4NYa7cB2nHdjhw8XsHiZdvYf6ycq8b14barh5Lc0TdvHRKRs9BvqLQ5x3FY98kB/rJ+F8kdE/j2zaMZPyzL61gi4oJKQ9pUSVkNT67MZ+ueE4wZksl9s0bQJVVTaUWihUpD2swn9hhLV1tq6xq4+7ocpo7vq6m0IlFGpSGtrqqmnhfW7WDDlsMM7JXOQ3Nz6Z2Z6nUsEWkGlYa0qp0HS1mct43jpdXMuWwg11+eTYcETaUViVYqDWkV9Q1B8t7dy/L395LZOZkf3TGBnP5dvY4lIi2k0pCIO3KiksV529hzuIzLR/Xijmtz6JSkHzWRWKDfZIkYx3F467NDvLhuB4kJ8XzzxlFcNLyH17FEJIJUGhIRpypqeWpVAZt3HmfkoAzun51LRnqS17FEJMJUGtJim3ce56mV+VTWNHD79GFcc1E/4jWVViQmqTSk2WpqG/jTGztYv/kQ/Xuk8cj8XPplNe2MmSISXVQa0ix7Dp9i0bJtHCupYsYlA5g3ZTCJHTSVViTWqTSkSRqCQVa+v49l7+6lS1pHHpk/nhEDM7yOJSJtRKUhrh07WcWSvAA7D5Zy8Yge3P0VQ2pyotexRKQNqTTkghzH4d3Pj/Dc2u3Ex8Xx0NxcJo/s5XUsEfGASkPOq7yqjqWrC/jEFmH6d+XBOblkdkn2OpaIeESlIee0dU8xj6/Ip7yyjlunDeErkwYQH6+ptCLtmUpDvqS2roGX1u9i7ScH6NM9le/eOpYBPdO9jiUiPqDSkC/Yf7SMRXkBDh2v4JqJ/bhl6hA6JiZ4HUtEfEKlIQAEgw5rPtrPX9/aTVpKIt+7bSyjsjO9jiUiPqPSEIpLq1myPIAtPMmEnCzumWFIT9FHsIrIl6k02rmN247wzGvbCToO980azhWje+sjWEXknFQa7VRldR3PvLadDwJHGdq3Cw/OzaVH105exxIRn1NptEP5+0p4fEWAk2W1zJuSzaxLB5IQr/NGiciFqTTakbr6IK+8s5s1H+ynR0YnHr17IoP7dPY6lohEEZVGO3GgqJzFeQEKj5UzdXxfbps2lKSOmkorIk2j0ohxQcdh3ccH+Mv6XaQkJfCdW8Ywbmh3r2OJSJTyVWkYYx4DbgYGAaOttVu9TRTdSspqeGJFgG17Sxg7JJP7Zo2gc6qm0opI8/mqNIBXgV8D73gdJNp9XHCMpasLqGsIsmCG4aqxfTSVVkRazFelYa3dAGCM8TpK1KqqqedXL25i3UeFZPdOZ+HckfTqluJ1LBGJEb4qDWmZHQdOsjgvwIlT1cy9bBBzLx9EhwRNpRWRyImp0sjMTGv2sllZ0XsW1/qGIC+8Znlp3XayMlL4xbemMCK7m9exIiaan5uz0Xj8K5bGAq0znpgqjeLicoJBp8nLZWWlU1RU1gqJWt/h4goW5wXYe6SMK0b3Zv41wxjQLyNqx3OmaH5uzkbj8a9YGgu4G098fFyT/9iOqdJoTxzHYf3mQ/xp3Q4SO8TzrXmjmGh6eB1LRGKcr0rDGPM/wE1AL2CtMabYWjvS41i+U1pRy5Mr89myq5iR2d24f9YIMtKTvI4lIu2Ar0rDWvsd4Dte5/CzT3cU8dSqAqprG7jjmmFcPbEf8ZpKKyJtxFelIedWU9vAi2/s4K3NhxjQI42Fc3Ppm9X8A/8iIs2h0ogCuw+dYnHeNo6VVDHzkgHcOGUwiR00lVZE2p5Kw8cagkFWvLePZe/upWt6R34wfzzDB2Z4HUtE2jGVhk8dK6lkcV6AXYdOMXlkT+66NoeU5ESvY4lIO6fS8BnHcdiw5TDPr91BfHwcD12fy+TcXl7HEhEBVBq+UlZZy9LVlk3bixg+oCsPzsmlW+dkr2OJiPydSsMnPt9dzBMr8qmoruOr04Zy3cX9NZVWRHxHpeGx2roG/vLmLtZtOkDf7ql896tjGdAzts5/IyKxQ6XhoX1HyliUt43DxZVce1F/bpk6mMQO+ghWEfEvlYYHgkGH1R/u55W3d5Oeksj3bxvHyBg6K62IxC6VRhs7XlrFkuX5bC88yUUmiwUzhpPWSVNpRSQ6qDTaiOM4bAwc5dnXLI4DD8wewWWjeukjWEUkqqg02kBFdR3PrLF8mH+Mof26sHBOLlldO3kdS0SkyVQarSx/7wmWrMjnVEUt864czOzJA4mP19aFiEQnlUYrqasP8te3d7Hmw0J6dUvh0bsnkt27s9exRERaRKXRCg4cK2dR3jYOFFUwbUJfvjptKEmJmkorItFPpRFBQcdh7UeFvPTWLlKSOvDwrWMYM6S717FERCJGpREhJ05V8/iKfPL3lTBuaHfunTmczqkdvY4lIhJRKo0I+KjgGE+vLqCuIci9M4czZUxvTaUVkZik0miByup6nl+7nfe2HmFwn84snJNLz24pXscSEWk1Ko1m2l54ksV5AUrKarj+8kHMuWwQHRL0EawiEttUGk1U3xDkbxv2sHLjPrK6dOLHd01gaN8uXscSEWkTKo0mOFxcwaJlAfYdLWPKmN7cPn0YnZL0LRSR9kOveC44jsObnx7kz2/spGNiAt+aN5qJJsvrWCIibU6lcQGl5TU8sbKAz3cXMyq7G/fPHkHXtCSvY4mIeEKlcR6fbi/iyVUF1NQ1cOe1OVw9oa+m0opIu6bSOIvq2npeXLeDtz87zICeaTw0dyR9uqd6HUtExHO+Kg1jTA6wFMgEioEF1todbZlh18FSFucFKDpZxazJA7lxSram0oqIhPnt1fAPwO+stTnA74A/ttUDNwSDvPrObv7j2U00BB1+eMd4bpk6RIUhItKIb7Y0jDE9gAnAteGrXgB+a4zJstYWteZjHzpezn8+u4ndh05x6che3HltDinJvvnWiIj4hp9eGfsDB621DQDW2gZjzKHw9a1WGnZ/Cb9+aQsJ8XF8/YaRXDyiZ2s9lIhI1PNTabRYZmZak5fZW1TBpaN7s2BWLt1j6CNYs7LSvY4QMbE0FtB4/CyWxgKtMx4/lUYh0NcYkxDeykgA+oSvd6W4uJxg0GnSgw7KSmXSHRMpKiqjqKisaYl9KisrXWPxKY3Hv2JpLOBuPPHxcU3+Y9s3R3mttceAzcD88FXzgU9b+3iGiIi456ctDYCvA0uNMf8bKAEWeJxHREQa8VVpWGsLgEu8ziEiImfnm91TIiLifyoNERFxTaUhIiKuqTRERMQ1lYaIiLim0hAREddUGiIi4ppKQ0REXFNpiIiIayoNERFxTaUhIiKuqTRERMQ1lYaIiLim0hAREddUGiIi4ppKQ0REXFNpiIiIayoNERFxTaUhIiKuqTRERMQ1lYaIiLim0hAREddUGiIi4ppKQ0REXFNpiIiIayoNERFxTaUhIiKuqTRERMS1Dl4HADDG3AX8EMgFHrbW/tbjSCIichZ+2dLYDNwOPO91EBEROTdfbGlYa7cCGGOCzVxFAkB8fFyzM7RkWT+KpfHE0lhA4/GzWBoLXHg8jW5PcLtOX5RGBPQGyMhIbfYKMjPTIhbGD2JpPLE0FtB4/CyWxgJNGk9vYJebO7ZJaRhjNgEDznFzT2ttQwsf4iNgCnAYaOm6RETaiwTlTDfPAAAEF0lEQVRChfGR2wXapDSstRNa+SFqgA2t/BgiIrHI1RbGaX45EC4iIlEgznEcrzNgjJkP/BLIAGqBCuA6a23A02AiIvIFvigNERGJDto9JSIirqk0RETENZWGiIi4ptIQERHXYuUd4S0WCydNNMbkAEuBTKAYWGCt3eFtquYxxjwG3AwMAkafPtVMNDLGZALPAEMIvadoJ/A1a22Rp8FawBjzKpANBIFy4NvW2s3epmoZY8xPgJ8S/T9ve4Hq8BfAj6y1ayK1fm1p/EMsnDTxD8DvrLU5wO+AP3qcpyVeBa4E9nkdJAIc4L+stcZaO4bQm6l+4XGmlrrHWjvWWjseeAx4wutALWGMmQBMBvZ7nSVCbrHWjgt/RawwQKXxd9bareH3hTT3pImeMsb0ACYAL4SvegGYYIzJ8i5V81lrN1hrC73OEQnW2hPW2vWNrtoIDPQoTkRYa0sbXexClP7eABhjkgj9kfVNQgUv56HdU7GjP3Dw9Hm8rLUNxphD4eujdjdIrDHGxAPfAJZ5naWljDFLgOuAOGCGx3Fa4mfAs9baPcYYr7NEynPGmDhCp1d61Fp7MlIrbjel0QYnTRRx4zeEjgFE3TGzM1lrHwQwxtxN6IwOs7xN1HTGmEuBScCPvc4SQVOstYXhLahfEfpZuytSK283pdEGJ030WiHQ1xiTEN7KSAD6hK8XHwgf3B8GzLXWRu3unDNZa58xxiwyxmRaa4u9ztNEVwHDgdNbGf2ANcaY+6y1r3marJlO79a11tYYY35PhLdqdUwjRlhrjxE6mD8/fNV84NNonqETS4wxPwcmAjdaa2u8ztMSxpg0Y0z/RpfnAifCX1HFWvsLa20fa+0ga+0g4ADwlWgtDGNMqjGmS/j/cYQm90R0VpvOPRUWCydNNMYMJzTlNgMoITTl1nqbqnmMMf8D3AT0Ao4Dxdbakd6mah5jzEhgK7AdqApfvcdaO8+7VM1njOkJ/A1IJfT5NSeAR6y1mzwNFgHh6apzonXKrTFmMPAyoc/JSAACwHestYcj9RgqDRERcU27p0RExDWVhoiIuKbSEBER11QaIiLimkpDRERcU2mIiIhrKg0REXFNpSEiIq61m3NPibQlY8wQ4CPgGmvtJmNMH2ALoc85WO9pOJEW0DvCRVqJMWYh8D1C55x6BfjcWvuIt6lEWkalIdKKjDHLCH0sqgNMivaTFYromIZI61oMjAJ+o8KQWKAtDZFWYoxJAz4D3gRmAqOttVF3+nCRxrSlIdJ6fg18Ev6EuxXAHzzOI9JiKg2RVmCMuYHQ52Z/PXzV94AJxpg7vUsl0nLaPSUiIq5pS0NERFxTaYiIiGsqDRERcU2lISIirqk0RETENZWGiIi4ptIQERHXVBoiIuKaSkNERFz7/xIPW7mlJpPlAAAAAElFTkSuQmCC\n",
          "text/plain": "<Figure size 432x288 with 1 Axes>"
         },
         "metadata": {
          "needs_background": "light"
         },
         "output_type": "display_data"
        }
       ]
      }
     },
     "a30ab7cd5cda405792e17a6d254b7807": {
      "model_module": "@jupyter-widgets/controls",
      "model_module_version": "1.4.0",
      "model_name": "SliderStyleModel",
      "state": {
       "description_width": ""
      }
     },
     "a3f8d247da484723b5f1bd864a193962": {
      "model_module": "@jupyter-widgets/base",
      "model_module_version": "1.1.0",
      "model_name": "LayoutModel",
      "state": {}
     },
     "a515c3add54a42e3b6d75eb807720346": {
      "model_module": "@jupyter-widgets/base",
      "model_module_version": "1.1.0",
      "model_name": "LayoutModel",
      "state": {}
     },
     "a58dd8779c194d9a8b002e3f2414e664": {
      "model_module": "@jupyter-widgets/controls",
      "model_module_version": "1.4.0",
      "model_name": "FloatSliderModel",
      "state": {
       "description": "theta1",
       "layout": "IPY_MODEL_5b3e84819f9d4032aaf14017c92e35e9",
       "max": 2,
       "step": 0.5,
       "style": "IPY_MODEL_458fe11277f54b9ab81fdb1fd706b8dc",
       "value": 1
      }
     },
     "a5c0044714674b0c8715500c52aba47c": {
      "model_module": "@jupyter-widgets/base",
      "model_module_version": "1.1.0",
      "model_name": "LayoutModel",
      "state": {}
     },
     "a5d0123bb96c43d694e3156b5461f9ce": {
      "model_module": "@jupyter-widgets/base",
      "model_module_version": "1.1.0",
      "model_name": "LayoutModel",
      "state": {}
     },
     "a5d507ea61db45a5aea46c498e4df8b5": {
      "model_module": "@jupyter-widgets/controls",
      "model_module_version": "1.4.0",
      "model_name": "SliderStyleModel",
      "state": {
       "description_width": ""
      }
     },
     "a63296ef386f4520832e0cf2293ecbef": {
      "model_module": "@jupyter-widgets/controls",
      "model_module_version": "1.4.0",
      "model_name": "FloatSliderModel",
      "state": {
       "description": "theta0",
       "layout": "IPY_MODEL_bf03d2d4058c4f679e79de99b8920dfc",
       "max": 2,
       "step": 0.5,
       "style": "IPY_MODEL_6f536b09786f469fb0a48893b21a2dda",
       "value": 1
      }
     },
     "a6376a2d4bdc4556af722447dd4b422c": {
      "model_module": "@jupyter-widgets/base",
      "model_module_version": "1.1.0",
      "model_name": "LayoutModel",
      "state": {}
     },
     "a65c54f17c254644aeff7e96ebb5cfe3": {
      "model_module": "@jupyter-widgets/controls",
      "model_module_version": "1.4.0",
      "model_name": "SliderStyleModel",
      "state": {
       "description_width": ""
      }
     },
     "a731c01c7f124633a2e5a5929db8b6af": {
      "model_module": "@jupyter-widgets/controls",
      "model_module_version": "1.4.0",
      "model_name": "FloatSliderModel",
      "state": {
       "description": "theta1",
       "layout": "IPY_MODEL_94fb40539cef4b36afc5f727986bca18",
       "max": 2,
       "step": 0.5,
       "style": "IPY_MODEL_31a10877084049a2aa3321208de1ab95",
       "value": 1
      }
     },
     "a75e0d7e6c1a46c39e303844bad01feb": {
      "model_module": "@jupyter-widgets/controls",
      "model_module_version": "1.4.0",
      "model_name": "SliderStyleModel",
      "state": {
       "description_width": ""
      }
     },
     "a886ca39d09249e890b588d27a02204e": {
      "model_module": "@jupyter-widgets/controls",
      "model_module_version": "1.4.0",
      "model_name": "FloatSliderModel",
      "state": {
       "description": "theta1",
       "layout": "IPY_MODEL_8de0ada922604ab7b64f4188ba9f09af",
       "max": 2,
       "step": 0.5,
       "style": "IPY_MODEL_6794c7785ae94a27bf2f310fa3d12003",
       "value": 1
      }
     },
     "a89851e2fc2241ef8c6a522925601f4e": {
      "model_module": "@jupyter-widgets/base",
      "model_module_version": "1.1.0",
      "model_name": "LayoutModel",
      "state": {}
     },
     "a997974340da4daeb5604eb7ff81940c": {
      "model_module": "@jupyter-widgets/base",
      "model_module_version": "1.1.0",
      "model_name": "LayoutModel",
      "state": {}
     },
     "aa020576891a4ec4af0d8f59c9fa7366": {
      "model_module": "@jupyter-widgets/controls",
      "model_module_version": "1.4.0",
      "model_name": "SliderStyleModel",
      "state": {
       "description_width": ""
      }
     },
     "aa1aefd1e8df462296cbee94f6894815": {
      "model_module": "@jupyter-widgets/controls",
      "model_module_version": "1.4.0",
      "model_name": "SliderStyleModel",
      "state": {
       "description_width": ""
      }
     },
     "aa7183bb060549839b861c3b9f1032bb": {
      "model_module": "@jupyter-widgets/base",
      "model_module_version": "1.1.0",
      "model_name": "LayoutModel",
      "state": {}
     },
     "aa87cc60849c43f1bb77f8e8013a8bcf": {
      "model_module": "@jupyter-widgets/base",
      "model_module_version": "1.1.0",
      "model_name": "LayoutModel",
      "state": {}
     },
     "ab49c3d3b1e043dc82096d433582c12a": {
      "model_module": "@jupyter-widgets/base",
      "model_module_version": "1.1.0",
      "model_name": "LayoutModel",
      "state": {}
     },
     "ab6eb2fa630b48abbfd5fdacf9a13050": {
      "model_module": "@jupyter-widgets/controls",
      "model_module_version": "1.4.0",
      "model_name": "SliderStyleModel",
      "state": {
       "description_width": ""
      }
     },
     "abda6e94584f42be896794cc149c2f9b": {
      "model_module": "@jupyter-widgets/base",
      "model_module_version": "1.1.0",
      "model_name": "LayoutModel",
      "state": {}
     },
     "abee84f2f8604624bca5132c274e468a": {
      "model_module": "@jupyter-widgets/controls",
      "model_module_version": "1.4.0",
      "model_name": "SliderStyleModel",
      "state": {
       "description_width": ""
      }
     },
     "ac22fe1e2be743e3a155ed9c5e0ccfe5": {
      "model_module": "@jupyter-widgets/controls",
      "model_module_version": "1.4.0",
      "model_name": "SliderStyleModel",
      "state": {
       "description_width": ""
      }
     },
     "acbc32ab2f9544b29f2d3817a65104f3": {
      "model_module": "@jupyter-widgets/controls",
      "model_module_version": "1.4.0",
      "model_name": "SliderStyleModel",
      "state": {
       "description_width": ""
      }
     },
     "accc4dbe3d4e42f18b003ea293d9d216": {
      "model_module": "@jupyter-widgets/base",
      "model_module_version": "1.1.0",
      "model_name": "LayoutModel",
      "state": {}
     },
     "adb91c6e29034291b05a8ef2689e4430": {
      "model_module": "@jupyter-widgets/controls",
      "model_module_version": "1.4.0",
      "model_name": "SliderStyleModel",
      "state": {
       "description_width": ""
      }
     },
     "ae5e2e399b154cc28a618cdbee5eb547": {
      "model_module": "@jupyter-widgets/base",
      "model_module_version": "1.1.0",
      "model_name": "LayoutModel",
      "state": {}
     },
     "ae91987efee0492c97fa5881df129166": {
      "model_module": "@jupyter-widgets/controls",
      "model_module_version": "1.4.0",
      "model_name": "VBoxModel",
      "state": {
       "_dom_classes": [
        "widget-interact"
       ],
       "children": [
        "IPY_MODEL_883ae6a2facf4a00b75a39cbb8b94b8f",
        "IPY_MODEL_dba6ecf090cd455785476e2819a77353",
        "IPY_MODEL_79d3f354b69248c8974cb451e640b137"
       ],
       "layout": "IPY_MODEL_ffc1b99d63fc488c84962c811d5783a7"
      }
     },
     "aec041e0b7a24e7a8e3f60c2998c03a9": {
      "model_module": "@jupyter-widgets/controls",
      "model_module_version": "1.4.0",
      "model_name": "FloatSliderModel",
      "state": {
       "description": "theta0",
       "layout": "IPY_MODEL_5ec0b8e37d4a42bca4b5217ec9204dfe",
       "max": 2,
       "step": 0.5,
       "style": "IPY_MODEL_7d95506b8fbe4be094f2784f568973dc",
       "value": 1
      }
     },
     "b143fc20fe264e70b27ef3e0cb331d74": {
      "model_module": "@jupyter-widgets/base",
      "model_module_version": "1.1.0",
      "model_name": "LayoutModel",
      "state": {}
     },
     "b22440d5e2ba47b39cc2c8986c9451d4": {
      "model_module": "@jupyter-widgets/output",
      "model_module_version": "1.0.0",
      "model_name": "OutputModel",
      "state": {
       "layout": "IPY_MODEL_903367aa7c994ac69a7d19110bd30e3d",
       "outputs": [
        {
         "data": {
          "image/png": "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\n",
          "text/plain": "<Figure size 432x288 with 1 Axes>"
         },
         "metadata": {
          "needs_background": "light"
         },
         "output_type": "display_data"
        }
       ]
      }
     },
     "b2af878e67c44060b5f21ba09a9ae881": {
      "model_module": "@jupyter-widgets/controls",
      "model_module_version": "1.4.0",
      "model_name": "VBoxModel",
      "state": {
       "_dom_classes": [
        "widget-interact"
       ],
       "children": [
        "IPY_MODEL_3b23b6c8f4f842a5a4551000906a13a7",
        "IPY_MODEL_6d46b8de4aef4144b64d7289c9bbf53c",
        "IPY_MODEL_80497bce363b4bc6ba2680bcbe58babc"
       ],
       "layout": "IPY_MODEL_8ec7a9a99ef14787a52d73399f4fd44f"
      }
     },
     "b34b559491c34e12aea927991f34ca68": {
      "model_module": "@jupyter-widgets/output",
      "model_module_version": "1.0.0",
      "model_name": "OutputModel",
      "state": {
       "layout": "IPY_MODEL_aa7183bb060549839b861c3b9f1032bb",
       "outputs": [
        {
         "data": {
          "image/png": "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\n",
          "text/plain": "<Figure size 432x288 with 1 Axes>"
         },
         "metadata": {
          "needs_background": "light"
         },
         "output_type": "display_data"
        }
       ]
      }
     },
     "b39252b776864f1cad1b4806b3b593dd": {
      "model_module": "@jupyter-widgets/base",
      "model_module_version": "1.1.0",
      "model_name": "LayoutModel",
      "state": {
       "height": "350px"
      }
     },
     "b409bfa673ce4857815554c8e4f1fd68": {
      "model_module": "@jupyter-widgets/base",
      "model_module_version": "1.1.0",
      "model_name": "LayoutModel",
      "state": {}
     },
     "b46aa6c53f2a40548966b722f59d2560": {
      "model_module": "@jupyter-widgets/controls",
      "model_module_version": "1.4.0",
      "model_name": "FloatSliderModel",
      "state": {
       "description": "theta0",
       "layout": "IPY_MODEL_777dc953c2ac4d3ba755d7ee1879d099",
       "max": 2,
       "step": 0.5,
       "style": "IPY_MODEL_810da5fbb65149b7bbec94c9d5bda012",
       "value": 1
      }
     },
     "b6541624830d4d218e8cfeb0aea2b415": {
      "model_module": "@jupyter-widgets/controls",
      "model_module_version": "1.4.0",
      "model_name": "FloatSliderModel",
      "state": {
       "description": "theta0",
       "layout": "IPY_MODEL_748e41c8b77a4f6eb31312c2f2e10d44",
       "max": 2,
       "step": 0.5,
       "style": "IPY_MODEL_9d555737ede94f3994ef84e908751ca2",
       "value": 0.5
      }
     },
     "b7a4423742de459cb9e5f6108b7fb9c3": {
      "model_module": "@jupyter-widgets/controls",
      "model_module_version": "1.4.0",
      "model_name": "FloatSliderModel",
      "state": {
       "description": "theta0",
       "layout": "IPY_MODEL_26ee6425a23c42ce837147fe0ab301f8",
       "max": 2,
       "step": 0.5,
       "style": "IPY_MODEL_985f0c8c225f4e46bc7728f63d30478b",
       "value": 1
      }
     },
     "b83463ef80d94a8686a70333def915f0": {
      "model_module": "@jupyter-widgets/controls",
      "model_module_version": "1.4.0",
      "model_name": "SliderStyleModel",
      "state": {
       "description_width": ""
      }
     },
     "ba8c2fc139224f048d62fd3b18e701ba": {
      "model_module": "@jupyter-widgets/controls",
      "model_module_version": "1.4.0",
      "model_name": "FloatSliderModel",
      "state": {
       "description": "theta0",
       "layout": "IPY_MODEL_128bedd279ea45c0b43a6ab351b4bebb",
       "max": 2,
       "step": 0.5,
       "style": "IPY_MODEL_768c212a5f614c83b35d1ef49baa4a16",
       "value": 1
      }
     },
     "baf51c866ec24ca4a1a690c10a0e8a22": {
      "model_module": "@jupyter-widgets/controls",
      "model_module_version": "1.4.0",
      "model_name": "FloatSliderModel",
      "state": {
       "description": "theta1",
       "layout": "IPY_MODEL_8a2bdd1d9b8843dd8ef7af3b0901417a",
       "max": 2,
       "step": 0.5,
       "style": "IPY_MODEL_916282437b1243ebb150aa2e7356df9a",
       "value": 1
      }
     },
     "bc05f0bd98824860b9c97154d2a49f37": {
      "model_module": "@jupyter-widgets/base",
      "model_module_version": "1.1.0",
      "model_name": "LayoutModel",
      "state": {}
     },
     "bf03d2d4058c4f679e79de99b8920dfc": {
      "model_module": "@jupyter-widgets/base",
      "model_module_version": "1.1.0",
      "model_name": "LayoutModel",
      "state": {}
     },
     "c05a11b13f8b4bbba6a4abb55ce3d0fd": {
      "model_module": "@jupyter-widgets/base",
      "model_module_version": "1.1.0",
      "model_name": "LayoutModel",
      "state": {}
     },
     "c12effb2f56d4a1699cbe253e6a4b0ad": {
      "model_module": "@jupyter-widgets/base",
      "model_module_version": "1.1.0",
      "model_name": "LayoutModel",
      "state": {}
     },
     "c186eda1b33e469491f6d7b5f5b32c17": {
      "model_module": "@jupyter-widgets/controls",
      "model_module_version": "1.4.0",
      "model_name": "FloatSliderModel",
      "state": {
       "description": "theta0",
       "layout": "IPY_MODEL_1cef8fb1c77e436a9953f1ddb728147b",
       "max": 2,
       "step": 0.5,
       "style": "IPY_MODEL_7ef42b6ec73b4c1297234c4bd28031a7",
       "value": 1
      }
     },
     "c22d0a9165ee49e59bc7ec162e6c6793": {
      "model_module": "@jupyter-widgets/controls",
      "model_module_version": "1.4.0",
      "model_name": "FloatSliderModel",
      "state": {
       "description": "m",
       "layout": "IPY_MODEL_27548eea84f645aca8b46b5249aaccfd",
       "max": 2,
       "min": -2,
       "step": 0.1,
       "style": "IPY_MODEL_0b66960cab0842d5859e35d2f870e289",
       "value": 0.1
      }
     },
     "c251a81e62c04bb1a6a219f1a21882c7": {
      "model_module": "@jupyter-widgets/base",
      "model_module_version": "1.1.0",
      "model_name": "LayoutModel",
      "state": {}
     },
     "c41f0d9b4ba344fb886d9e229bb79455": {
      "model_module": "@jupyter-widgets/controls",
      "model_module_version": "1.4.0",
      "model_name": "FloatSliderModel",
      "state": {
       "description": "theta1",
       "layout": "IPY_MODEL_f38bae517e654456b0a1f9612d65fbb0",
       "max": 2,
       "step": 0.5,
       "style": "IPY_MODEL_7c8e4b5695b04b78bbcaa035c729c80f",
       "value": 1
      }
     },
     "c436e930c83e4da684fd902369b6d59a": {
      "model_module": "@jupyter-widgets/base",
      "model_module_version": "1.1.0",
      "model_name": "LayoutModel",
      "state": {}
     },
     "c58a2b2bf1654d57a108b98d175de2ec": {
      "model_module": "@jupyter-widgets/base",
      "model_module_version": "1.1.0",
      "model_name": "LayoutModel",
      "state": {}
     },
     "c593ccaf486e4f429f778c9766706ea1": {
      "model_module": "@jupyter-widgets/controls",
      "model_module_version": "1.4.0",
      "model_name": "VBoxModel",
      "state": {
       "_dom_classes": [
        "widget-interact"
       ],
       "children": [
        "IPY_MODEL_ecbe83f162944dfa952aac6158ac4dba",
        "IPY_MODEL_59ddfc77569b4e9da6af68366c11a155",
        "IPY_MODEL_9f276ceb9513412a87bbab0b64d4e15c"
       ],
       "layout": "IPY_MODEL_3fb422e2ec044a4e8cdbc437d24faaeb"
      }
     },
     "c59ed293a9644284a8585ad9a31d987c": {
      "model_module": "@jupyter-widgets/base",
      "model_module_version": "1.1.0",
      "model_name": "LayoutModel",
      "state": {}
     },
     "c5e5f5635ab04d77aab4887de838a957": {
      "model_module": "@jupyter-widgets/controls",
      "model_module_version": "1.4.0",
      "model_name": "SliderStyleModel",
      "state": {
       "description_width": ""
      }
     },
     "c76d921dc406481bb4a577b4f6c0039e": {
      "model_module": "@jupyter-widgets/base",
      "model_module_version": "1.1.0",
      "model_name": "LayoutModel",
      "state": {}
     },
     "c7c12c92e67a4655bc7fa1e4e4aaf235": {
      "model_module": "@jupyter-widgets/base",
      "model_module_version": "1.1.0",
      "model_name": "LayoutModel",
      "state": {}
     },
     "c7f38d4140e64673b5367740104bf672": {
      "model_module": "@jupyter-widgets/controls",
      "model_module_version": "1.4.0",
      "model_name": "FloatSliderModel",
      "state": {
       "description": "theta0",
       "layout": "IPY_MODEL_2ba281c29e91419794a39be29e47d871",
       "max": 2,
       "step": 0.5,
       "style": "IPY_MODEL_9807270a1ad34772987437ceef35aa36",
       "value": 0.5
      }
     },
     "c7f588222eec4895893a57fe4448df64": {
      "model_module": "@jupyter-widgets/output",
      "model_module_version": "1.0.0",
      "model_name": "OutputModel",
      "state": {
       "layout": "IPY_MODEL_a89851e2fc2241ef8c6a522925601f4e",
       "outputs": [
        {
         "data": {
          "image/png": "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\n",
          "text/plain": "<Figure size 432x288 with 1 Axes>"
         },
         "metadata": {
          "needs_background": "light"
         },
         "output_type": "display_data"
        }
       ]
      }
     },
     "c8629226c1824b9faae7bbd429bfc300": {
      "model_module": "@jupyter-widgets/controls",
      "model_module_version": "1.4.0",
      "model_name": "FloatSliderModel",
      "state": {
       "description": "theta1",
       "layout": "IPY_MODEL_288e0e64aa62460b96f99fef138ad9cf",
       "max": 2,
       "step": 0.5,
       "style": "IPY_MODEL_ac22fe1e2be743e3a155ed9c5e0ccfe5",
       "value": 0.5
      }
     },
     "c889130abc2d485eadc705ecb8cfa12d": {
      "model_module": "@jupyter-widgets/controls",
      "model_module_version": "1.4.0",
      "model_name": "SliderStyleModel",
      "state": {
       "description_width": ""
      }
     },
     "c89e7b7e4bbd4871a5fb170b00295403": {
      "model_module": "@jupyter-widgets/output",
      "model_module_version": "1.0.0",
      "model_name": "OutputModel",
      "state": {
       "layout": "IPY_MODEL_22bcda713fe64b969b60f3168ca77067",
       "outputs": [
        {
         "data": {
          "image/png": "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\n",
          "text/plain": "<Figure size 432x288 with 1 Axes>"
         },
         "metadata": {
          "needs_background": "light"
         },
         "output_type": "display_data"
        }
       ]
      }
     },
     "c937c592777f4c11ba27ebbd8fc2315d": {
      "model_module": "@jupyter-widgets/base",
      "model_module_version": "1.1.0",
      "model_name": "LayoutModel",
      "state": {}
     },
     "c9752da6eaee4cbc9fd772306783ad5c": {
      "model_module": "@jupyter-widgets/controls",
      "model_module_version": "1.4.0",
      "model_name": "SliderStyleModel",
      "state": {
       "description_width": ""
      }
     },
     "c9f8a4b578fd4162b08d62bc806d2cb8": {
      "model_module": "@jupyter-widgets/output",
      "model_module_version": "1.0.0",
      "model_name": "OutputModel",
      "state": {
       "layout": "IPY_MODEL_a6376a2d4bdc4556af722447dd4b422c",
       "outputs": [
        {
         "data": {
          "image/png": "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\n",
          "text/plain": "<Figure size 432x288 with 1 Axes>"
         },
         "metadata": {
          "needs_background": "light"
         },
         "output_type": "display_data"
        }
       ]
      }
     },
     "cb0f9f6652cd4594b0546dc36024f247": {
      "model_module": "@jupyter-widgets/base",
      "model_module_version": "1.1.0",
      "model_name": "LayoutModel",
      "state": {}
     },
     "cb11069d224b42069b81823a1ff4cd27": {
      "model_module": "@jupyter-widgets/controls",
      "model_module_version": "1.4.0",
      "model_name": "FloatSliderModel",
      "state": {
       "description": "theta0",
       "layout": "IPY_MODEL_cd4258bb65984446b77e05d2215886c5",
       "max": 2,
       "step": 0.5,
       "style": "IPY_MODEL_adb91c6e29034291b05a8ef2689e4430",
       "value": 2
      }
     },
     "cb3eff788ff04b6081b2535316004d99": {
      "model_module": "@jupyter-widgets/controls",
      "model_module_version": "1.4.0",
      "model_name": "FloatSliderModel",
      "state": {
       "description": "theta1",
       "layout": "IPY_MODEL_3e8ca397dae342318dc8052c558da7f4",
       "max": 2,
       "step": 0.5,
       "style": "IPY_MODEL_a65c54f17c254644aeff7e96ebb5cfe3",
       "value": 0.5
      }
     },
     "cbb91f78897d4a07bea57c9f8601d459": {
      "model_module": "@jupyter-widgets/controls",
      "model_module_version": "1.4.0",
      "model_name": "FloatSliderModel",
      "state": {
       "description": "theta0",
       "layout": "IPY_MODEL_960aca03fa264afdac1c9d3b6f7ccd25",
       "max": 2,
       "step": 0.5,
       "style": "IPY_MODEL_acbc32ab2f9544b29f2d3817a65104f3",
       "value": 1
      }
     },
     "cc6f7823aa8f48ccb76a6fceeb9ec89a": {
      "model_module": "@jupyter-widgets/base",
      "model_module_version": "1.1.0",
      "model_name": "LayoutModel",
      "state": {}
     },
     "ccd1e04574b14e069cad8155eb7cf6d9": {
      "model_module": "@jupyter-widgets/controls",
      "model_module_version": "1.4.0",
      "model_name": "VBoxModel",
      "state": {
       "_dom_classes": [
        "widget-interact"
       ],
       "children": [
        "IPY_MODEL_9298c42d2a9043e5ac22b2bd8c3a8d63",
        "IPY_MODEL_fc2114e8222e456d86eabf496c714eb6",
        "IPY_MODEL_23aedb0ac84a4db780237a3e4fcbb95f"
       ],
       "layout": "IPY_MODEL_d999a95cd26b42b2953354c7e8407037"
      }
     },
     "ccfa09cba78844df83fc8ab42fbe3b2b": {
      "model_module": "@jupyter-widgets/controls",
      "model_module_version": "1.4.0",
      "model_name": "VBoxModel",
      "state": {
       "_dom_classes": [
        "widget-interact"
       ],
       "children": [
        "IPY_MODEL_31bbab7b6a734e0b94ceb4ade2a28a4c",
        "IPY_MODEL_f9e221e233fe4f7688c4bc03968d3720",
        "IPY_MODEL_204f5648d8c544d8baf8d8854373429b"
       ],
       "layout": "IPY_MODEL_d221aaeff1a9495cb4a602f208491df6"
      }
     },
     "cd4258bb65984446b77e05d2215886c5": {
      "model_module": "@jupyter-widgets/base",
      "model_module_version": "1.1.0",
      "model_name": "LayoutModel",
      "state": {}
     },
     "cddca04d6a7d4974bee15126c580c1e0": {
      "model_module": "@jupyter-widgets/controls",
      "model_module_version": "1.4.0",
      "model_name": "FloatSliderModel",
      "state": {
       "description": "theta1",
       "layout": "IPY_MODEL_3ab7a232209744dc985a95c5ea4e4f85",
       "max": 3,
       "step": 0.5,
       "style": "IPY_MODEL_fc9759c8e9cd48b29edf5e9f76c0597e",
       "value": 0.5
      }
     },
     "ce7b4a7519d14e0eba22b357b63ddace": {
      "model_module": "@jupyter-widgets/base",
      "model_module_version": "1.1.0",
      "model_name": "LayoutModel",
      "state": {}
     },
     "ce92b5164c9344e1aa9f43b896a19573": {
      "model_module": "@jupyter-widgets/base",
      "model_module_version": "1.1.0",
      "model_name": "LayoutModel",
      "state": {}
     },
     "cec15e00e1f04741a551fe0640346174": {
      "model_module": "@jupyter-widgets/controls",
      "model_module_version": "1.4.0",
      "model_name": "VBoxModel",
      "state": {
       "_dom_classes": [
        "widget-interact"
       ],
       "children": [
        "IPY_MODEL_f8ce4c4f7b474e57bc794dcef68d3f01",
        "IPY_MODEL_207a4dfdf2bd4306a221a2db80bab5ab",
        "IPY_MODEL_e2b04d2e4fa44955a74b85ea69073c5e"
       ],
       "layout": "IPY_MODEL_244c0bebdc11499e8de221cf77b38331"
      }
     },
     "cf4ac16780f143eba497d44a1f5f12ac": {
      "model_module": "@jupyter-widgets/controls",
      "model_module_version": "1.4.0",
      "model_name": "SliderStyleModel",
      "state": {
       "description_width": ""
      }
     },
     "cf7e10130a684ce895c35d2ea7450c93": {
      "model_module": "@jupyter-widgets/output",
      "model_module_version": "1.0.0",
      "model_name": "OutputModel",
      "state": {
       "layout": "IPY_MODEL_13fc9590146a41e7bad0a8e6dc0477bc",
       "outputs": [
        {
         "data": {
          "image/png": "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\n",
          "text/plain": "<Figure size 432x288 with 1 Axes>"
         },
         "metadata": {
          "needs_background": "light"
         },
         "output_type": "display_data"
        }
       ]
      }
     },
     "cf96565f3e414429998bb5157ff500cc": {
      "model_module": "@jupyter-widgets/base",
      "model_module_version": "1.1.0",
      "model_name": "LayoutModel",
      "state": {}
     },
     "d05418f59f4846508b29078df65e8e59": {
      "model_module": "@jupyter-widgets/output",
      "model_module_version": "1.0.0",
      "model_name": "OutputModel",
      "state": {
       "layout": "IPY_MODEL_6bd251044eaf4553af4c55d9ba022801",
       "outputs": [
        {
         "data": {
          "image/png": "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\n",
          "text/plain": "<Figure size 432x288 with 1 Axes>"
         },
         "metadata": {
          "needs_background": "light"
         },
         "output_type": "display_data"
        }
       ]
      }
     },
     "d221aaeff1a9495cb4a602f208491df6": {
      "model_module": "@jupyter-widgets/base",
      "model_module_version": "1.1.0",
      "model_name": "LayoutModel",
      "state": {}
     },
     "d27e799fce5f411482ae37b93c64608a": {
      "model_module": "@jupyter-widgets/base",
      "model_module_version": "1.1.0",
      "model_name": "LayoutModel",
      "state": {}
     },
     "d2e83e14540f48c3835ec5c3e558bf50": {
      "model_module": "@jupyter-widgets/output",
      "model_module_version": "1.0.0",
      "model_name": "OutputModel",
      "state": {
       "layout": "IPY_MODEL_40e9b8befb124860afdc37b745de8020",
       "outputs": [
        {
         "data": {
          "image/png": "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\n",
          "text/plain": "<Figure size 432x288 with 1 Axes>"
         },
         "metadata": {
          "needs_background": "light"
         },
         "output_type": "display_data"
        }
       ]
      }
     },
     "d30ec66e96f0487690e5db2ef87b94af": {
      "model_module": "@jupyter-widgets/controls",
      "model_module_version": "1.4.0",
      "model_name": "FloatSliderModel",
      "state": {
       "description": "theta0",
       "layout": "IPY_MODEL_62d15e9122a640ffb3df79bbab1d54ed",
       "max": 2,
       "step": 0.5,
       "style": "IPY_MODEL_cf4ac16780f143eba497d44a1f5f12ac",
       "value": 1
      }
     },
     "d315973c45764fd492c93c6ee2fc26e7": {
      "model_module": "@jupyter-widgets/output",
      "model_module_version": "1.0.0",
      "model_name": "OutputModel",
      "state": {
       "layout": "IPY_MODEL_c05a11b13f8b4bbba6a4abb55ce3d0fd",
       "outputs": [
        {
         "data": {
          "image/png": "iVBORw0KGgoAAAANSUhEUgAAAXMAAAEBCAYAAACKUEVYAAAABHNCSVQICAgIfAhkiAAAAAlwSFlzAAALEgAACxIB0t1+/AAAADl0RVh0U29mdHdhcmUAbWF0cGxvdGxpYiB2ZXJzaW9uIDMuMC4yLCBodHRwOi8vbWF0cGxvdGxpYi5vcmcvOIA7rQAAHs9JREFUeJzt3Xd0VPed9/G3JEBISKCC6EXUH0USzQ33irFNMSBsY4gTt7jF4GSTOMl59tmc3ZPdnDw5eyKaSxwncU2MqG5AsHHBNi7YMJKAH4jeUUNIqGvu8wfyLnZsayQ0ujN3Pq9zdI41nvL5MTMfXd0796sox3EQEZHwFu12ABEROX8qcxERD1CZi4h4gMpcRMQDVOYiIh6gMhcR8QCVuYiIB6jMRUQ8oEMgVzLG7Adqmr4AHrfWrgtSJhERaaGAyrxJtrU2P2hJRESk1bSbRUTEA6ICmc3StJulHIgCNgG/staeCuD+Y4ELgWNAY6tTiohElhigN/ApUBvIDQLdzXKFtfaQMSYW+AOwGJgXwO0uBN4P8DFEROSrruDsBnSzAtoyP5cxJhNYY60dFMDVhwCFZWVn8PtbPp0xNTWBkpLKFt8uVHlpPV5aC3hrPeG+loJ9pbz81m7iYjtw900jyDQ9w3o95wr0uYmOjiI5uQvAUGBPIPfd7Ja5MaYL0MFaW26MiQLuALYGcuc07Vrx+51WlfmXt/USL63HS2sBb60nHNfiOA7rPjnEso2FpPdO5KHpo0lKiAXCcz3fpoVrCXj3dCC7WXoCy40xMZzdj7MdeLglaUREvktDo5/n11ne9x3jghE9uPeWkcR2jHE7VlhptsyttXuBce2QRUQiUGV1PUtW5GEPnWLqpelMv2IQ0VFRbscKOy35nLmISJs6VnKGnFwfpadruH/KKCZm9HI7UthSmYuIK7bvL2XpynxiYqL42ZxxDOuX5HaksKYyF5F2987WI7y4fhe9UuJZkJ1F96Q4tyOFPZW5iLQbv9/hlY2FrP/0EBmDU3hoegZxsaqhtqB/RRFpF9W1DTy1pgDfnhKum9CPO64bSky0Joq0FZW5iARdcXk1C3N9HC2uYt6k4Vw7vp/bkTxHZS4iQbXnSDmLlvuob3T48W1jGD0oxe1InqQyF5Gg+Xj7Cf70+g6SEzvx8+wx9Onexe1InqUyF5E25zgOaz7Yz+pN+xjWrxs/mplJYnwnt2N5mspcRNpUfUMjz76xk4+3n+CyjF7cNXkEHTvoQGewqcxFpM2Un6lj8XIfe46eZtZVg7n5koFE6dT8dqEyF5E2cfhkJTm526ioqueRGRlMMD3cjhRRVOYict62FRbz5JoC4jrF8It540nv1dXtSBFHZS4ireY4Dv/47DB/f3s3A3okMj87i+TEWLdjRSSVuYi0SkOjn5f+sYt3th5lwvA07psyithOmkHuFpW5iLTYmZp6lq7MZ8eBMm6ZOJAZVw7WDHKXqcxFpEVOlFWRs8xH0alq7r1lJJdl9nY7kqAyF5EWsAfLWLwij6ioszPIh/fXDPJQoTIXkYC8v+0oz62z9EiOY0F2Fj2S492OJOdQmYvId/I7Drnv7GHtxwcZnZ7MQ7dmEN+5o9ux5GtU5iLyrWrqGvjjq9v5Yncx14zry503DNMM8hClMheRb1R6uoaFuT4OFVUy5/phXD+hn07ND2EqcxH5J/uOnWbhch+1dY0syB5D1pBUtyNJM1TmIvIVn+48yTOvbadbl078y/fG0i8twe1IEgCVuYgAZ0/Nf+2jA6x8by9D+56dQd61i2aQhwuVuYhQ3+DnL2/u4KOCE1wyuid33zSCjh10an44UZmLRLjTVXUsXpFH4eFyZlwxiCmXputAZxhSmYtEsCPFZ8hZto3yM3U8OH00F43s6XYkaSWVuUiEyt9bwhOr8+nUIYbH7xzP4D6aQR7OVOYiEeitLYd5acMu+qUlsCA7i5Sund2OJOdJZS4SQRr9fl7esJu3Pz/C2KHd+eG0UXTupBrwAj2LIhGiqqaBJ1fnk7+vlMkXDSD76iFER+tAp1eozEUiwMlT1SzM9XGitIof3DSCK8f0cTuStDGVuYjH7Tp0isUr8nAch5/cPpaRA5PdjiRBoDIX8bAP8o7x17U7Se3amQWzx9ArRTPIvapFZW6M+Tfg10CmtTY/KIlE5Lz5HYeV7+3l9Y8OMGJAEg/PyCQhTjPIvSzgMjfGjAcuAQ4GL46InK+augaeWJnPll1FXDmmD/MmDadDjGaQe11AZW6MiQWWAHcCG4OaSERarayilv98YQt7Dpdz+7VDmXRhf52aHyEC3TL/d+AFa+0+Y0yLHyQ1tfUjNNPSElt921DkpfV4aS0Q/uspPHyK/3xhC2eq6/k/91zMRaN7uR2pzYT7c3OuYK2l2TI3xkwELgR+0doHKSmpxO93Wny7tLREiooqWvuwIcdL6/HSWiD81/P5riKefrWAhLiO/O7RK0joGB3W6zlXuD835wp0LdHRUS3eCA5kR9pVwAhgnzFmP9APWGeMmdSiRxKRNuc4Dm9uPsCSFXn07Z7Av951AYP6dHM7lrig2S1za+1vgd9++X1ToU/Rp1lE3NXQ6Oe5tZZNece4aGQP7rl5JJ06agZ5pNLnzEXCUGV1PUtW5GEPnWLaZelMv3yQDnRGuBaXubU2PQg5RCRAx0rOkLPMR2lFLT+cOopLPHSgU1pPW+YiYaRgfylLV+bTMSaKn985jqF9tX9czlKZi4SJjV8c4cX1u+jdPZ4F2Vl07xbndiQJISpzkRDn9zv87e3dbPjsMFlDUnlg2mjiYvXWla/SK0IkhFXXNvDUmgJ8e0q4/oJ+3HHtMM0gl2+kMhcJUcWnqslZ7uNYcRXfu9Fwzbi+bkeSEKYyFwlBhUfKWbzcR32jw49vH8Po9BS3I0mIU5mLhJjN24/z7Os7SUmM5fHZWfRO7eJ2JAkDKnOREOE4Dqs37WPNB/sZ3j+JR2ZkkBjfye1YEiZU5iIhoK6+kWff2MEnO05yeWZv7ppsNINcWkRlLuKy8spaFi7PY/+x08y+egiTLx6gU/OlxVTmIi46eKKChct9VFbX88jMTMYPT3M7koQplbmIS7YWFvPUmgLiYzvwy7kTGNjLO3+AQdqfylyknTmOw/pPD/HK24UM6JXI/FlZJCfGuh1LwpzKXKQdNTT6eWH9Lt7bdpQLTBr3ThlFrGaQSxtQmYu0kzM19Sxdmc+OA2XcMnEgM64cTLQOdEobUZmLtIMTpVX8IddHSXk1900ZyaUZvd2OJB6jMhcJsp0HyliyMo+oqCh+esc4hvdPcjuSeJDKXCSI3tt2lOfXWXqmxDM/O4seSZpBLsGhMhcJAr/fIfedPaz95CAZg1J4cHoG8Z31dpPg0atLpI3V1DXw9JrtbC0s5trxfZlz/TBionVqvgSXylykDZWeriEn18fhokrm3jCc6yb0czuSRAiVuUgb2Xv0NIuW+6hraOSx2WPIHJzqdiSJICpzkTbwyY4T/On1HXTr0omf3jGWvmkJbkeSCKMyFzkPjuPw2of7Wfn+Pob268aPZmbSVTPIxQUqc5FWqm9o5M9v7mRzwQkmju7JD24aSccOOtAp7lCZi7TC6TN1LFrhY8+R08y4cjBTJg7UDHJxlcpcpIUOF1WyMNfH6TN1PHxrBheM6OF2JBGVuUhL+PaU8OTqfGI7xfD43PEM6t3V7UgigMpcJCCO4/DWlsO8/NZu+qclMD87i5Sund2OJfI/VOYizWho9PPyht1s/OII44Z15/6po+jcSW8dCS16RYp8h6qaep5YlU/B/jJuungAs64eohnkEpJU5iLf4mRZFTm5Pk6WVXP3TSO4YkwftyOJfCuVucg32HXoFItX5OE4Dv9y+1hGDEx2O5LId1KZi3zNJt8x/rp2J2lJcSyYnUXP5Hi3I4k0K6AyN8asAgYBfqASeNRauzWYwUTam99xWPHuXt7YfICRA5N5eEYGXTp3dDuWSEAC3TL/vrW2HMAYMx14FhgftFQi7aymtoEnVuazZVcRV43tw9wbhtMhRqfmS/gIqMy/LPIm3Ti7hS7iCWUVtfzmhS3sPVzOHdcO5YYL++vUfAk7Ae8zN8Y8A0wCooDJQUsk0o4OHK8gJ3cbtfWNPJqdxdih3d2OJNIqUY7jtOgGxpjvAXOstTcHcPV0YF8rcokE3Ye+o/z3y5/TtUsn/vWeixnUp5vbkUS+bhCwP5ArtrjMAYwx1UA/a21JM1dNB/aVlFTi97f8cdLSEikqqmjx7UKVl9YTzmtxHIc3Nh9g+bt7GdKnKz+alcXQ9NSwXc/XhfNz8028tJ5A1xIdHUVqagK0oMyb3c1ijEkAkq21h5q+nwqUNn2JhJWGRj9/XbuTD/KOc9HIHtxz80g6dYxxO5bIeQtkn3kXYJkxpgvQyNkSn2qtbfmmtoiLKqrqWLIyn12HTjH98kFMuyxdBzrFM5otc2vtCeCSdsgiEjRHi8+Qk7uNsoo6Hpg2motH9XQ7kkib0hmg4nkF+0pZuiqfjh2iefzOcQzpqwOd4j0qc/G0jZ8f5sV/7KZP93jmZ2fRvVuc25FEgkJlLp7U6Pfz97cK2bDlMFlDUnlg2mjiYvVyF+/Sq1s8p7q2gSdXF5C3t4RJF/bntmuGEh2tA53ibSpz8ZSiU9UszPVxvLSKuyYbrh7b1+1IIu1CZS6eUXi4nEUrfDQ2Ovz4tjGMSk9xO5JIu1GZiyd8VHCcP7+xg5SunVmQnUXv1C5uRxJpVypzCWt+x2HV+/t47cP9mP5JPDIzk4Q4zSCXyKMyl7BVW9/In17fwWc7T3J5Zm/ummw0g1wilspcwtKpyloWLfex/1gFs68ZwuSLBujUfIloKnMJOwdPVJCT6+NMTT0/mpnJuOFpbkcScZ3KXMLKF7uLeHrNduI7d+CXcycwsFei25FEQoLKXMKC4zis++QQyzYWMrBXIvOzs0hKiHU7lkjIUJlLyGto9PP8Osv7vmNcYNK4d8ooYjWDXOQrVOYS0iqr61m6Mo+dB08x5dJ0br1iENE60CnyT1TmErKOl1aRs2wbJadruH/KKCZm9HI7kkjIUplLSNqxv5QlK/OJiYniZ3PGMaxfktuRREKaylxCzrtbj/DC+l30TIlnQXYWaUmaQS7SHJW5hAy/3+GVjYWs//QQGYNTeHBaBvGd9RIVCYTeKRISqmsbeHpNAdv2lHDdhH7ccd1QYqJ1ar5IoFTm4rqS8hpycn0cLT7D3BuGc92Efm5HEgk7KnNx1Z6j5Sxankd9QyOPzc4iY3Cq25FEwpLKXFzzyY4TPPPaDpISOvGzOePo210zyEVaS2Uu7c5xHF79YD+rNu1jWL9uPDIzk67xndyOJRLWVObSruobGvnzGzvZvP0El2b04vuTR9Cxgw50ipwvlbm0m/IzdSxe7mPP0dPMumowN18yUDPIRdqIylzaxeGTleTkbqOiqp5HZmQwwfRwO5KIp6jMJeh8e4p5YnUBcZ1i+MW88aT36up2JBHPUZlL0DiOw4bPDvO3t3fTv0cCC7LHkJyoGeQiwaAyl6BoaPTz0obdvPPFEcYN684Pp44mtpNmkIsEi8pc2lxVTT1LV+WzfX8ZN10ygFlXDdEMcpEgU5lLmzpRVsXCXB8ny6q55+aRXJ7V2+1IIhFBZS5txh4sY/GKPAB+esdYzIBklxOJRA6VubSJTb5j/HXtTnokx7EgO4seyfFuRxKJKCpzOS9+x2H5u3t4c/NBRqUn8/CtGcR37uh2LJGI02yZG2NSgeeBIUAtUAg8YK0tCnI2CXG1dY08/WoBX+wu5ppxfZlz/TA6xOjUfBE3BPLOc4DfWWuNtTYL2AP8NrixJNQVn6rmv17cwtbCYu68fhjzJg1XkYu4qNktc2ttKfDOORdtBh4KViAJffuOnWbJyjyqahpYkD2GrCGaQS7itijHcQK+sjEmGlgPrLHWLgzgJunAvtZFk1D0ge8o//3S5yQldOL/3nsJA3vr1HyRIBoE7A/kii09ALoIqAQWt+RGJSWV+P2B/9D4UlpaIkVFFS2+XagK5/U4jsPrHx1gxXt7GdK3K7++/1Lqa+rCdj1fF87Pzdd5aS3grfUEupbo6ChSUxNadN8Bl7kx5vfAMGCqtdbfokeRsFbf4Ocvb+7ko4LjXDKqJ3ffPIKkxFiKaurcjiYiTQIqc2PMb4AJwC3W2trgRpJQcrqqjsUr8ig8XM6tVwxi6qXpmkEuEoIC+WjiaOBXwC7gQ2MMwD5r7YwgZxOXHSk+Q86ybZSfqePB6aO5aGRPtyOJyLcI5NMsBYA2xSJM/t4SnlidT8cOMfz8znEM6dPN7Ugi8h10Bqj8k7e2HOalDbvo2z2BBdlZpHbr7HYkEWmGylz+R6Pfz982FPLW54cZO7Q7908dRVysXiIi4UDvVAGgqqaBJ9fkk7+3lBsv6s/sq4cSHa29ayLhQmUuFJ2qJifXx4nSKn5w0wiuHNPH7Ugi0kIq8wi369ApFq/Iw3EcfnL7WEYO1AxykXCkMo9gH+Yf4y9v7iS1a2cWzB5DrxTNIBcJVyrzCOR3HFa9v5fXPjzAiAFJPDwjk4Q4zSAXCWcq8whTW9/In17bzme2iCvH9GbeJKPRtSIeoDKPIGUVtSxa7uPA8Qpuv3Yoky7sr1PzRTxCZR4hDhyvYOFyH1U1DTw6K4uxw7q7HUlE2pDKPAJ8vquIp18tICGuI7+cN54BPRPdjiQibUxl7mGO47D244PkvrOH9N5dmT8rk24JsW7HEpEgUJl7VEOjn+fWWjblHeOCET2475aRdOoY43YsEQkSlbkHVVbXs2RFHvbQKaZdls60ywcRrQOdIp6mMveYYyVnyFnmo7SilvunjmLi6F5uRxKRdqAy95Dt+0tZujKfDjFR/PzOcQztqxnkIpFCZe4R72w9wgvrdtG7ezwLZmXRPSnO7Ugi0o5U5mHO73d4ZWMh6z89RObgVB6cPlozyEUikN71Yay6toGn1hTg21PC9Rf04/ZrhxITrVPzRSKRyjxMFZdXszDXx9HiKr53o+GacX3djiQiLlKZh6E9R8pZtNxHfaPDj28bw+hBKW5HEhGXqczDzObtx3n29Z2kJMby+Owseqd2cTuSiIQAlXmYcByH1Zv2seaD/Qzv141HZmaSGN/J7VgiEiJU5mGgrr6RZ9/YwSc7TnJZZi/uunEEHTvoQKeI/C+VeYgrr6xl0Yo89h49TfbVQ7jp4gGaQS4i/0RlHsIOnawkJ3cbldX1PDIjgwmmh9uRRCREqcxD1NbCYp5aU0Bcpxh+OXcCA3tpBrmIfDuVeYhxHIf1nx7ilbcLGdArkfmzskhO1AxyEfluKvMQ0tDo58V/7OLdrUeZYNK4b8ooYjWDXEQCoDIPEWdq6lm6Mp8dB8q4ZeJAZlw5WDPIRSRgKvMQcKK0ij/k+ig+Vc29t4zksszebkcSkTCjMnfZzgNlLFmZR1RUFD+bM47h/ZPcjiQiYUhl7qL3tx3luXWWHslxLJg9hh6aQS4iraQyd4Hf75D77h7WfnyQ0YNSeGh6BvGd9VSISOs12yDGmN8Ds4B0INNamx/sUF5WU9fAH1/dzhe7i7lmfF/uvH6YZpCLyHkLZHNwFZADvB/kLJ5XVFbNf73wOYeLKpl7w3Cum9DP7Ugi4hHNlrm1dhOAMSb4aTxs37HTLF6RR3VtA4/NHkPm4FS3I4mIh2hHbTv4bOdJnnltO0ldO/OT28bQNy3B7Ugi4jHtUuapqa0vr7S08J1J4jgOr2zYxQtrdzIyPYVf/eAikjx0an44PzffxEvr8dJawFvrCdZa2qXMS0oq8fudFt8uLS2RoqKKICQKvvqGRv785k42F5xg4uie/OCmESQlxobter4unJ+bb+Kl9XhpLeCt9QS6lujoqBZvBGs3SxCcPlPH4hV5FB4pZ8aVg5kycaBmkItIUAXy0cSFwEygF7DBGFNirR0d9GRh6khRJTm5PsrP1PHwrRlcMEIzyEUk+AL5NMt8YH47ZAl7eXtLeGJVPrEdY/jF3PEM6t3V7UgiEiG0m6WNbPjsEC+/tZv+aQnMz84ipWtntyOJSARRmZ+nRr+flzbsZuPnRxg7tDs/nDaKzp30zyoi7Uutcx6qahp4YnU+BftKmXzxALKvGkJ0tA50ikj7U5m30slT1eQs28bJsmruvmkEV4zp43YkEYlgKvNW2HXoFItX5OE4Dv9y+1hGDEx2O5KIRDiVeQt9kHeMv7y5k+5JcTyWnUXPlHi3I4mIqMwD5XccVr63l9c/OsDIgck8PCODLp07uh1LRARQmQektq6RZ17fzhZbxFVj+zD3huF0iNEMchEJHSrzZpRV1LIw18fBExXcfu1QJl3YX6fmi0jIUZl/hwPHK8jJ3UZ1XSOPzspi7LDubkcSEflGKvNvscUW8cfXCkiM68iv5k2gfw/NIBeR0KUy/xrHcXjz44PkvrOHwX268ujMTLoleGcGuYh4k8r8HPUNfp5bu5MP8o9z0cge3HPzSDp1jHE7lohIs1TmTSqq6liyIo9dh8uZdlk60y8fpAOdIhI2VObA0eIz5ORuo6yijh9OG8Ulo3q5HUlEpEUivswL9pWydFU+HWOiePzOcQzp283tSCIiLRbRZb7xiyO8uH4XvbvHsyA7i+7d4tyOJCLSKhFZ5o1+P39/q5ANWw6TNSSVB6aNJi42Iv8pRMQjIq7BqmsbeHJ1AXl7S5h0YX9uu2aoZpCLSNiLqDIvPlVNznIfx4qruOtGw9Xj+rodSUSkTURMmRceLmfRCh+NjQ4/vn0Mo9NT3I4kItJmIqLMNxcc59k3dpLSNZYF2Vn0Tu3idiQRkTbl6TL3Ow6r39/Hqx/ux/RP4pGZmSTEaQa5iHiPZ8u8rr6RP72+g093nuTyrN7cdaPRDHIR8SxPlvmpyloWLc9j/7HTzL56CJMvHqBT80XE0zxX5gdPVLBwuY/K6np+NDOTccPT3I4kIhJ0nirzL3YX8fSa7cR37sAv505gYK9EtyOJiLQLT5S54zis++QQyzYWMrBXIo/OyiI5UTPIRSRyhH2ZNzT6eWG95b1tx7jApHHvlFHEaga5iESYsC7zyup6lq7MY+fBU0y5dCC3XjGYaB3oFJEIFLZlfry0ipxl2yg5XcN9U0ZyaUZvtyOJiLgmLMt8x4Eylq7MIyoqip/NGcewfkluRxIRcVXYlfl7247y/DpLz5R45mdn0SNJM8hFRMKmzP1+h2XvFLLuk0NkDErhwekZxHcOm/giIkEVFm1YU9fA02u2s7WwmOsm9OOO64YSE61T80VEvhRQmRtjhgN/BVKBEuAua+3uYAb7Ukl5DQuX+zhSdIa5Nwznugn92uNhRUTCSqCbt08CS6y1w4ElwFPBi/S/7IFS/uO5zygur+ax2VkqchGRb9HslrkxpgcwHrih6aKXgcXGmDRrbVEzN48BWvVn2Qr2l/LSP3bROzWee24ZRc9kbxzo9NKfqPPSWsBb6/HSWsBb6wlkLedcJ+AzIKMcx/nOKxhjJgDPWWtHn3PZdmCetfbzZu7/cuD9QMOIiMhXXAFsCuSKwT4A+ilnwxwDGoP8WCIiXhED9OZshwYkkDI/BPQ1xsRYaxuNMTFAn6bLm1NLgD9VRETkK/a05MrNHgC11p4EtgJzmi6aA3wRwP5yERFpJ83uMwcwxozg7EcTk4Eyzn400QY5m4iIBCigMhcRkdCm0yhFRDxAZS4i4gEqcxERD1CZi4h4QMhPTTTGzAN+DowCHrPWLnY5Uou5OaisrRljfg/MAtKBTGttvruJWs8Ykwo8Dwzh7DkRhcAD4fyxW2PMKmAQ4AcqgUettVvdTXV+jDH/Bvya8H+97Qdqmr4AHrfWrmur+w+HLfOtwB3AS24HOQ+uDCoLklXAlcABt4O0AQf4nbXWWGuzOHuSxm9dznS+vm+tHWOtHQf8HnjW7UDnwxgzHrgEOOh2ljaSba0d2/TVZkUOYVDm1tp8a+12zm5phJ1zBpW93HTRy8B4Y0yae6laz1q7yVobyNm/Ic9aW2qtfeecizYDA12K0yasteXnfNuNMH3fABhjYjm78fMwZ3/wyncI+d0sHtAfOGKtbQRoGolwtOnysP113muMMdHAQ8Aat7OcL2PMM8AkIAqY7HKc8/HvwAvW2n3GGLeztJUXjTFRnB1z8itr7am2umPXy9wY8zkw4Fv+d88vS1AkyBZxdh9z2B2T+Tpr7X0AxpjvAf8PuNndRC1njJkIXAj8wu0sbegKa+2hpt84/sDZ19q8trpz18vcWjve7QxBdj6DyqQdNB3UHQZMtdaG7W6Jr7PWPm+MedoYk2qtLXE7TwtdBYwAvtwq7wesM8bcba1d72qyVvpy96S1ttYYs5Q2/i0w5PeZhzsNKgttxpjfABOAW621tW7nOR/GmARjTP9zvp8KlDZ9hRVr7W+ttX2stenW2nTgMHBjuBa5MaaLMaZb039HcfZDHW36KaOQn81ijJnD2V8Vk4E64AwwqemgaFjw0qAyY8xCYCbQCygGSs79wyXhxBgzGsgHdgHVTRfvs9bOcC9V6xljegKrgS6c/fsBpcBPA/gjMiGv6WN9U8L1o4nGmMHAcs7OKY8BtgPzrbXH2uoxQr7MRUSkedrNIiLiASpzEREPUJmLiHiAylxExANU5iIiHqAyFxHxAJW5iIgHqMxFRDzg/wMDgNPISZBzyAAAAABJRU5ErkJggg==\n",
          "text/plain": "<Figure size 432x288 with 1 Axes>"
         },
         "metadata": {
          "needs_background": "light"
         },
         "output_type": "display_data"
        }
       ]
      }
     },
     "d3264b557c4246deb18d87dfc80eb298": {
      "model_module": "@jupyter-widgets/output",
      "model_module_version": "1.0.0",
      "model_name": "OutputModel",
      "state": {
       "layout": "IPY_MODEL_2bfd2467dbf24de599b0ec16e38c77a8",
       "outputs": [
        {
         "data": {
          "image/png": "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\n",
          "text/plain": "<Figure size 432x288 with 1 Axes>"
         },
         "metadata": {
          "needs_background": "light"
         },
         "output_type": "display_data"
        }
       ]
      }
     },
     "d4f9851bfb0f4ae1b48bb6c0649a8fbc": {
      "model_module": "@jupyter-widgets/base",
      "model_module_version": "1.1.0",
      "model_name": "LayoutModel",
      "state": {}
     },
     "d50cbd3ae4334d67a505ee9963c8cc69": {
      "model_module": "@jupyter-widgets/controls",
      "model_module_version": "1.4.0",
      "model_name": "FloatSliderModel",
      "state": {
       "description": "theta1",
       "layout": "IPY_MODEL_873e2164a87b4f41af5b84feb3a4295e",
       "max": 2,
       "step": 0.5,
       "style": "IPY_MODEL_06fe21c59ac2499388db365cd23df6b7",
       "value": 1
      }
     },
     "d5728ce552cb428684436c6f0bba0104": {
      "model_module": "@jupyter-widgets/controls",
      "model_module_version": "1.4.0",
      "model_name": "SliderStyleModel",
      "state": {
       "description_width": ""
      }
     },
     "d5fa5c318b5b4f9c9ed565e0e5a2482c": {
      "model_module": "@jupyter-widgets/controls",
      "model_module_version": "1.4.0",
      "model_name": "VBoxModel",
      "state": {
       "_dom_classes": [
        "widget-interact"
       ],
       "children": [
        "IPY_MODEL_c186eda1b33e469491f6d7b5f5b32c17",
        "IPY_MODEL_d50cbd3ae4334d67a505ee9963c8cc69",
        "IPY_MODEL_d05418f59f4846508b29078df65e8e59"
       ],
       "layout": "IPY_MODEL_1704db66ad714b0596927ead76b5f231"
      }
     },
     "d6243dc10c8b4e95a8c4f5409c32f63d": {
      "model_module": "@jupyter-widgets/controls",
      "model_module_version": "1.4.0",
      "model_name": "VBoxModel",
      "state": {
       "_dom_classes": [
        "widget-interact"
       ],
       "children": [
        "IPY_MODEL_0ac7222f99704bdcbe106627fb4d1f7f",
        "IPY_MODEL_9f263b64741749eca8f7b370432dc0cb",
        "IPY_MODEL_992a26636b5f47d7b61c148ba26981b2"
       ],
       "layout": "IPY_MODEL_1dbb56a2460743a5935bbe5cd2ba474b"
      }
     },
     "d67fe40537414389b0e6286e60ca3be6": {
      "model_module": "@jupyter-widgets/controls",
      "model_module_version": "1.4.0",
      "model_name": "VBoxModel",
      "state": {
       "_dom_classes": [
        "widget-interact"
       ],
       "children": [
        "IPY_MODEL_070f3d88c36e4603b15caf05b0d95410",
        "IPY_MODEL_9a8ea3ad0e304fb0870a50113dd74733",
        "IPY_MODEL_a203dd7c788b47aaa98ab09e82827b17"
       ],
       "layout": "IPY_MODEL_94798723e40a418889060af2ba87b6f6"
      }
     },
     "d793a2b18e6f4957b38930fdea76b3cf": {
      "model_module": "@jupyter-widgets/controls",
      "model_module_version": "1.4.0",
      "model_name": "FloatSliderModel",
      "state": {
       "description": "theta1",
       "layout": "IPY_MODEL_2526069e52334468a94e114421acfc8c",
       "max": 2,
       "step": 0.5,
       "style": "IPY_MODEL_6336b0950e52417091864b24c878476d",
       "value": 1
      }
     },
     "d999a95cd26b42b2953354c7e8407037": {
      "model_module": "@jupyter-widgets/base",
      "model_module_version": "1.1.0",
      "model_name": "LayoutModel",
      "state": {}
     },
     "db22095947634224bb6c6e14834649a6": {
      "model_module": "@jupyter-widgets/base",
      "model_module_version": "1.1.0",
      "model_name": "LayoutModel",
      "state": {}
     },
     "dba6ecf090cd455785476e2819a77353": {
      "model_module": "@jupyter-widgets/controls",
      "model_module_version": "1.4.0",
      "model_name": "FloatSliderModel",
      "state": {
       "description": "theta1",
       "layout": "IPY_MODEL_a5d0123bb96c43d694e3156b5461f9ce",
       "max": 2,
       "step": 0.5,
       "style": "IPY_MODEL_ab6eb2fa630b48abbfd5fdacf9a13050",
       "value": 1
      }
     },
     "dbe04589540948678e92cc28fca45b25": {
      "model_module": "@jupyter-widgets/base",
      "model_module_version": "1.1.0",
      "model_name": "LayoutModel",
      "state": {}
     },
     "dc792da6cc1445c39e5d011dcf507b19": {
      "model_module": "@jupyter-widgets/output",
      "model_module_version": "1.0.0",
      "model_name": "OutputModel",
      "state": {
       "layout": "IPY_MODEL_b39252b776864f1cad1b4806b3b593dd",
       "outputs": [
        {
         "data": {
          "image/png": "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\n",
          "text/plain": "<Figure size 432x288 with 1 Axes>"
         },
         "metadata": {
          "needs_background": "light"
         },
         "output_type": "display_data"
        }
       ]
      }
     },
     "dd392f129aad464db5a65a3e61bac2eb": {
      "model_module": "@jupyter-widgets/controls",
      "model_module_version": "1.4.0",
      "model_name": "VBoxModel",
      "state": {
       "_dom_classes": [
        "widget-interact"
       ],
       "children": [
        "IPY_MODEL_ba8c2fc139224f048d62fd3b18e701ba",
        "IPY_MODEL_45ae4fd21cb24842981fe506e2c31343",
        "IPY_MODEL_3c1ce8bb83474eda8a8753498d318872"
       ],
       "layout": "IPY_MODEL_64e8fdc48ab34bf1ac30b4930b1d2dc7"
      }
     },
     "df199be116cb4955b32f9b4802a5517c": {
      "model_module": "@jupyter-widgets/output",
      "model_module_version": "1.0.0",
      "model_name": "OutputModel",
      "state": {
       "layout": "IPY_MODEL_a15f5932f8ae4b5399bf86bbe3496842",
       "outputs": [
        {
         "data": {
          "image/png": "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\n",
          "text/plain": "<Figure size 432x288 with 1 Axes>"
         },
         "metadata": {
          "needs_background": "light"
         },
         "output_type": "display_data"
        }
       ]
      }
     },
     "dfaa61e6d47e49e3ada1d139b4388dfc": {
      "model_module": "@jupyter-widgets/controls",
      "model_module_version": "1.4.0",
      "model_name": "SliderStyleModel",
      "state": {
       "description_width": ""
      }
     },
     "e067fc085c36420591db6718a858eca3": {
      "model_module": "@jupyter-widgets/base",
      "model_module_version": "1.1.0",
      "model_name": "LayoutModel",
      "state": {}
     },
     "e145e771fc7040ee87f274973c27c164": {
      "model_module": "@jupyter-widgets/controls",
      "model_module_version": "1.4.0",
      "model_name": "SliderStyleModel",
      "state": {
       "description_width": ""
      }
     },
     "e1fca6c391974a0fa8b335d9c806eab1": {
      "model_module": "@jupyter-widgets/base",
      "model_module_version": "1.1.0",
      "model_name": "LayoutModel",
      "state": {}
     },
     "e23b915eadcf453297b42591520b9d38": {
      "model_module": "@jupyter-widgets/controls",
      "model_module_version": "1.4.0",
      "model_name": "VBoxModel",
      "state": {
       "_dom_classes": [
        "widget-interact"
       ],
       "children": [
        "IPY_MODEL_1189846032264d6aa730b82d21b69eb4",
        "IPY_MODEL_e7c82e0f06d74431a1c6befdd9ac37b7",
        "IPY_MODEL_b34b559491c34e12aea927991f34ca68"
       ],
       "layout": "IPY_MODEL_514aace0ca10475a9237186e140eb31a"
      }
     },
     "e29ff168522048489e3c0ab416904b2c": {
      "model_module": "@jupyter-widgets/controls",
      "model_module_version": "1.4.0",
      "model_name": "IntSliderModel",
      "state": {
       "description": "theta1",
       "layout": "IPY_MODEL_64156d9e792643c2b508e02d4b2191b4",
       "max": 10,
       "style": "IPY_MODEL_fe51a96e01a44f678632df747798f8af",
       "value": 5
      }
     },
     "e2b04d2e4fa44955a74b85ea69073c5e": {
      "model_module": "@jupyter-widgets/output",
      "model_module_version": "1.0.0",
      "model_name": "OutputModel",
      "state": {
       "layout": "IPY_MODEL_68cc0113fa7c423eae0d22abec76b411",
       "outputs": [
        {
         "data": {
          "image/png": "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\n",
          "text/plain": "<Figure size 432x288 with 1 Axes>"
         },
         "metadata": {
          "needs_background": "light"
         },
         "output_type": "display_data"
        }
       ]
      }
     },
     "e3b1f052aa97474daa1d5ad3ee941222": {
      "model_module": "@jupyter-widgets/base",
      "model_module_version": "1.1.0",
      "model_name": "LayoutModel",
      "state": {}
     },
     "e3be89f1cf1a4564b4387e3de0c085be": {
      "model_module": "@jupyter-widgets/output",
      "model_module_version": "1.0.0",
      "model_name": "OutputModel",
      "state": {
       "layout": "IPY_MODEL_a997974340da4daeb5604eb7ff81940c",
       "outputs": [
        {
         "data": {
          "image/png": "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\n",
          "text/plain": "<Figure size 432x288 with 1 Axes>"
         },
         "metadata": {
          "needs_background": "light"
         },
         "output_type": "display_data"
        }
       ]
      }
     },
     "e428be42db3540bca69bd043e3b4e8c6": {
      "model_module": "@jupyter-widgets/base",
      "model_module_version": "1.1.0",
      "model_name": "LayoutModel",
      "state": {}
     },
     "e4a33b6938284cce826a86d80cb07e5d": {
      "model_module": "@jupyter-widgets/base",
      "model_module_version": "1.1.0",
      "model_name": "LayoutModel",
      "state": {}
     },
     "e595b13ae2a541f8bfcd894719a20899": {
      "model_module": "@jupyter-widgets/controls",
      "model_module_version": "1.4.0",
      "model_name": "FloatSliderModel",
      "state": {
       "description": "theta1",
       "layout": "IPY_MODEL_f5be7a5cf3714f16b849273c58cab33f",
       "max": 2,
       "step": 0.5,
       "style": "IPY_MODEL_16da6ef1e18241b78fa133d66fdb8357",
       "value": 2
      }
     },
     "e644497d6be045fa8c0a389324e3e553": {
      "model_module": "@jupyter-widgets/controls",
      "model_module_version": "1.4.0",
      "model_name": "VBoxModel",
      "state": {
       "_dom_classes": [
        "widget-interact"
       ],
       "children": [
        "IPY_MODEL_9694be053ef24cd4af6171a231141ee5",
        "IPY_MODEL_6e38166353a8402a971f6fb961aa8b7b",
        "IPY_MODEL_cf7e10130a684ce895c35d2ea7450c93"
       ],
       "layout": "IPY_MODEL_12d4d7be6a0f49e4b9b45a340c598c1e"
      }
     },
     "e6b19e877e97490bacec21d59a7b5199": {
      "model_module": "@jupyter-widgets/base",
      "model_module_version": "1.1.0",
      "model_name": "LayoutModel",
      "state": {}
     },
     "e73ed87c981d421d88d939bdcc87a88f": {
      "model_module": "@jupyter-widgets/controls",
      "model_module_version": "1.4.0",
      "model_name": "FloatSliderModel",
      "state": {
       "description": "theta0",
       "layout": "IPY_MODEL_a5c0044714674b0c8715500c52aba47c",
       "max": 2,
       "step": 0.5,
       "style": "IPY_MODEL_b83463ef80d94a8686a70333def915f0",
       "value": 1
      }
     },
     "e7c82e0f06d74431a1c6befdd9ac37b7": {
      "model_module": "@jupyter-widgets/controls",
      "model_module_version": "1.4.0",
      "model_name": "FloatSliderModel",
      "state": {
       "description": "theta1",
       "layout": "IPY_MODEL_3ad80d90a197451e976356f067507bc6",
       "max": 2,
       "step": 0.5,
       "style": "IPY_MODEL_1bcca6447a8c4e1bb1f3074355c5fba9",
       "value": 1
      }
     },
     "e867e0ddb58a462298223ed3703edcbf": {
      "model_module": "@jupyter-widgets/controls",
      "model_module_version": "1.4.0",
      "model_name": "SliderStyleModel",
      "state": {
       "description_width": ""
      }
     },
     "e9a3afe513d14da18fbd0439c834c1f9": {
      "model_module": "@jupyter-widgets/controls",
      "model_module_version": "1.4.0",
      "model_name": "FloatSliderModel",
      "state": {
       "description": "theta0",
       "layout": "IPY_MODEL_ce7b4a7519d14e0eba22b357b63ddace",
       "max": 2,
       "step": 0.5,
       "style": "IPY_MODEL_01b9229ef8ef4479872c84a104c05a9d",
       "value": 1
      }
     },
     "ea2d888e7c8642c9862f97ab3b97d0eb": {
      "model_module": "@jupyter-widgets/controls",
      "model_module_version": "1.4.0",
      "model_name": "VBoxModel",
      "state": {
       "_dom_classes": [
        "widget-interact"
       ],
       "children": [
        "IPY_MODEL_9a4b53db63ed4da3bd05dd280168a2f0",
        "IPY_MODEL_7c77198110ca41ed8d1ccd738d60f833",
        "IPY_MODEL_d3264b557c4246deb18d87dfc80eb298"
       ],
       "layout": "IPY_MODEL_4efabe5a8f3e49d097095a73c7d679e1"
      }
     },
     "ebb3e94c47654df8ac36327ea8a7a924": {
      "model_module": "@jupyter-widgets/base",
      "model_module_version": "1.1.0",
      "model_name": "LayoutModel",
      "state": {}
     },
     "ecbe83f162944dfa952aac6158ac4dba": {
      "model_module": "@jupyter-widgets/controls",
      "model_module_version": "1.4.0",
      "model_name": "FloatSliderModel",
      "state": {
       "description": "theta0",
       "layout": "IPY_MODEL_638e6ab728324b139696ef6b411f7a40",
       "max": 2,
       "step": 0.5,
       "style": "IPY_MODEL_2f7316fc92104d479c5b11b75baebaa4",
       "value": 1
      }
     },
     "ed0cf7942871442a968a791e1ced9b2b": {
      "model_module": "@jupyter-widgets/base",
      "model_module_version": "1.1.0",
      "model_name": "LayoutModel",
      "state": {}
     },
     "ee137716945b49c1ad71df3ce7236368": {
      "model_module": "@jupyter-widgets/base",
      "model_module_version": "1.1.0",
      "model_name": "LayoutModel",
      "state": {}
     },
     "ee5e5ff9450b40649588ac17ca84e8a8": {
      "model_module": "@jupyter-widgets/controls",
      "model_module_version": "1.4.0",
      "model_name": "VBoxModel",
      "state": {
       "_dom_classes": [
        "widget-interact"
       ],
       "children": [
        "IPY_MODEL_530120b42e3b4df6a75ae66cd3463c6c",
        "IPY_MODEL_894b26c0ef9b4b00ab2e2152ac96f279",
        "IPY_MODEL_c89e7b7e4bbd4871a5fb170b00295403"
       ],
       "layout": "IPY_MODEL_abda6e94584f42be896794cc149c2f9b"
      }
     },
     "eef08bb99f464d63bdb11c97181f70fc": {
      "model_module": "@jupyter-widgets/controls",
      "model_module_version": "1.4.0",
      "model_name": "VBoxModel",
      "state": {
       "_dom_classes": [
        "widget-interact"
       ],
       "children": [
        "IPY_MODEL_b6541624830d4d218e8cfeb0aea2b415",
        "IPY_MODEL_c8629226c1824b9faae7bbd429bfc300",
        "IPY_MODEL_4d55d24e770f451abb6ca5597a045658"
       ],
       "layout": "IPY_MODEL_cf96565f3e414429998bb5157ff500cc"
      }
     },
     "ef8fbe89f5d84186833906a0baf0afa7": {
      "model_module": "@jupyter-widgets/controls",
      "model_module_version": "1.4.0",
      "model_name": "SliderStyleModel",
      "state": {
       "description_width": ""
      }
     },
     "effdc5df5945463ea94f83a5ad3b878a": {
      "model_module": "@jupyter-widgets/base",
      "model_module_version": "1.1.0",
      "model_name": "LayoutModel",
      "state": {}
     },
     "f0af7f42b3a44182af3a92ccf6bc8517": {
      "model_module": "@jupyter-widgets/base",
      "model_module_version": "1.1.0",
      "model_name": "LayoutModel",
      "state": {}
     },
     "f0fc5ca75d674b098964a4fe67504f85": {
      "model_module": "@jupyter-widgets/base",
      "model_module_version": "1.1.0",
      "model_name": "LayoutModel",
      "state": {}
     },
     "f2349bb351c94a3dad04b3b2c6cc8e41": {
      "model_module": "@jupyter-widgets/controls",
      "model_module_version": "1.4.0",
      "model_name": "SliderStyleModel",
      "state": {
       "description_width": ""
      }
     },
     "f23a0d7edd3a4779ada4169c7f7bd5b9": {
      "model_module": "@jupyter-widgets/controls",
      "model_module_version": "1.4.0",
      "model_name": "SliderStyleModel",
      "state": {
       "description_width": ""
      }
     },
     "f38bae517e654456b0a1f9612d65fbb0": {
      "model_module": "@jupyter-widgets/base",
      "model_module_version": "1.1.0",
      "model_name": "LayoutModel",
      "state": {}
     },
     "f3ed4aa1272c404fa62e6827911f77e0": {
      "model_module": "@jupyter-widgets/base",
      "model_module_version": "1.1.0",
      "model_name": "LayoutModel",
      "state": {}
     },
     "f46cf2ebc8ee4af1b2a51a7a232076bd": {
      "model_module": "@jupyter-widgets/output",
      "model_module_version": "1.0.0",
      "model_name": "OutputModel",
      "state": {
       "layout": "IPY_MODEL_c12effb2f56d4a1699cbe253e6a4b0ad",
       "outputs": [
        {
         "data": {
          "image/png": "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\n",
          "text/plain": "<Figure size 432x288 with 1 Axes>"
         },
         "metadata": {
          "needs_background": "light"
         },
         "output_type": "display_data"
        }
       ]
      }
     },
     "f5683d8e6f684a35bf6ee9bfc954c80c": {
      "model_module": "@jupyter-widgets/base",
      "model_module_version": "1.1.0",
      "model_name": "LayoutModel",
      "state": {}
     },
     "f58e34bf443b4607a3e28a4b83b6aafe": {
      "model_module": "@jupyter-widgets/base",
      "model_module_version": "1.1.0",
      "model_name": "LayoutModel",
      "state": {}
     },
     "f5be7a5cf3714f16b849273c58cab33f": {
      "model_module": "@jupyter-widgets/base",
      "model_module_version": "1.1.0",
      "model_name": "LayoutModel",
      "state": {}
     },
     "f68737f05a564780b1eb394aa5025f7e": {
      "model_module": "@jupyter-widgets/controls",
      "model_module_version": "1.4.0",
      "model_name": "VBoxModel",
      "state": {
       "_dom_classes": [
        "widget-interact"
       ],
       "children": [
        "IPY_MODEL_a63296ef386f4520832e0cf2293ecbef",
        "IPY_MODEL_9121da7df8974122a54a81e1b79f997d",
        "IPY_MODEL_8ff00891f9db4cd19525d6ad1689dfe6"
       ],
       "layout": "IPY_MODEL_f58e34bf443b4607a3e28a4b83b6aafe"
      }
     },
     "f70a862e6b154f10866f44931db114a9": {
      "model_module": "@jupyter-widgets/base",
      "model_module_version": "1.1.0",
      "model_name": "LayoutModel",
      "state": {}
     },
     "f7253e58988f462a9712cfc9d3b5c58c": {
      "model_module": "@jupyter-widgets/controls",
      "model_module_version": "1.4.0",
      "model_name": "SliderStyleModel",
      "state": {
       "description_width": ""
      }
     },
     "f7e66807fbf64dd39f1e5db6f2844e45": {
      "model_module": "@jupyter-widgets/base",
      "model_module_version": "1.1.0",
      "model_name": "LayoutModel",
      "state": {}
     },
     "f8ce4c4f7b474e57bc794dcef68d3f01": {
      "model_module": "@jupyter-widgets/controls",
      "model_module_version": "1.4.0",
      "model_name": "FloatSliderModel",
      "state": {
       "description": "theta0",
       "layout": "IPY_MODEL_235cbb3d60ff4c68b9e86cd75e5179df",
       "max": 10,
       "step": 0.5,
       "style": "IPY_MODEL_204b120656e647449e24409d87cbe584",
       "value": 6.5
      }
     },
     "f91f0ff8046c41f7af89041a04b847a2": {
      "model_module": "@jupyter-widgets/base",
      "model_module_version": "1.1.0",
      "model_name": "LayoutModel",
      "state": {}
     },
     "f9e221e233fe4f7688c4bc03968d3720": {
      "model_module": "@jupyter-widgets/controls",
      "model_module_version": "1.4.0",
      "model_name": "FloatSliderModel",
      "state": {
       "description": "theta1",
       "layout": "IPY_MODEL_42da3b9ddc34479ba0e3bc049b7d1596",
       "max": 2,
       "step": 0.5,
       "style": "IPY_MODEL_aa020576891a4ec4af0d8f59c9fa7366",
       "value": 1
      }
     },
     "fb8b632228784bb1b5adcadd56f229b7": {
      "model_module": "@jupyter-widgets/controls",
      "model_module_version": "1.4.0",
      "model_name": "VBoxModel",
      "state": {
       "_dom_classes": [
        "widget-interact"
       ],
       "children": [
        "IPY_MODEL_0fccc1cb5637472a8bad334f91df81a0",
        "IPY_MODEL_e29ff168522048489e3c0ab416904b2c",
        "IPY_MODEL_7bb4138d04c6475aa095c9c74f2d9662"
       ],
       "layout": "IPY_MODEL_0c2c6d4d128448999c6245d37ec9f6a9"
      }
     },
     "fc2114e8222e456d86eabf496c714eb6": {
      "model_module": "@jupyter-widgets/controls",
      "model_module_version": "1.4.0",
      "model_name": "FloatSliderModel",
      "state": {
       "description": "theta1",
       "layout": "IPY_MODEL_c937c592777f4c11ba27ebbd8fc2315d",
       "max": 2,
       "step": 0.5,
       "style": "IPY_MODEL_3ab56135ea584fe6bb926fdfea984909",
       "value": 1
      }
     },
     "fc7ac40a7cee41f6b8e58af5b353de32": {
      "model_module": "@jupyter-widgets/controls",
      "model_module_version": "1.4.0",
      "model_name": "SliderStyleModel",
      "state": {
       "description_width": ""
      }
     },
     "fc9759c8e9cd48b29edf5e9f76c0597e": {
      "model_module": "@jupyter-widgets/controls",
      "model_module_version": "1.4.0",
      "model_name": "SliderStyleModel",
      "state": {
       "description_width": ""
      }
     },
     "fdc7d9c5aded4f0c9e68efa81375434c": {
      "model_module": "@jupyter-widgets/base",
      "model_module_version": "1.1.0",
      "model_name": "LayoutModel",
      "state": {}
     },
     "fe51a96e01a44f678632df747798f8af": {
      "model_module": "@jupyter-widgets/controls",
      "model_module_version": "1.4.0",
      "model_name": "SliderStyleModel",
      "state": {
       "description_width": ""
      }
     },
     "ff23ecc149ef49b8ac424fa8805d73cf": {
      "model_module": "@jupyter-widgets/controls",
      "model_module_version": "1.4.0",
      "model_name": "SliderStyleModel",
      "state": {
       "description_width": ""
      }
     },
     "ff8bdfa527e8465687ad27020a165975": {
      "model_module": "@jupyter-widgets/controls",
      "model_module_version": "1.4.0",
      "model_name": "SliderStyleModel",
      "state": {
       "description_width": ""
      }
     },
     "ffb4cb2db50d42a5b4368d77dcb594ce": {
      "model_module": "@jupyter-widgets/base",
      "model_module_version": "1.1.0",
      "model_name": "LayoutModel",
      "state": {}
     },
     "ffc1b99d63fc488c84962c811d5783a7": {
      "model_module": "@jupyter-widgets/base",
      "model_module_version": "1.1.0",
      "model_name": "LayoutModel",
      "state": {}
     }
    },
    "version_major": 2,
    "version_minor": 0
   }
  }
 },
 "nbformat": 4,
 "nbformat_minor": 2
}
